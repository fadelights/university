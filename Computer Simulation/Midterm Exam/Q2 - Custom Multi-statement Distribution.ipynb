{
 "cells": [
  {
   "cell_type": "markdown",
   "id": "2558e323",
   "metadata": {},
   "source": [
    "# Q2 - Custom Multi-statement Distribution"
   ]
  },
  {
   "cell_type": "markdown",
   "id": "60aebc71",
   "metadata": {},
   "source": [
    "_Arman Rezaei - 9723034_"
   ]
  },
  {
   "cell_type": "markdown",
   "id": "7eede127",
   "metadata": {},
   "source": [
    "**Observation**\n",
    "\n",
    "The shape of the Uniform distribution is symmetric, so the probability of\n",
    "drawing a sample from either side of 0.5 is 50%.\n",
    "\n",
    "**Distribution**\n",
    "\n",
    "$$\n",
    "Z =\n",
    "\\begin{cases}\n",
    "X & u \\le 0.5 \\\\\n",
    "Y & u >\n",
    "\\end{cases}\n",
    "$$\n",
    "\n",
    "**Algorithm**\n",
    "\n",
    "1. Draw a sample $u$ from $\\text{Uniform}(0, 1)$\n",
    "2. Draw a sample from $\\text{N}(0, 1)$ if $u \\le 0.5$; Draw a sample from $\\text{N}(1, 1)$ otherwise."
   ]
  },
  {
   "cell_type": "code",
   "execution_count": 1,
   "id": "46141abc",
   "metadata": {},
   "outputs": [
    {
     "name": "stdout",
     "output_type": "stream",
     "text": [
      "[1] 0.06341426 1.23004697 1.15044554 2.71757488 1.58444789\n"
     ]
    }
   ],
   "source": [
    "generate_rv <- function() {\n",
    "    sample <- runif(1)\n",
    "    if (sample <= 0.5)\n",
    "        return(rnorm(1, 0, 1))\n",
    "    else\n",
    "        return(rnorm(1, 1, 1))\n",
    "}\n",
    "\n",
    "# generate 5 random variates\n",
    "n <- 5\n",
    "rvs <- rep(0, n)\n",
    "\n",
    "for (i in 1:5) {\n",
    "    rvs[i] <- generate_rv()\n",
    "}\n",
    "\n",
    "print(rvs)"
   ]
  },
  {
   "cell_type": "code",
   "execution_count": 2,
   "id": "822d4676",
   "metadata": {},
   "outputs": [
    {
     "data": {
      "text/html": [
       "1.34918590865904"
      ],
      "text/latex": [
       "1.34918590865904"
      ],
      "text/markdown": [
       "1.34918590865904"
      ],
      "text/plain": [
       "[1] 1.349186"
      ]
     },
     "metadata": {},
     "output_type": "display_data"
    }
   ],
   "source": [
    "mean(rvs)"
   ]
  }
 ],
 "metadata": {
  "kernelspec": {
   "display_name": "R",
   "language": "R",
   "name": "ir"
  },
  "language_info": {
   "codemirror_mode": "r",
   "file_extension": ".r",
   "mimetype": "text/x-r-source",
   "name": "R",
   "pygments_lexer": "r",
   "version": "4.1.1"
  }
 },
 "nbformat": 4,
 "nbformat_minor": 5
}
