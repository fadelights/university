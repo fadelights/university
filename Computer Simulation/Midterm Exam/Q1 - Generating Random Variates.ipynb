{
 "cells": [
  {
   "cell_type": "markdown",
   "id": "6104119f",
   "metadata": {},
   "source": [
    "# Q1 - Generating Random Variates"
   ]
  },
  {
   "cell_type": "markdown",
   "id": "7c5ce978",
   "metadata": {},
   "source": [
    "_Arman Rezaei - 9723034_"
   ]
  },
  {
   "cell_type": "markdown",
   "id": "08787bf4",
   "metadata": {},
   "source": [
    "## Part 1: The Cauchy Distribution"
   ]
  },
  {
   "cell_type": "markdown",
   "id": "9b1ae2e0",
   "metadata": {},
   "source": [
    "We want to generate 5 samples from $C(0, 1)$ with pdf \n",
    "\n",
    "$$\n",
    "f(X = x) = \\frac{1}{\\pi} \\frac{1}{1+x^2}\n",
    "$$\n",
    "\n",
    "We will use the inverse transform method. The CDF is:\n",
    "\n",
    "$$\n",
    "F(X = x) = \\frac{\\arctan(x)}{\\pi}\n",
    "$$\n",
    "\n",
    "Please note that the code to calculate $F(X) = \\int{f(x) \\, dx}$ using **SymPy** is written below:\n",
    "\n",
    "```python\n",
    "# python code\n",
    "from sympy import *\n",
    "init_session()\n",
    "\n",
    "f = 1/pi * 1/(1+x**2)\n",
    "F = integrate(f, x)\n",
    "#############\n",
    "```"
   ]
  },
  {
   "cell_type": "code",
   "execution_count": 1,
   "id": "85aa18b0",
   "metadata": {},
   "outputs": [
    {
     "name": "stdout",
     "output_type": "stream",
     "text": [
      "[1] 0.15596752 0.03390587 0.23876154 0.21155400 0.07074715\n"
     ]
    }
   ],
   "source": [
    "n <- 5\n",
    "uniform_samples <- runif(n)\n",
    "cauchy_samples <- atan(uniform_samples) / pi\n",
    "\n",
    "print(cauchy_samples)"
   ]
  },
  {
   "cell_type": "markdown",
   "id": "3949ab01",
   "metadata": {},
   "source": [
    "## Part 2: The Beta Distribution"
   ]
  },
  {
   "cell_type": "markdown",
   "id": "c5195082",
   "metadata": {},
   "source": [
    "We will be using the inverse transform method, again.\n",
    "\n",
    "$$\n",
    "\\text{Beta}(3, 4) = \\frac{\\Gamma(3+4)}{\\Gamma(3)\\Gamma(4)} x^{3-1} (1-x)^{4-1} = 60 x^2 (1-x)^3\n",
    "$$\n",
    "\n",
    "Therefore the CDF is\n",
    "\n",
    "$$\n",
    "F(X = x) = \\int{f(x) \\, dx} =  - 10 x^{6} + 36 x^{5} - 45 x^{4} + 20 x^{3}\n",
    "$$\n",
    "\n",
    "Again, we have used SymPy to calculate the CDF:\n",
    "\n",
    "```python\n",
    "# python code\n",
    "from sympy import *\n",
    "init_session()\n",
    "\n",
    "f =  60 * x**2 * (1-x)**3\n",
    "F = integrate(f, x)\n",
    "#############\n",
    "```"
   ]
  },
  {
   "cell_type": "code",
   "execution_count": 2,
   "id": "2dfac516",
   "metadata": {},
   "outputs": [
    {
     "name": "stdout",
     "output_type": "stream",
     "text": [
      "[1] 0.320471181 0.007018565 0.998772726 0.496930811 0.966521687\n"
     ]
    }
   ],
   "source": [
    "n <- 5\n",
    "uniform_samples <- runif(n)\n",
    "beta_samples <- -10*uniform_samples^6 + 36*uniform_samples^5 - 45*uniform_samples^4 + 20*uniform_samples^3\n",
    "\n",
    "print(beta_samples)"
   ]
  },
  {
   "cell_type": "markdown",
   "id": "58b1a705",
   "metadata": {},
   "source": [
    "## Part 3: The Chi-squared Distribution"
   ]
  },
  {
   "cell_type": "markdown",
   "id": "16e1337b",
   "metadata": {},
   "source": [
    "There is a very clean method to generate Chi-squared samples from the Normal distribution called _Convolution_.\n",
    "\n",
    "Suppose $Z_{1}, \\ldots , Z_{\\nu}$ are iid $N(0,1)$ random variables,\n",
    "then $V = Z_1^2 + · · · + Z_{\\nu}^2$ has the $\\chi^2(\\nu)$ distribution.\n",
    "\n",
    "**Algorithm**\n",
    "\n",
    "1. Fill an $n \\times \\nu$ matrix with $n \\nu$ random $N(0,1)$ variates.\n",
    "2. Square each entry in the matrix.\n",
    "3. Compute the row sums of the squared normals. Each row sum is one random observation from the $\\chi^2(\\nu)$ distribution.\n",
    "4. Deliver the vector of row sums."
   ]
  },
  {
   "cell_type": "code",
   "execution_count": 3,
   "id": "22a55fdd",
   "metadata": {},
   "outputs": [
    {
     "name": "stdout",
     "output_type": "stream",
     "text": [
      "[1] 2.321693 3.397430 3.789409 1.013914 2.833370\n"
     ]
    }
   ],
   "source": [
    "n <- 5\n",
    "nu <- 4\n",
    "X <- matrix(rnorm(n*nu), n, nu)^2 # matrix of sq. normals\n",
    "\n",
    "# sum the squared normals across each row\n",
    "y <- rowSums(X)\n",
    "\n",
    "print(y)"
   ]
  },
  {
   "cell_type": "markdown",
   "id": "376b7bcc",
   "metadata": {},
   "source": [
    "## Part 4: The Binomial Distribution"
   ]
  },
  {
   "cell_type": "markdown",
   "id": "cf945681",
   "metadata": {},
   "source": [
    "The inverse transform may be a bit tricky here. Here is the algorithm.\n",
    "\n",
    "**Algorithm**\n",
    "\n",
    "1. Generate $n$ iid rvs $U_1, U_2, \\ldots , U_n \\sim \\text{Unif}(0, 1)$.\n",
    "2. For each $1 \\le i \\le n$, set $Y_i = 0$ if $U_i \\le 1 − p$; $Y_i = 1$ if $U_i > 1 − p$. (This yields $n$ iid $\\text{Bernoulli}(p)$ rvs.)\n",
    "3. Set $X = \\sum_{i=1}^{n}{Y_i}$\n"
   ]
  },
  {
   "cell_type": "code",
   "execution_count": 4,
   "id": "86221d2b",
   "metadata": {},
   "outputs": [
    {
     "name": "stdout",
     "output_type": "stream",
     "text": [
      "[1] 2 3 2 3 2\n"
     ]
    }
   ],
   "source": [
    "# binomial parameters\n",
    "n_param <- 4\n",
    "p <- 0.6\n",
    "\n",
    "# function to generate binom according to algorithm\n",
    "generate_binom <- function(n_param, p) {\n",
    "    unif_samples <- runif(n_param)\n",
    "    y <- rep(0, n_param)\n",
    "    \n",
    "    for (i in 1:n_param) {\n",
    "        if (unif_samples[i] <= 1 - p)\n",
    "            y[i] = 0\n",
    "        else\n",
    "            y[i] = 1\n",
    "    }\n",
    "    \n",
    "    return(sum(y))\n",
    "}\n",
    "\n",
    "# number of samples to generate\n",
    "n <- 5\n",
    "binom_samples <- rep(0, n)\n",
    "\n",
    "for (i in 1:n) {\n",
    "    binom_samples[i] <- generate_binom(n_param, p)\n",
    "}\n",
    "\n",
    "print(binom_samples)"
   ]
  }
 ],
 "metadata": {
  "kernelspec": {
   "display_name": "R",
   "language": "R",
   "name": "ir"
  },
  "language_info": {
   "codemirror_mode": "r",
   "file_extension": ".r",
   "mimetype": "text/x-r-source",
   "name": "R",
   "pygments_lexer": "r",
   "version": "4.1.1"
  }
 },
 "nbformat": 4,
 "nbformat_minor": 5
}
