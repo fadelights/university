{
 "cells": [
  {
   "cell_type": "markdown",
   "metadata": {
    "id": "BDzQKzXSp6W3"
   },
   "source": [
    "# Q3 - Rejection Sampling"
   ]
  },
  {
   "cell_type": "markdown",
   "metadata": {},
   "source": [
    "_Arman Rezaei - 9723034_"
   ]
  },
  {
   "cell_type": "markdown",
   "metadata": {
    "id": "4uH8Arl7qBX0"
   },
   "source": [
    "**Important Notes**\n",
    "\n",
    "- The _target_ distribution's density function will be denoted with $f(x)$\n",
    "- The _trial_ distribution's density function will be denoted with $g(x)$"
   ]
  },
  {
   "cell_type": "markdown",
   "metadata": {
    "id": "gss04vkDrFCC"
   },
   "source": [
    "**Basic Algorithm**\n",
    "\n",
    "1. Generate $U \\sim \\text{Uniform(0, 1)}$\n",
    "2. Generate $X \\sim g(x)$\n",
    "3. If $U \\le \\frac{f(X)}{M \\cdot g(X)}$ then accept $X$ as a realization from\n",
    "$f(x)$, otherwise reject $X$ and try again"
   ]
  },
  {
   "cell_type": "markdown",
   "metadata": {
    "id": "0hMQS3wbwNF9"
   },
   "source": [
    "**Goals**\n",
    "\n",
    "Our goal in this notebook is to generate random samples for the Normal distribution using the Cauchy distribution as our trial."
   ]
  },
  {
   "cell_type": "markdown",
   "metadata": {
    "id": "TrvbjsOewa1p"
   },
   "source": [
    "## Step 1: Visualizing Our Distributions\n",
    "\n",
    "Here is a quick visualization so things can stand in prespective."
   ]
  },
  {
   "cell_type": "code",
   "execution_count": 1,
   "metadata": {
    "colab": {
     "base_uri": "https://localhost:8080/",
     "height": 437
    },
    "id": "QbosFHtotdPW",
    "outputId": "db13628c-2053-45ee-f63e-07513a2fa828"
   },
   "outputs": [
    {
     "data": {
      "image/png": "[encoded data removed]",
      "text/plain": [
       "plot without title"
      ]
     },
     "metadata": {
      "image/png": {
       "height": 420,
       "width": 420
      }
     },
     "output_type": "display_data"
    }
   ],
   "source": [
    "x <- seq(-3, 3, .01)\n",
    "\n",
    "plot(x, dcauchy(x), type=\"l\", col=\"red\", ylim=c(0, .4), xlab=\"X\", ylab=\"Density\")\n",
    "lines(x, dnorm(x))\n",
    "\n",
    "legend(\"topright\", legend=c(\"Cauchy\", \"Normal\"), lty=1, col=c(\"red\", \"black\"), bty=\"n\")"
   ]
  },
  {
   "cell_type": "markdown",
   "metadata": {
    "id": "6UqlRmzewyzg"
   },
   "source": [
    "## Step 2: Calculating $M$"
   ]
  },
  {
   "cell_type": "markdown",
   "metadata": {
    "id": "A02P4ROWyPYJ"
   },
   "source": [
    "$$\n",
    "f(x) = \\frac{1}{\\sqrt{2 \\pi}} e^{\\tfrac{-x^2}{2}}\n",
    "$$\n",
    "\n",
    "$$\n",
    "g(x) = \\frac{1}{\\pi} \\frac{1}{1 + x^2}\n",
    "$$\n",
    "\n",
    "$$\n",
    "\\frac{f(x)}{g(x)} = \\sqrt{\\frac{\\pi}{2}} (1 + x^2) e^{\\tfrac{-x^2}{2}} \\le\n",
    "\\sqrt{\\frac{2 \\pi}{e}} \\simeq 1.52\n",
    "$$"
   ]
  },
  {
   "cell_type": "markdown",
   "metadata": {},
   "source": [
    "Please take note that we used the following piece of code from Python's **SymPy** to calculate the limits of $\\frac{f(x)}{g(x)}$:\n",
    "\n",
    "```python\n",
    "from sympy import *\n",
    "init_session()\n",
    "\n",
    "# define functions\n",
    "f = 1/sqrt(2*pi) * exp(-x**2 / 2)\n",
    "g = 1/pi * 1/(1 + x**2)\n",
    "\n",
    "expr = f/g\n",
    "\n",
    "# calculate derivative\n",
    "diff_expr = diff(expr, x)\n",
    "\n",
    "# solve for \"diff_expr = 0\"\n",
    "answers = solveset(diff_expr)\n",
    "print(answers)  # {-1, 0, 1}\n",
    "\n",
    "# plot function so we can determine minima and maxima\n",
    "plot(expr)  # 0 returns a minima and -1, 1 are global maximas\n",
    "\n",
    "# the limit of \"expr\"\n",
    "answer = expr.subs(x, -1).evalf()\n",
    "print(f\"The limit is {answer:.2f}\")\n",
    "```"
   ]
  },
  {
   "cell_type": "markdown",
   "metadata": {
    "id": "sGH6BxMWz834"
   },
   "source": [
    "## Step 3: Coding it All"
   ]
  },
  {
   "cell_type": "code",
   "execution_count": 2,
   "metadata": {
    "id": "YQFlFegd0Ami"
   },
   "outputs": [],
   "source": [
    "# sample size\n",
    "n <- 10000\n",
    "M <- 1.52\n",
    "\n",
    "# function to determine acception/rejection\n",
    "accept <- function(x) {\n",
    "  u <- runif(1)\n",
    "  if ( (1/M * (pi / 2)^.5 * (1 + x^2) * exp(-x^2 / 2)) > u) {\n",
    "    return(TRUE)\n",
    "  }\n",
    "  return(FALSE)\n",
    "}\n",
    "\n",
    "\n",
    "# trials\n",
    "X <- rep(0, n)\n",
    "niter <- 0\n",
    "sample <- NULL\n",
    "\n",
    "for (i in 1:n) {\n",
    "  # keep trying until acception\n",
    "  flag <- FALSE\n",
    "  while (flag == FALSE) {\n",
    "    # increment counter\n",
    "    niter <- niter + 1\n",
    "\n",
    "    # generate candidate\n",
    "    sample <- rcauchy(1)\n",
    "    flag <- accept(sample)\n",
    "  }\n",
    "\n",
    "  X[i] <- sample\n",
    "}"
   ]
  },
  {
   "cell_type": "code",
   "execution_count": 3,
   "metadata": {
    "colab": {
     "base_uri": "https://localhost:8080/",
     "height": 34
    },
    "id": "bHqQIeBA4ToZ",
    "outputId": "d67d0b18-0223-47af-83f8-2f76b7d2d6a4"
   },
   "outputs": [
    {
     "data": {
      "text/html": [
       "0.00108225520591382"
      ],
      "text/latex": [
       "0.00108225520591382"
      ],
      "text/markdown": [
       "0.00108225520591382"
      ],
      "text/plain": [
       "[1] 0.001082255"
      ]
     },
     "metadata": {},
     "output_type": "display_data"
    }
   ],
   "source": [
    "mean(X)"
   ]
  },
  {
   "cell_type": "code",
   "execution_count": 4,
   "metadata": {
    "colab": {
     "base_uri": "https://localhost:8080/",
     "height": 34
    },
    "id": "JadJl3Wp4fDk",
    "outputId": "d67fc6b9-826d-41a5-b966-54247090aab3"
   },
   "outputs": [
    {
     "data": {
      "text/html": [
       "0.980452787713117"
      ],
      "text/latex": [
       "0.980452787713117"
      ],
      "text/markdown": [
       "0.980452787713117"
      ],
      "text/plain": [
       "[1] 0.9804528"
      ]
     },
     "metadata": {},
     "output_type": "display_data"
    }
   ],
   "source": [
    "var(X)"
   ]
  },
  {
   "cell_type": "code",
   "execution_count": 5,
   "metadata": {
    "colab": {
     "base_uri": "https://localhost:8080/",
     "height": 34
    },
    "id": "EllH0Iyo4hMr",
    "outputId": "8b5cfde9-a9ee-47ad-fef1-d3ee42b49d9f"
   },
   "outputs": [
    {
     "data": {
      "text/html": [
       "15280"
      ],
      "text/latex": [
       "15280"
      ],
      "text/markdown": [
       "15280"
      ],
      "text/plain": [
       "[1] 15280"
      ]
     },
     "metadata": {},
     "output_type": "display_data"
    }
   ],
   "source": [
    "niter"
   ]
  },
  {
   "cell_type": "markdown",
   "metadata": {
    "id": "7rK7ylgV4jCz"
   },
   "source": [
    "We can see that the mean and variance are very close to the theoretical mean and variance of the Normal distribution. Also note that the number of iterations required is \n",
    "\n",
    "$$\n",
    "M \\cdot n = 1.52 \\times 10000 \\simeq 15200\n",
    "$$\n",
    "\n",
    "Also, keep in mind that\n",
    "\n",
    "$$\n",
    "P(\\text{accept}) = \\dfrac{1}{M} = \\dfrac{1}{52} = .66\n",
    "$$"
   ]
  },
  {
   "cell_type": "markdown",
   "metadata": {},
   "source": [
    "## Step 4: Generating 5 Random Variates"
   ]
  },
  {
   "cell_type": "code",
   "execution_count": 6,
   "metadata": {},
   "outputs": [
    {
     "name": "stdout",
     "output_type": "stream",
     "text": [
      "[1]  0.05767254  0.03340663  0.03644511  1.49799635 -1.25518305\n"
     ]
    }
   ],
   "source": [
    "n <- 5\n",
    "\n",
    "X <- rep(0, n)\n",
    "sample <- NULL\n",
    "\n",
    "for (i in 1:n) {\n",
    "  # keep trying until acception\n",
    "  flag <- FALSE\n",
    "  while (flag == FALSE) {\n",
    "    # generate candidate\n",
    "    sample <- rcauchy(1)\n",
    "    flag <- accept(sample)\n",
    "  }\n",
    "\n",
    "  X[i] <- sample\n",
    "}\n",
    "\n",
    "print(X)"
   ]
  }
 ],
 "metadata": {
  "colab": {
   "collapsed_sections": [],
   "name": "Rejection Sampling.ipynb",
   "provenance": []
  },
  "kernelspec": {
   "display_name": "R",
   "language": "R",
   "name": "ir"
  },
  "language_info": {
   "codemirror_mode": "r",
   "file_extension": ".r",
   "mimetype": "text/x-r-source",
   "name": "R",
   "pygments_lexer": "r",
   "version": "4.1.1"
  }
 },
 "nbformat": 4,
 "nbformat_minor": 1
}
