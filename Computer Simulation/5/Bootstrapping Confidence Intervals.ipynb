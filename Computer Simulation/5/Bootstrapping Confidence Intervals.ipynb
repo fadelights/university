{
 "cells": [
  {
   "cell_type": "markdown",
   "id": "b2378acc-2a4c-4f50-a3ce-b896d901df43",
   "metadata": {},
   "source": [
    "_Arman Rezaei - 9723034_"
   ]
  },
  {
   "cell_type": "code",
   "execution_count": 1,
   "id": "46b5159e-7e58-4c7d-908a-d8f15035fef8",
   "metadata": {},
   "outputs": [],
   "source": [
    "set.seed(9723034)"
   ]
  },
  {
   "cell_type": "markdown",
   "id": "50db6f74-ccc4-496b-b334-bd2230312e69",
   "metadata": {},
   "source": [
    "We want to generate $16$ normal random variates with $\\mu = 4$ (the last digit of my student number) and standard deviation $\\sigma = 2$."
   ]
  },
  {
   "cell_type": "code",
   "execution_count": 2,
   "id": "34bd7d25-b9f8-49ce-b7bc-de747d1e5290",
   "metadata": {},
   "outputs": [],
   "source": [
    "# generate 16 random samples from normal distribution\n",
    "mu <- 4\n",
    "sigma <- 2\n",
    "size <- 16\n",
    "\n",
    "samples <- rnorm(size, mean = mu, sd = sigma)"
   ]
  },
  {
   "cell_type": "markdown",
   "id": "6f9e4e4a-2279-4d44-a35c-0b74266b1612",
   "metadata": {},
   "source": [
    "The $95\\%$ confidence interval for such a distribution is calculated below."
   ]
  },
  {
   "cell_type": "code",
   "execution_count": 3,
   "id": "d7eae718-350c-4a93-bc56-54b0bb0b736c",
   "metadata": {},
   "outputs": [
    {
     "data": {
      "text/html": [
       "<style>\n",
       ".list-inline {list-style: none; margin:0; padding: 0}\n",
       ".list-inline>li {display: inline-block}\n",
       ".list-inline>li:not(:last-child)::after {content: \"\\00b7\"; padding: 0 .5ex}\n",
       "</style>\n",
       "<ol class=list-inline><li>0.08</li><li>7.92</li></ol>\n"
      ],
      "text/latex": [
       "\\begin{enumerate*}\n",
       "\\item 0.08\n",
       "\\item 7.92\n",
       "\\end{enumerate*}\n"
      ],
      "text/markdown": [
       "1. 0.08\n",
       "2. 7.92\n",
       "\n",
       "\n"
      ],
      "text/plain": [
       "[1] 0.08 7.92"
      ]
     },
     "metadata": {},
     "output_type": "display_data"
    }
   ],
   "source": [
    "# calculate 95% confidence interval\n",
    "round(c(mu - 1.96*sigma, mu + 1.96*sigma), 2)"
   ]
  },
  {
   "cell_type": "markdown",
   "id": "893297ee-d694-4f9c-8c28-58c352e7522d",
   "metadata": {},
   "source": [
    "### Estimated Mean Confidence Interval"
   ]
  },
  {
   "cell_type": "markdown",
   "id": "4f2b4440-5767-4cf1-a27d-61bfe8752285",
   "metadata": {},
   "source": [
    "Now, assuming the standard deviation is unknown, we would like to calculate the mean's confidence interval estimate using bootstrapping."
   ]
  },
  {
   "cell_type": "code",
   "execution_count": 4,
   "id": "63f3334c-266d-406c-a08d-0c7d8bebc65c",
   "metadata": {},
   "outputs": [
    {
     "data": {
      "text/html": [
       "4.80886789975342"
      ],
      "text/latex": [
       "4.80886789975342"
      ],
      "text/markdown": [
       "4.80886789975342"
      ],
      "text/plain": [
       "[1] 4.808868"
      ]
     },
     "metadata": {},
     "output_type": "display_data"
    },
    {
     "data": {
      "text/html": [
       "0.525517116379012"
      ],
      "text/latex": [
       "0.525517116379012"
      ],
      "text/markdown": [
       "0.525517116379012"
      ],
      "text/plain": [
       "[1] 0.5255171"
      ]
     },
     "metadata": {},
     "output_type": "display_data"
    }
   ],
   "source": [
    "m <- 1000\n",
    "# the mean estimate array\n",
    "theta.hat <- numeric(m)\n",
    "for (i in 1:m) {\n",
    "    new.samples <- sample(samples, size = size, replace = TRUE)\n",
    "    theta.hat[i] <- mean(new.samples)\n",
    "}\n",
    "\n",
    "# mean of means\n",
    "final.mean <- mean(theta.hat)\n",
    "final.mean\n",
    "\n",
    "# standard error\n",
    "mean.se <- sd(theta.hat)\n",
    "mean.se"
   ]
  },
  {
   "cell_type": "markdown",
   "id": "61ae8bb2-bde8-42da-83ea-c1738f20e8ba",
   "metadata": {},
   "source": [
    "The first method is using the _Standard Normal Confidence Interval_ approach:\n",
    "\n",
    "$$\n",
    "\\hat{\\theta} \\pm z_{\\alpha/2} se(\\hat{\\theta})\n",
    "$$"
   ]
  },
  {
   "cell_type": "code",
   "execution_count": 5,
   "id": "ebe78df3-4999-4a70-943a-6fee3365ccda",
   "metadata": {},
   "outputs": [
    {
     "data": {
      "text/html": [
       "<style>\n",
       ".list-inline {list-style: none; margin:0; padding: 0}\n",
       ".list-inline>li {display: inline-block}\n",
       ".list-inline>li:not(:last-child)::after {content: \"\\00b7\"; padding: 0 .5ex}\n",
       "</style>\n",
       "<ol class=list-inline><li>3.77885435165056</li><li>5.83888144785628</li></ol>\n"
      ],
      "text/latex": [
       "\\begin{enumerate*}\n",
       "\\item 3.77885435165056\n",
       "\\item 5.83888144785628\n",
       "\\end{enumerate*}\n"
      ],
      "text/markdown": [
       "1. 3.77885435165056\n",
       "2. 5.83888144785628\n",
       "\n",
       "\n"
      ],
      "text/plain": [
       "[1] 3.778854 5.838881"
      ]
     },
     "metadata": {},
     "output_type": "display_data"
    }
   ],
   "source": [
    "# 95% CI estimate\n",
    "stdnorm.ci <- c(final.mean - 1.96*mean.se, final.mean + 1.96*mean.se)\n",
    "stdnorm.ci"
   ]
  },
  {
   "cell_type": "markdown",
   "id": "97dabbe3-c66e-4efa-8800-6d7adffd650e",
   "metadata": {},
   "source": [
    "The second approach uses _percentiles_:\n",
    "\n",
    "$$\n",
    "\\left( \\hat{\\theta}_{\\alpha/2}, \\quad \\hat{\\theta}_{1-\\alpha/2} \\right)\n",
    "$$"
   ]
  },
  {
   "cell_type": "code",
   "execution_count": 6,
   "id": "36f80cc8-a363-464d-8ace-8dae3d9664b4",
   "metadata": {},
   "outputs": [
    {
     "data": {
      "text/html": [
       "<style>\n",
       ".dl-inline {width: auto; margin:0; padding: 0}\n",
       ".dl-inline>dt, .dl-inline>dd {float: none; width: auto; display: inline-block}\n",
       ".dl-inline>dt::after {content: \":\\0020\"; padding-right: .5ex}\n",
       ".dl-inline>dt:not(:first-of-type) {padding-left: .5ex}\n",
       "</style><dl class=dl-inline><dt>2.5%</dt><dd>3.7182633165611</dd><dt>97.5%</dt><dd>5.80055015154562</dd></dl>\n"
      ],
      "text/latex": [
       "\\begin{description*}\n",
       "\\item[2.5\\textbackslash{}\\%] 3.7182633165611\n",
       "\\item[97.5\\textbackslash{}\\%] 5.80055015154562\n",
       "\\end{description*}\n"
      ],
      "text/markdown": [
       "2.5%\n",
       ":   3.718263316561197.5%\n",
       ":   5.80055015154562\n",
       "\n"
      ],
      "text/plain": [
       "    2.5%    97.5% \n",
       "3.718263 5.800550 "
      ]
     },
     "metadata": {},
     "output_type": "display_data"
    }
   ],
   "source": [
    "# 95% CI estimate using percentiles\n",
    "percentil.ci <- quantile(theta.hat, c(0.025, 0.975))\n",
    "percentil.ci"
   ]
  },
  {
   "cell_type": "markdown",
   "id": "5e3d07e1-6f42-422d-8d67-3cd8836bb2c0",
   "metadata": {},
   "source": [
    "Another method would be using the _Basic Confidence Interval Method_:\n",
    "\n",
    "$$\n",
    "\\left( 2 \\hat{\\theta} - \\hat{\\theta}_{1 - \\alpha/2} ,\\quad 2\\hat{\\theta} - \\hat{\\theta}_{\\alpha/2} \\right)\n",
    "$$"
   ]
  },
  {
   "cell_type": "code",
   "execution_count": 7,
   "id": "f7ffcaa1-e0ea-4c4c-87ee-d063c8847f3c",
   "metadata": {},
   "outputs": [
    {
     "data": {
      "text/html": [
       "<style>\n",
       ".dl-inline {width: auto; margin:0; padding: 0}\n",
       ".dl-inline>dt, .dl-inline>dd {float: none; width: auto; display: inline-block}\n",
       ".dl-inline>dt::after {content: \":\\0020\"; padding-right: .5ex}\n",
       ".dl-inline>dt:not(:first-of-type) {padding-left: .5ex}\n",
       "</style><dl class=dl-inline><dt>2.5%</dt><dd>3.81718564796122</dd><dt>97.5%</dt><dd>5.89947248294574</dd></dl>\n"
      ],
      "text/latex": [
       "\\begin{description*}\n",
       "\\item[2.5\\textbackslash{}\\%] 3.81718564796122\n",
       "\\item[97.5\\textbackslash{}\\%] 5.89947248294574\n",
       "\\end{description*}\n"
      ],
      "text/markdown": [
       "2.5%\n",
       ":   3.8171856479612297.5%\n",
       ":   5.89947248294574\n",
       "\n"
      ],
      "text/plain": [
       "    2.5%    97.5% \n",
       "3.817186 5.899472 "
      ]
     },
     "metadata": {},
     "output_type": "display_data"
    }
   ],
   "source": [
    "basic.ci <- c(2*final.mean - quantile(theta.hat, 0.975), 2*final.mean - quantile(theta.hat, 0.025))\n",
    "names(basic.ci) <- c(\"2.5%\", \"97.5%\")\n",
    "basic.ci"
   ]
  },
  {
   "cell_type": "markdown",
   "id": "db7aee61-ea70-43c2-bc48-8f15994b854f",
   "metadata": {},
   "source": [
    "Finally, we can use the `boot` package and its `boot.ci` function to calculate all these statistics at once."
   ]
  },
  {
   "cell_type": "code",
   "execution_count": 8,
   "id": "bc73215b-cf80-4eb4-9610-10b8db099f01",
   "metadata": {},
   "outputs": [
    {
     "name": "stderr",
     "output_type": "stream",
     "text": [
      "Warning message:\n",
      "\"package 'boot' was built under R version 4.1.2\"\n"
     ]
    },
    {
     "data": {
      "text/plain": [
       "\n",
       "ORDINARY NONPARAMETRIC BOOTSTRAP\n",
       "\n",
       "\n",
       "Call:\n",
       "boot(data = samples, statistic = theta.mean.boot, R = m)\n",
       "\n",
       "\n",
       "Bootstrap Statistics :\n",
       "    original      bias    std. error\n",
       "t1* 4.785733 0.003897573   0.5137945"
      ]
     },
     "metadata": {},
     "output_type": "display_data"
    }
   ],
   "source": [
    "# install.packages(\"boot\")\n",
    "library(boot)\n",
    "\n",
    "theta.mean.boot <- function(data, index) {\n",
    "    mean(data[index])\n",
    "}\n",
    "\n",
    "boot.obj <- boot(samples, statistic = theta.mean.boot, R = m)\n",
    "boot.obj"
   ]
  },
  {
   "cell_type": "code",
   "execution_count": 9,
   "id": "6905007a-9cd3-41a5-ba31-1de05d208883",
   "metadata": {},
   "outputs": [
    {
     "data": {
      "text/plain": [
       "BOOTSTRAP CONFIDENCE INTERVAL CALCULATIONS\n",
       "Based on 1000 bootstrap replicates\n",
       "\n",
       "CALL : \n",
       "boot.ci(boot.out = boot.obj, type = c(\"norm\", \"perc\", \"basic\"))\n",
       "\n",
       "Intervals : \n",
       "Level      Normal              Basic              Percentile     \n",
       "95%   ( 3.775,  5.789 )   ( 3.785,  5.773 )   ( 3.798,  5.786 )  \n",
       "Calculations and Intervals on Original Scale"
      ]
     },
     "metadata": {},
     "output_type": "display_data"
    }
   ],
   "source": [
    "boot.ci(boot.obj, type = c(\"norm\", \"perc\", \"basic\"))"
   ]
  },
  {
   "cell_type": "markdown",
   "id": "89b061b5-5a6c-44d1-9e1d-a0b7fcfe990c",
   "metadata": {},
   "source": [
    "Between all these CIs, the one with the largest range is the most suitable one; namely, the _standard normal_ approach."
   ]
  },
  {
   "cell_type": "markdown",
   "id": "25266e01-4cef-4d71-8874-4f0cd8d9573a",
   "metadata": {},
   "source": [
    "### Estimated Variance Confidence Interval"
   ]
  },
  {
   "cell_type": "markdown",
   "id": "10e79222-1287-486d-84aa-4fcde474ee98",
   "metadata": {},
   "source": [
    "We will repeat the same process for the variance."
   ]
  },
  {
   "cell_type": "code",
   "execution_count": 10,
   "id": "c519a311-d847-4c8a-ae5b-fa74c5369aaf",
   "metadata": {},
   "outputs": [
    {
     "data": {
      "text/html": [
       "4.18094908165836"
      ],
      "text/latex": [
       "4.18094908165836"
      ],
      "text/markdown": [
       "4.18094908165836"
      ],
      "text/plain": [
       "[1] 4.180949"
      ]
     },
     "metadata": {},
     "output_type": "display_data"
    },
    {
     "data": {
      "text/html": [
       "1.43681269797142"
      ],
      "text/latex": [
       "1.43681269797142"
      ],
      "text/markdown": [
       "1.43681269797142"
      ],
      "text/plain": [
       "[1] 1.436813"
      ]
     },
     "metadata": {},
     "output_type": "display_data"
    }
   ],
   "source": [
    "m <- 1000\n",
    "# the var estimate array\n",
    "theta.hat <- numeric(m)\n",
    "for (i in 1:m) {\n",
    "    new.samples <- sample(samples, size = size, replace = TRUE)\n",
    "    theta.hat[i] <- var(new.samples)\n",
    "}\n",
    "\n",
    "# mean of variances\n",
    "final.var <- mean(theta.hat)\n",
    "final.var\n",
    "\n",
    "# standard error\n",
    "var.se <- sd(theta.hat)\n",
    "var.se"
   ]
  },
  {
   "cell_type": "code",
   "execution_count": 11,
   "id": "b299bbff-6d08-4c1c-aefb-5efaab261bdf",
   "metadata": {},
   "outputs": [
    {
     "data": {
      "text/html": [
       "<style>\n",
       ".list-inline {list-style: none; margin:0; padding: 0}\n",
       ".list-inline>li {display: inline-block}\n",
       ".list-inline>li:not(:last-child)::after {content: \"\\00b7\"; padding: 0 .5ex}\n",
       "</style>\n",
       "<ol class=list-inline><li>1.36479619363437</li><li>6.99710196968235</li></ol>\n"
      ],
      "text/latex": [
       "\\begin{enumerate*}\n",
       "\\item 1.36479619363437\n",
       "\\item 6.99710196968235\n",
       "\\end{enumerate*}\n"
      ],
      "text/markdown": [
       "1. 1.36479619363437\n",
       "2. 6.99710196968235\n",
       "\n",
       "\n"
      ],
      "text/plain": [
       "[1] 1.364796 6.997102"
      ]
     },
     "metadata": {},
     "output_type": "display_data"
    }
   ],
   "source": [
    "# 95% CI estimate\n",
    "stdnorm.ci <- c(final.var - 1.96*var.se, final.var + 1.96*var.se)\n",
    "stdnorm.ci"
   ]
  },
  {
   "cell_type": "code",
   "execution_count": 12,
   "id": "c1a93c6e-367f-45bb-b5bb-d43d4e833e14",
   "metadata": {},
   "outputs": [
    {
     "data": {
      "text/html": [
       "<style>\n",
       ".dl-inline {width: auto; margin:0; padding: 0}\n",
       ".dl-inline>dt, .dl-inline>dd {float: none; width: auto; display: inline-block}\n",
       ".dl-inline>dt::after {content: \":\\0020\"; padding-right: .5ex}\n",
       ".dl-inline>dt:not(:first-of-type) {padding-left: .5ex}\n",
       "</style><dl class=dl-inline><dt>2.5%</dt><dd>1.74776771688894</dd><dt>97.5%</dt><dd>7.1926556511908</dd></dl>\n"
      ],
      "text/latex": [
       "\\begin{description*}\n",
       "\\item[2.5\\textbackslash{}\\%] 1.74776771688894\n",
       "\\item[97.5\\textbackslash{}\\%] 7.1926556511908\n",
       "\\end{description*}\n"
      ],
      "text/markdown": [
       "2.5%\n",
       ":   1.7477677168889497.5%\n",
       ":   7.1926556511908\n",
       "\n"
      ],
      "text/plain": [
       "    2.5%    97.5% \n",
       "1.747768 7.192656 "
      ]
     },
     "metadata": {},
     "output_type": "display_data"
    }
   ],
   "source": [
    "# 95% CI estimate using percentiles\n",
    "percentil.ci <- quantile(theta.hat, c(0.025, 0.975))\n",
    "percentil.ci"
   ]
  },
  {
   "cell_type": "code",
   "execution_count": 13,
   "id": "fd72b4e2-e96e-427d-b5fb-fa848db16c48",
   "metadata": {},
   "outputs": [
    {
     "data": {
      "text/html": [
       "<style>\n",
       ".dl-inline {width: auto; margin:0; padding: 0}\n",
       ".dl-inline>dt, .dl-inline>dd {float: none; width: auto; display: inline-block}\n",
       ".dl-inline>dt::after {content: \":\\0020\"; padding-right: .5ex}\n",
       ".dl-inline>dt:not(:first-of-type) {padding-left: .5ex}\n",
       "</style><dl class=dl-inline><dt>2.5%</dt><dd>1.16924251212592</dd><dt>97.5%</dt><dd>6.61413044642778</dd></dl>\n"
      ],
      "text/latex": [
       "\\begin{description*}\n",
       "\\item[2.5\\textbackslash{}\\%] 1.16924251212592\n",
       "\\item[97.5\\textbackslash{}\\%] 6.61413044642778\n",
       "\\end{description*}\n"
      ],
      "text/markdown": [
       "2.5%\n",
       ":   1.1692425121259297.5%\n",
       ":   6.61413044642778\n",
       "\n"
      ],
      "text/plain": [
       "    2.5%    97.5% \n",
       "1.169243 6.614130 "
      ]
     },
     "metadata": {},
     "output_type": "display_data"
    }
   ],
   "source": [
    "# 95% using basic CI \n",
    "basic.ci <- c(2*final.var - quantile(theta.hat, 0.975), 2*final.var - quantile(theta.hat, 0.025))\n",
    "names(basic.ci) <- c(\"2.5%\", \"97.5%\")\n",
    "basic.ci"
   ]
  },
  {
   "cell_type": "code",
   "execution_count": 14,
   "id": "12f42051-6c0c-4936-b344-f6e126393214",
   "metadata": {},
   "outputs": [
    {
     "data": {
      "text/plain": [
       "\n",
       "ORDINARY NONPARAMETRIC BOOTSTRAP\n",
       "\n",
       "\n",
       "Call:\n",
       "boot(data = samples, statistic = theta.var.boot, R = m)\n",
       "\n",
       "\n",
       "Bootstrap Statistics :\n",
       "    original     bias    std. error\n",
       "t1* 4.505634 -0.2364257     1.52481"
      ]
     },
     "metadata": {},
     "output_type": "display_data"
    }
   ],
   "source": [
    "# 95% CI using boot.ci\n",
    "library(boot)\n",
    "\n",
    "theta.var.boot <- function(data, index) {\n",
    "    var(data[index])\n",
    "}\n",
    "\n",
    "boot.obj <- boot(samples, statistic = theta.var.boot, R = m)\n",
    "boot.obj"
   ]
  },
  {
   "cell_type": "code",
   "execution_count": 15,
   "id": "04bf532f-c26b-4ba6-ac7f-826c6b3e4041",
   "metadata": {},
   "outputs": [
    {
     "data": {
      "text/plain": [
       "BOOTSTRAP CONFIDENCE INTERVAL CALCULATIONS\n",
       "Based on 1000 bootstrap replicates\n",
       "\n",
       "CALL : \n",
       "boot.ci(boot.out = boot.obj, type = c(\"norm\", \"perc\", \"basic\"))\n",
       "\n",
       "Intervals : \n",
       "Level      Normal              Basic              Percentile     \n",
       "95%   ( 1.753,  7.731 )   ( 1.584,  7.257 )   ( 1.754,  7.428 )  \n",
       "Calculations and Intervals on Original Scale"
      ]
     },
     "metadata": {},
     "output_type": "display_data"
    }
   ],
   "source": [
    "boot.ci(boot.obj, type = c(\"norm\", \"perc\", \"basic\"))"
   ]
  }
 ],
 "metadata": {
  "kernelspec": {
   "display_name": "R",
   "language": "R",
   "name": "ir"
  },
  "language_info": {
   "codemirror_mode": "r",
   "file_extension": ".r",
   "mimetype": "text/x-r-source",
   "name": "R",
   "pygments_lexer": "r",
   "version": "4.1.1"
  }
 },
 "nbformat": 4,
 "nbformat_minor": 5
}
