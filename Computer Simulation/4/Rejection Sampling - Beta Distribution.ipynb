{
 "cells": [
  {
   "cell_type": "markdown",
   "metadata": {},
   "source": [
    "# Generating Random Numbers from the Beta Distribution Using Rejection Sampling\n",
    "#### Arman Rezaei - 9723034"
   ]
  },
  {
   "cell_type": "markdown",
   "metadata": {},
   "source": [
    "- The _target_ distribution $f(x)$ is the Beta distribution with parameters $\\alpha=3$ and $\\beta=4$\n",
    "- The initial _trial_ distribution $g(x)$ is a Normal distribution"
   ]
  },
  {
   "cell_type": "markdown",
   "metadata": {},
   "source": [
    "## Comparing the Normal & Beta Distributions"
   ]
  },
  {
   "cell_type": "code",
   "execution_count": 1,
   "metadata": {},
   "outputs": [
    {
     "data": {
      "image/png": "[encoded data removed]",
      "text/plain": [
       "Plot with title \"Beta vs. Normal Distribution\""
      ]
     },
     "metadata": {
      "image/png": {
       "height": 420,
       "width": 420
      }
     },
     "output_type": "display_data"
    }
   ],
   "source": [
    "# range\n",
    "x <- seq(-3, 3, .01)\n",
    "\n",
    "# beta dist params\n",
    "alpha = 3\n",
    "beta = 4\n",
    "\n",
    "# plotting params\n",
    "theme.col = \"#d99ad0\"\n",
    "par(bty=\"n\", bg=\"#253847\", col.axis=theme.col, col.lab=theme.col, col.main=theme.col)\n",
    "\n",
    "# actual plots\n",
    "plot(x, dbeta(x, alpha, beta), type=\"l\", col=\"hotpink\", lwd=3.5, xlab=\"X\", ylab=\"Density\")\n",
    "lines(x, dnorm(x), col=\"purple\", lwd=3.5)\n",
    "\n",
    "# misc\n",
    "title(main=\"Beta vs. Normal Distribution\")\n",
    "legend(\"topright\", legend=c(\"Beta\", \"Normal\"), lty=1, lwd=3.5, col=c(\"hotpink\", \"purple\"), bty=\"n\", text.col=theme.col)\n",
    "grid()"
   ]
  },
  {
   "cell_type": "markdown",
   "metadata": {},
   "source": [
    "## Calculating $M$"
   ]
  },
  {
   "cell_type": "markdown",
   "metadata": {},
   "source": [
    "There is, however, one problem. Lets have a look at our PDF functions:\n",
    "\n",
    "$$\n",
    "f(x; \\alpha, \\beta) = \\frac{\\Gamma(\\alpha + \\beta)}{\\Gamma(\\alpha) \\Gamma(\\beta)} x^{\\alpha - 1} (1-x)^{\\beta - 1}\n",
    "$$\n",
    "\n",
    "Which for $\\alpha=3$ and $\\beta=4$ we have\n",
    "\n",
    "$$\n",
    "f(x; 3, 4) = 60 \\cdot x^2 \\cdot (1-x)^3\n",
    "$$\n",
    "\n",
    "And for the standard normal distribution:\n",
    "\n",
    "$$\n",
    "g(x; 0, 1) = \\frac{1}{\\sqrt{2 \\pi}} e^{\\frac{-x^2}{2}}\n",
    "$$\n",
    "\n",
    "In order to calculate $M$:\n",
    "\n",
    "$$\n",
    "\\frac{f(x)}{g(x)} = 60 \\sqrt{2 \\pi} \\frac{x^2 (1-x)^3}{e^{\\frac{-x^2}{2}}} \\le M\n",
    "$$\n",
    "\n",
    "Calculating the derivative of this function in order to find $M$ can be a nightmare.\n",
    "Therefore, we will use a much simpler (and more inefficient) $g(x)$ such as the \n",
    "Standard Uniform distribution's PDF:\n",
    "\n",
    "$$\n",
    "g(x) = 1\n",
    "$$\n",
    "\n",
    "And now calculating $M$ is only a matter of calculating the derivative of $f$ and founding its global maximum."
   ]
  },
  {
   "cell_type": "markdown",
   "metadata": {},
   "source": [
    "$$\n",
    "f'(x) = -180 x^2 (1-x)^2 + 120 x (1-x)^3 = 0 \\Rightarrow x = \\frac{2}{5} \\Rightarrow f(x) \\le f(\\frac{2}{5}) \\simeq 2.1 = M\n",
    "$$"
   ]
  },
  {
   "cell_type": "markdown",
   "metadata": {},
   "source": [
    "## Generating Beta Samples"
   ]
  },
  {
   "cell_type": "code",
   "execution_count": 2,
   "metadata": {},
   "outputs": [],
   "source": [
    "# sample size\n",
    "n <- 10000\n",
    "M <- 2.1\n",
    "\n",
    "# function to determine acception/rejection\n",
    "accept <- function(x) {\n",
    "    u <- runif(1)\n",
    "    if ( 1/M * 60 * x^2 * (1-x)^3 > u ) {\n",
    "        return(TRUE)\n",
    "    }\n",
    "    return(FALSE)\n",
    "}\n",
    "\n",
    "\n",
    "# trials\n",
    "X <- rep(0, n)\n",
    "niter <- 0\n",
    "sample <- NULL\n",
    "\n",
    "for (i in 1:n) {\n",
    "    # keep trying until acception\n",
    "    flag <- FALSE\n",
    "    while (flag == FALSE) {\n",
    "        # increment counter\n",
    "        niter <- niter + 1\n",
    "\n",
    "        # generate candidate\n",
    "        sample <- runif(1)\n",
    "        flag <- accept(sample)\n",
    "    }\n",
    "    \n",
    "    X[i] <- sample\n",
    "}"
   ]
  },
  {
   "cell_type": "markdown",
   "metadata": {},
   "source": [
    "## Measuring Closeness to Reality"
   ]
  },
  {
   "cell_type": "code",
   "execution_count": 3,
   "metadata": {},
   "outputs": [
    {
     "data": {
      "text/html": [
       "21047"
      ],
      "text/latex": [
       "21047"
      ],
      "text/markdown": [
       "21047"
      ],
      "text/plain": [
       "[1] 21047"
      ]
     },
     "metadata": {},
     "output_type": "display_data"
    }
   ],
   "source": [
    "niter"
   ]
  },
  {
   "cell_type": "markdown",
   "metadata": {},
   "source": [
    "Since the probability of acceptance is $1/M$, the results should be consistent with it:\n",
    "\n",
    "$$\n",
    "\\text{Theoretical number of iterations required} = M \\cdot n = 2.1 \\times 10000 = 21000\n",
    "$$\n",
    "\n",
    "$$\n",
    "P_{theoretical}(\\text{accept}) = \\frac{1}{M} \\simeq 0.48\n",
    "$$\n",
    "\n",
    "$$\n",
    "P_{actual}(\\text{accept}) = \\frac{n}{n_{iter}} = \\frac{10000}{21200} \\simeq 0.47\n",
    "$$\n",
    "\n",
    "The results seem consistent enough. Lets use a quantile-quantile plot to visually see whether\n",
    "the random numbers generated are close to the actual distribution."
   ]
  },
  {
   "cell_type": "code",
   "execution_count": 4,
   "metadata": {},
   "outputs": [
    {
     "data": {
      "image/png": "[encoded data removed]",
      "text/plain": [
       "plot without title"
      ]
     },
     "metadata": {
      "image/png": {
       "height": 420,
       "width": 420
      }
     },
     "output_type": "display_data"
    }
   ],
   "source": [
    "probs <- seq(0, 1, 0.01)\n",
    "x <- quantile(rbeta(n, alpha, beta), probs)\n",
    "y <- quantile(X, probs)\n",
    "\n",
    "par(bty=\"n\", bg=\"#253847\", col.axis=theme.col, col.lab=theme.col, col.main=theme.col)\n",
    "plot(x, y, xlab=\"Theoretical Quantiles\", ylab=\"Sample Quantiles\", col=\"#FF69B455\", pch=19)\n",
    "# lines(c(x[10], x[90]), c(y[10], y[90]), col=\"purple\", lwd=2)\n",
    "grid()"
   ]
  },
  {
   "cell_type": "markdown",
   "metadata": {},
   "source": [
    "We can see that there is a linear relation between the quantiles, therefore proving\n",
    "the theory that the generated results have a Beta distribution."
   ]
  }
 ],
 "metadata": {
  "kernelspec": {
   "display_name": "R",
   "language": "R",
   "name": "python397jvsc74a57bd045745c8073d4aab9a1428b5228ba82b35caa472748356ee32a0ba1ef3babdcbf"
  },
  "language_info": {
   "codemirror_mode": "r",
   "file_extension": ".r",
   "mimetype": "text/x-r-source",
   "name": "R",
   "pygments_lexer": "r",
   "version": "4.1.1"
  },
  "orig_nbformat": 4
 },
 "nbformat": 4,
 "nbformat_minor": 2
}
