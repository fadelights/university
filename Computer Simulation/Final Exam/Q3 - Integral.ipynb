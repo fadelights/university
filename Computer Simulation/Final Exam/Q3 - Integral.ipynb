{
 "cells": [
  {
   "cell_type": "markdown",
   "id": "2427a24b-c672-4961-bfe5-2004b0b88dc3",
   "metadata": {},
   "source": [
    "_Arman Rezaei - 9723034_"
   ]
  },
  {
   "cell_type": "markdown",
   "id": "d2c3d253-0e3a-4c41-8027-cd1c6e845b3d",
   "metadata": {},
   "source": [
    "Assume $g(x) = x^6$ and $X$ is normally distributed with pdf $f(X)$. We would like to calculate\n",
    "\n",
    "$$\n",
    "E[g(x)] = \\int_{-\\infty}^{\\infty}{g(x) f(x) dx}\n",
    "$$\n",
    "\n",
    "If we have $m$ random variates from $f(X)$, $X_1, \\ldots, X_m$ then the above integral can be estimated using \n",
    "\n",
    "$$\n",
    "\\hat{\\theta} = \\frac{1}{m} \\sum_{i=1}^{m}{g(X_i)}\n",
    "$$"
   ]
  },
  {
   "cell_type": "code",
   "execution_count": 1,
   "id": "0759f047-d540-44b4-bc15-6a9fdc16eeb0",
   "metadata": {},
   "outputs": [
    {
     "data": {
      "text/html": [
       "14.8983022340722"
      ],
      "text/latex": [
       "14.8983022340722"
      ],
      "text/markdown": [
       "14.8983022340722"
      ],
      "text/plain": [
       "[1] 14.8983"
      ]
     },
     "metadata": {},
     "output_type": "display_data"
    }
   ],
   "source": [
    "m <- 1000000\n",
    "X <- rnorm(m)\n",
    "\n",
    "g <- X^6\n",
    "theta.hat <- mean(g)\n",
    "\n",
    "theta.hat"
   ]
  }
 ],
 "metadata": {
  "kernelspec": {
   "display_name": "R",
   "language": "R",
   "name": "ir"
  },
  "language_info": {
   "codemirror_mode": "r",
   "file_extension": ".r",
   "mimetype": "text/x-r-source",
   "name": "R",
   "pygments_lexer": "r",
   "version": "4.1.1"
  }
 },
 "nbformat": 4,
 "nbformat_minor": 5
}
