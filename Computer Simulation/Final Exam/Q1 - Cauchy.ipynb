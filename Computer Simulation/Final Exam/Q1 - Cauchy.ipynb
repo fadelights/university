{
 "cells": [
  {
   "cell_type": "markdown",
   "id": "01d4f084-432a-4bbb-b20d-be299ac64f8e",
   "metadata": {},
   "source": [
    "_Arman Rezaei - 9723034_"
   ]
  },
  {
   "cell_type": "markdown",
   "id": "4465cfbd-78fe-4342-951a-6462808185cc",
   "metadata": {},
   "source": [
    "The cauchy distribution itself does not have an expected value. However, we will try to simulate its powers to see if we can get one. The\n",
    "formula used on each one will be\n",
    "$$\n",
    "\\hat{\\theta} = \\frac{1}{m} \\sum_{i=1}^{m}{g(Y_i)}\n",
    "$$\n",
    "where $\\hat{\\theta}$ is an estimation for\n",
    "$$\n",
    "\\theta = E[g(Y)] = \\int{g(y) f(y) dy}\n",
    "$$\n",
    "where $f(Y)$ is the cauchy density sorted."
   ]
  },
  {
   "cell_type": "code",
   "execution_count": 1,
   "id": "d116b0c0-5a5b-4862-b603-8cf9b2cf1ac6",
   "metadata": {},
   "outputs": [
    {
     "data": {
      "text/html": [
       "<table class=\"dataframe\">\n",
       "<caption>A matrix: 2 × 1000 of type dbl</caption>\n",
       "<tbody>\n",
       "\t<tr><th scope=row>means.g1</th><td> -4.133566</td><td> -5.47515</td><td> 1.368941</td><td>  21.08782</td><td>-0.1705071</td><td>-1.314796</td><td>0.4483114</td><td> 2.620213</td><td>1.027054</td><td> 0.5628299</td><td>⋯</td><td>-2.539804</td><td>-0.6144052</td><td> 2.408727</td><td>-2.564099</td><td> -13.09333</td><td>-0.2800854</td><td>0.4596118</td><td> 2.631596</td><td> 0.09291394</td><td>-0.1148135</td></tr>\n",
       "\t<tr><th scope=row>means.g2</th><td>192.483919</td><td>269.58552</td><td>19.227310</td><td>5428.62950</td><td> 8.9026782</td><td>14.563884</td><td>2.2430567</td><td>64.535139</td><td>7.276598</td><td>17.3453424</td><td>⋯</td><td>64.469550</td><td> 1.3186917</td><td>82.167596</td><td>55.162053</td><td>1848.55218</td><td> 3.4246272</td><td>1.8107507</td><td>36.561590</td><td>15.97378200</td><td> 1.7202718</td></tr>\n",
       "</tbody>\n",
       "</table>\n"
      ],
      "text/latex": [
       "A matrix: 2 × 1000 of type dbl\n",
       "\\begin{tabular}{r|lllllllllllllllllllll}\n",
       "\tmeans.g1 &  -4.133566 &  -5.47515 &  1.368941 &   21.08782 & -0.1705071 & -1.314796 & 0.4483114 &  2.620213 & 1.027054 &  0.5628299 & ⋯ & -2.539804 & -0.6144052 &  2.408727 & -2.564099 &  -13.09333 & -0.2800854 & 0.4596118 &  2.631596 &  0.09291394 & -0.1148135\\\\\n",
       "\tmeans.g2 & 192.483919 & 269.58552 & 19.227310 & 5428.62950 &  8.9026782 & 14.563884 & 2.2430567 & 64.535139 & 7.276598 & 17.3453424 & ⋯ & 64.469550 &  1.3186917 & 82.167596 & 55.162053 & 1848.55218 &  3.4246272 & 1.8107507 & 36.561590 & 15.97378200 &  1.7202718\\\\\n",
       "\\end{tabular}\n"
      ],
      "text/markdown": [
       "\n",
       "A matrix: 2 × 1000 of type dbl\n",
       "\n",
       "| means.g1 |  -4.133566 |  -5.47515 |  1.368941 |   21.08782 | -0.1705071 | -1.314796 | 0.4483114 |  2.620213 | 1.027054 |  0.5628299 | ⋯ | -2.539804 | -0.6144052 |  2.408727 | -2.564099 |  -13.09333 | -0.2800854 | 0.4596118 |  2.631596 |  0.09291394 | -0.1148135 |\n",
       "| means.g2 | 192.483919 | 269.58552 | 19.227310 | 5428.62950 |  8.9026782 | 14.563884 | 2.2430567 | 64.535139 | 7.276598 | 17.3453424 | ⋯ | 64.469550 |  1.3186917 | 82.167596 | 55.162053 | 1848.55218 |  3.4246272 | 1.8107507 | 36.561590 | 15.97378200 |  1.7202718 |\n",
       "\n"
      ],
      "text/plain": [
       "         [,1]       [,2]      [,3]      [,4]       [,5]       [,6]     \n",
       "means.g1  -4.133566  -5.47515  1.368941   21.08782 -0.1705071 -1.314796\n",
       "means.g2 192.483919 269.58552 19.227310 5428.62950  8.9026782 14.563884\n",
       "         [,7]      [,8]      [,9]     [,10]      [,11] [,12]     [,13]     \n",
       "means.g1 0.4483114  2.620213 1.027054  0.5628299 <U+22EF> -2.539804 -0.6144052\n",
       "means.g2 2.2430567 64.535139 7.276598 17.3453424 <U+22EF> 64.469550  1.3186917\n",
       "         [,14]     [,15]     [,16]      [,17]      [,18]     [,19]    \n",
       "means.g1  2.408727 -2.564099  -13.09333 -0.2800854 0.4596118  2.631596\n",
       "means.g2 82.167596 55.162053 1848.55218  3.4246272 1.8107507 36.561590\n",
       "         [,20]       [,21]     \n",
       "means.g1  0.09291394 -0.1148135\n",
       "means.g2 15.97378200  1.7202718"
      ]
     },
     "metadata": {},
     "output_type": "display_data"
    },
    {
     "data": {
      "text/html": [
       "<table class=\"dataframe\">\n",
       "<caption>A matrix: 2 × 1 of type dbl</caption>\n",
       "<tbody>\n",
       "\t<tr><td>2.982993e+03</td></tr>\n",
       "\t<tr><td>4.027452e+11</td></tr>\n",
       "</tbody>\n",
       "</table>\n"
      ],
      "text/latex": [
       "A matrix: 2 × 1 of type dbl\n",
       "\\begin{tabular}{l}\n",
       "\t 2.982993e+03\\\\\n",
       "\t 4.027452e+11\\\\\n",
       "\\end{tabular}\n"
      ],
      "text/markdown": [
       "\n",
       "A matrix: 2 × 1 of type dbl\n",
       "\n",
       "| 2.982993e+03 |\n",
       "| 4.027452e+11 |\n",
       "\n"
      ],
      "text/plain": [
       "     [,1]        \n",
       "[1,] 2.982993e+03\n",
       "[2,] 4.027452e+11"
      ]
     },
     "metadata": {},
     "output_type": "display_data"
    }
   ],
   "source": [
    "m <- 1000\n",
    "means.g1 <- numeric(m)  # for Y\n",
    "means.g2 <- numeric(m)  # for Y^2\n",
    "for (i in 1:m) {\n",
    "    X <- rcauchy(10)\n",
    "    Y <- sort(X)\n",
    "    g1 <- Y\n",
    "    g2 <- Y^2\n",
    "    means.g1[i] <- mean(g1)\n",
    "    means.g2[i] <- mean(g2)\n",
    "}\n",
    "\n",
    "rbind(means.g1, means.g2)\n",
    "rbind(var(means.g1), var(means.g2))"
   ]
  },
  {
   "cell_type": "markdown",
   "id": "b491534e-4d0d-4fd2-88be-0fe7ab4c9268",
   "metadata": {},
   "source": [
    "The extremely high variance of the results tells us there is no convergence in any of the random variables."
   ]
  }
 ],
 "metadata": {
  "kernelspec": {
   "display_name": "R",
   "language": "R",
   "name": "ir"
  },
  "language_info": {
   "codemirror_mode": "r",
   "file_extension": ".r",
   "mimetype": "text/x-r-source",
   "name": "R",
   "pygments_lexer": "r",
   "version": "4.1.1"
  }
 },
 "nbformat": 4,
 "nbformat_minor": 5
}
