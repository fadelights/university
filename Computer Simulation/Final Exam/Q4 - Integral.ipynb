{
 "cells": [
  {
   "cell_type": "markdown",
   "id": "d4742236-a1dc-4c39-b0f2-50ad93e48c1c",
   "metadata": {},
   "source": [
    "_Arman Rezaei - 9723034_"
   ]
  },
  {
   "cell_type": "code",
   "execution_count": 1,
   "id": "5e1f5eb1-4c51-450a-810b-3d8893c74f9e",
   "metadata": {},
   "outputs": [],
   "source": [
    "set.seed(9723034)\n",
    "m <- 1000"
   ]
  },
  {
   "cell_type": "markdown",
   "id": "5ceaf026-6016-457b-b5be-da0f9873d9d7",
   "metadata": {},
   "source": [
    "Assume $i = 5$. We would like to calculate the integral\n",
    "\n",
    "$$\n",
    "\\int_{0}^{i}{ e^{-e^{x^2}} dx}.\n",
    "$$\n",
    "\n",
    "We will be using the simple monte carlo integration method.\n",
    "\n",
    "**Algorithm**\n",
    "\n",
    "1. Generate $X_1, \\ldots, X_m$ iid from $\\text{Unifrom}(a, b)$\n",
    "2. Compute $\\overline{g(X)} = \\frac{1}{m}\\sum_{i=1}^{m}{g(X_i)}$\n",
    "3. $\\hat{\\theta} = (b-a)\\overline{g(X)}$"
   ]
  },
  {
   "cell_type": "markdown",
   "id": "ed916700-879a-4659-b834-26fa521da9ee",
   "metadata": {},
   "source": [
    "## Part A - Calculating the Estimate"
   ]
  },
  {
   "cell_type": "code",
   "execution_count": 2,
   "id": "f907ab81-d27d-49eb-adbb-149dc9e309ce",
   "metadata": {},
   "outputs": [
    {
     "data": {
      "text/html": [
       "0.2214768118343"
      ],
      "text/latex": [
       "0.2214768118343"
      ],
      "text/markdown": [
       "0.2214768118343"
      ],
      "text/plain": [
       "[1] 0.2214768"
      ]
     },
     "metadata": {},
     "output_type": "display_data"
    }
   ],
   "source": [
    "# step 1\n",
    "a <- 0\n",
    "b <- 5\n",
    "X <- runif(m, min = a, max = b)\n",
    "\n",
    "# step 2\n",
    "g <- exp(-exp(X^2))\n",
    "g.bar <- mean(g)\n",
    "\n",
    "theta.hat <- (b - a) * g.bar\n",
    "theta.hat"
   ]
  },
  {
   "cell_type": "markdown",
   "id": "9930f6e3-8dd8-44ff-bf1f-b174f1cbf255",
   "metadata": {},
   "source": [
    "## Part B - Variance Reduction"
   ]
  },
  {
   "cell_type": "markdown",
   "id": "38188790-f449-4feb-8ed7-14e3b10c4d2a",
   "metadata": {},
   "source": [
    "There are multiple ways to reduce the variance, hence increasing the precision of the estimation. We will be taking a look at two of them; namely,\n",
    "_Antithetic Variables_ and _Importance Sampling_."
   ]
  },
  {
   "cell_type": "markdown",
   "id": "940b4c30-8290-4d08-8771-6039c851ddea",
   "metadata": {},
   "source": [
    "### Antithetic Variables"
   ]
  },
  {
   "cell_type": "markdown",
   "id": "1236f5bd-6a97-43a9-8307-0411543a12e8",
   "metadata": {},
   "source": [
    "First, we need to check if $g(X)$ is monotone. We can verify this by plotting it."
   ]
  },
  {
   "cell_type": "code",
   "execution_count": 3,
   "id": "7d4b0421-36a3-4c0f-856c-923626db5f1e",
   "metadata": {},
   "outputs": [
    {
     "data": {
      "image/png": "[encoded data removed]",
      "text/plain": [
       "plot without title"
      ]
     },
     "metadata": {
      "image/png": {
       "height": 420,
       "width": 420
      }
     },
     "output_type": "display_data"
    }
   ],
   "source": [
    "x <- seq(a, b, 0.01)\n",
    "y = exp(-exp(x^2))\n",
    "plot(x, y, type = \"l\")"
   ]
  },
  {
   "cell_type": "markdown",
   "id": "c8d7557f-883d-4395-bfd0-20662db75538",
   "metadata": {},
   "source": [
    "It appears that it is monotone. Here is the algorithm:\n",
    "\n",
    "**Algorithm**\n",
    "\n",
    "1. Generate $m/2$ random variates from $\\text{Uniform}(a, b)$, namely $u_1, \\ldots, u_{m/2}$.\n",
    "2. Set the rest of the $u_{m/2 + 1}, \\ldots , u_m$ to $1 - u_i$.\n",
    "3. Calculate $\\hat{\\theta}$ same as before."
   ]
  },
  {
   "cell_type": "code",
   "execution_count": 4,
   "id": "52567a00-9274-4b22-94ed-2b7a4fc8dcff",
   "metadata": {},
   "outputs": [
    {
     "data": {
      "text/html": [
       "0.404859302673795"
      ],
      "text/latex": [
       "0.404859302673795"
      ],
      "text/markdown": [
       "0.404859302673795"
      ],
      "text/plain": [
       "[1] 0.4048593"
      ]
     },
     "metadata": {},
     "output_type": "display_data"
    }
   ],
   "source": [
    "a <- 0\n",
    "b <- 5\n",
    "U <- runif(m/2, min = a, max = b)\n",
    "U <- c(U, 1-U)\n",
    "\n",
    "\n",
    "g <- exp(-exp(U^2))\n",
    "g.bar <- mean(g)\n",
    "\n",
    "theta.hat2 <- (b - a) * g.bar\n",
    "theta.hat2"
   ]
  },
  {
   "cell_type": "markdown",
   "id": "69df9a95-0128-436c-860e-5025fc9885a0",
   "metadata": {},
   "source": [
    "## Part C - Calculating Increased Precision"
   ]
  },
  {
   "cell_type": "markdown",
   "id": "d1c47212-2471-4199-ac91-1bc091101317",
   "metadata": {},
   "source": [
    "If $\\hat{\\theta}_1$ and $\\hat{\\theta}_2$ are estimators of the parameter $\\theta$, and $Var(\\hat{\\theta}_2) < Var(\\hat{\\theta}_1)$,\n",
    "then the percent reduction in variance achieved by using $\\hat{\\theta}_2$ instead of $\\hat{\\theta}_1$ is\n",
    "$$\n",
    "100 \\left( \\frac{Var(\\hat{\\theta}_1) - Var(\\hat{\\theta}_2)}{Var(\\hat{\\theta}_1)} \\right).\n",
    "$$"
   ]
  },
  {
   "cell_type": "code",
   "execution_count": 5,
   "id": "87538643-6261-4002-b554-89acf210481d",
   "metadata": {},
   "outputs": [
    {
     "data": {
      "text/html": [
       "-0.375220241213194"
      ],
      "text/latex": [
       "-0.375220241213194"
      ],
      "text/markdown": [
       "-0.375220241213194"
      ],
      "text/plain": [
       "[1] -0.3752202"
      ]
     },
     "metadata": {},
     "output_type": "display_data"
    }
   ],
   "source": [
    "# function for repeating the experiments a bunch of times\n",
    "theta.est <- function(m, antithetic = FALSE) {\n",
    "    a <- 0\n",
    "    b <- 5\n",
    "    \n",
    "    U <- runif(m/2, min = a, max = b)\n",
    "    if (antithetic == TRUE) { U <- c(U, 1-U) }\n",
    "    else { U <- c(U, runif(m/2, min = a, max = b)) }\n",
    "\n",
    "    g <- exp(-exp(U^2))\n",
    "    g.bar <- mean(g)\n",
    "\n",
    "    theta.hat <- (b - a) * g.bar\n",
    "    return(theta.hat)\n",
    "}\n",
    "\n",
    "m <- 1000\n",
    "est1 <- est2 <- numeric(10)\n",
    "for (i in 1:10) {\n",
    "    est1[i] <- theta.est(m)\n",
    "    est2[i] <- theta.est(m, antithetic = TRUE)\n",
    "}\n",
    "\n",
    "# variance reduction\n",
    "(var(est1) - var(est2)) / var(est1)"
   ]
  }
 ],
 "metadata": {
  "kernelspec": {
   "display_name": "R",
   "language": "R",
   "name": "ir"
  },
  "language_info": {
   "codemirror_mode": "r",
   "file_extension": ".r",
   "mimetype": "text/x-r-source",
   "name": "R",
   "pygments_lexer": "r",
   "version": "4.1.1"
  }
 },
 "nbformat": 4,
 "nbformat_minor": 5
}
