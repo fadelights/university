{
 "cells": [
  {
   "cell_type": "markdown",
   "id": "95616de6-4db7-443b-829e-77844a0dd7af",
   "metadata": {},
   "source": [
    "_Arman Rezaei - 9723034_"
   ]
  },
  {
   "cell_type": "markdown",
   "id": "e72596f6-da80-4df3-9508-4babd2a9ab3d",
   "metadata": {},
   "source": [
    "**Definition** Let $X_1, X_2, \\ldots, X_n$ be independent and identically distributed with distribution $X$.\n",
    "The sum $S = X_1 + X_2 + \\cdots + X_n$ is called the $n$-fold convolution of $X$."
   ]
  },
  {
   "cell_type": "code",
   "execution_count": 1,
   "id": "3cf64ac1-94dd-4947-a611-98012f386705",
   "metadata": {},
   "outputs": [
    {
     "data": {
      "text/html": [
       "<strong>5%:</strong> 0.315667575900443"
      ],
      "text/latex": [
       "\\textbf{5\\textbackslash{}\\%:} 0.315667575900443"
      ],
      "text/markdown": [
       "**5%:** 0.315667575900443"
      ],
      "text/plain": [
       "       5% \n",
       "0.3156676 "
      ]
     },
     "metadata": {},
     "output_type": "display_data"
    }
   ],
   "source": [
    "m <- 1000000\n",
    "x <- numeric(m)\n",
    "\n",
    "for (i in 1:m) {\n",
    "    u <- runif(2)\n",
    "    x[i] <- u[1] + u[2]\n",
    "}\n",
    "\n",
    "quantile(x, 0.05)"
   ]
  }
 ],
 "metadata": {
  "kernelspec": {
   "display_name": "R",
   "language": "R",
   "name": "ir"
  },
  "language_info": {
   "codemirror_mode": "r",
   "file_extension": ".r",
   "mimetype": "text/x-r-source",
   "name": "R",
   "pygments_lexer": "r",
   "version": "4.1.1"
  }
 },
 "nbformat": 4,
 "nbformat_minor": 5
}
