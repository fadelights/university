{
 "cells": [
  {
   "cell_type": "markdown",
   "source": [
    "<h1 style=\"font-size:42px; font-family:Georgia;\">\n",
    "Predicting Heart Disease Using Decision Trees 💊\n",
    "</h1>\n",
    "\n",
    "<img src=\"resources/project_image.jpg\"></img>\n",
    "\n",
    "<p style=\"font-style:italic; font-family:Georgia;\">\n",
    "Arman Rezaei<br>\n",
    "9723034<br><br>\n",
    "June 10, 2021\n",
    "</p>"
   ],
   "metadata": {
    "tags": [],
    "cell_id": "00000-36fe4668-5a46-4352-92e7-1860bbc9739c",
    "deepnote_to_be_reexecuted": false,
    "source_hash": "a502c992",
    "execution_start": 1624889680399,
    "execution_millis": 15,
    "deepnote_cell_type": "markdown"
   }
  },
  {
   "cell_type": "markdown",
   "source": [
    "## Project Goals and Description"
   ],
   "metadata": {
    "id": "poSMW8fVvZfv",
    "cell_id": "00000-cfec64a7-77f9-4953-9a00-7d5cdb5da5c4",
    "deepnote_cell_type": "markdown"
   }
  },
  {
   "cell_type": "markdown",
   "source": [
    "**Source**\n",
    "\n",
    "1. Hungarian Institute of Cardiology. Budapest: Andras Janosi, M.D.\n",
    "2. University Hospital, Zurich, Switzerland: William Steinbrunn, M.D.\n",
    "3. University Hospital, Basel, Switzerland: Matthias Pfisterer, M.D.\n",
    "4. V.A. Medical Center, Long Beach and Cleveland Clinic Foundation: Robert Detrano, M.D., Ph.D.\n",
    "\n",
    "**Data Description**\n",
    "\n",
    "This database contains 76 attributes, but all published experiments refer to using a subset of 14 of them. In particular, the Cleveland database is the only one that has been used by ML researchers to this date. The \"goal\" field refers to the presence of heart disease in the patient. It is integer valued from 0 (no presence) to 4. Experiments with the Cleveland database have concentrated on simply attempting to distinguish presence (values 1,2,3,4) from absence (value 0).\n",
    "\n",
    "**Data Overview**\n",
    "\n",
    "- Dataset Characteristics: _Multivariate_\n",
    "- Number of Instances: _303_\n",
    "- Area: _Life_\n",
    "- Attribute Characteristics: _Categorical, Integer, Real_\n",
    "- Number of Attributes: _75_\n",
    "- Date Donated: _1988-07-01_\n",
    "- Associated Tasks: _Classification_\n",
    "- Missing Values? _Yes_\n",
    "\n",
    "**Attribute Information**\n",
    "\n",
    "1. age: _age in years_\n",
    "2. sex: _sex_\n",
    "    - _1: male_\n",
    "    - _0: female_\n",
    "3. cp: _chest pain type_\n",
    "    - _Value 1: typical angina_\n",
    "    - _Value 2: atypical angina_\n",
    "    - _Value 3: non-anginal pain_\n",
    "    - _Value 4: asymptomatic_\n",
    "4. trestbps: _resting blood pressure (in mmHg on admission to the hospital)_\n",
    "5. chol: _serum cholestoral in mg/dl_\n",
    "6. fbs: _fasting blood sugar > 120 mg/dl_\n",
    "    - _1: true_\n",
    "    - _0: false_\n",
    "7. restecg: _resting electrocardiographic results_\n",
    "    - _Value 0: normal_\n",
    "    - _Value 1: having ST-T wave abnormality (T wave inversions and/or ST elevation or depression of > 0.05 mV)_\n",
    "    - _Value 2: showing probable or definite left ventricular hypertrophy by Estes' criteria_\n",
    "8. thalach: _maximum heart rate achieved_\n",
    "9. exang: _exercise induced angina_\n",
    "    - _1: yes_\n",
    "    - _0: no_\n",
    "10. oldpeak: _ST depression induced by exercise relative to rest_\n",
    "11. slope: _the slope of the peak exercise ST segment_\n",
    "    - _Value 1: upsloping_\n",
    "    - _Value 2: flat_\n",
    "    - _Value 3: downsloping_\n",
    "12. ca: _number of major vessels (0-3) colored by flourosopy_\n",
    "13. thal:\n",
    "    - _3: normal_\n",
    "    - _6: fixed defect_\n",
    "    - _7: reversable defect_\n",
    "14. hdtype: _type of heart disease_\n",
    "\n",
    "**Accuracy Comparison of Different Models Used on This Dataset**\n",
    "\n",
    "<img src='resources/heart_disease_accuracies.png'></img>\n",
    "\n",
    "We will be using the Decision Tree Classifier to achieve a similar accuracy.\n",
    "\n",
    "**Why Decision Trees?**\n",
    "\n",
    "Some of the benefits of using Decision Trees include\n",
    "\n",
    "- Work extremely well on categorical data\n",
    "- Simple and explainable\n",
    "- Great interpretability\n",
    "- Ability to visualize\n",
    "- Efficiency\n",
    "- Not affected by collinearity\n",
    "\n",
    "**Papers Citing This Dataset**\n",
    "\n",
    "A complete list of researches on this dataset are available in [this link](https://archive-beta.ics.uci.edu/ml/datasets/45/#Papers-Citing-This-Data-Set)."
   ],
   "metadata": {
    "id": "Sz2Zis-EEIFI",
    "cell_id": "00001-a50b1e19-d78e-4087-86ed-ec46e729f3b2",
    "deepnote_cell_type": "markdown"
   }
  },
  {
   "cell_type": "markdown",
   "source": [
    "## First Steps"
   ],
   "metadata": {
    "tags": [],
    "cell_id": "00002-066461a7-3f05-488b-bb47-5c034fa94e0c",
    "deepnote_cell_type": "markdown"
   }
  },
  {
   "cell_type": "markdown",
   "source": [
    "We start by importing the necessary libraries."
   ],
   "metadata": {
    "tags": [],
    "cell_id": "00004-05d3b21d-e54d-412c-94cb-5905afa086d0",
    "deepnote_to_be_reexecuted": false,
    "source_hash": "685651a3",
    "execution_start": 1624879547130,
    "execution_millis": 4,
    "deepnote_cell_type": "markdown"
   }
  },
  {
   "cell_type": "code",
   "metadata": {
    "id": "l_635yppvs5Z",
    "cell_id": "00003-826d12dd-cd19-4426-b6ae-ad66ef358ff0",
    "deepnote_to_be_reexecuted": false,
    "source_hash": "bbc3095",
    "execution_start": 1625199689049,
    "execution_millis": 4441,
    "deepnote_cell_type": "code"
   },
   "source": [
    "import numpy as np\n",
    "import matplotlib.pyplot as plt\n",
    "import pandas as pd\n",
    "\n",
    "from sklearn.tree import DecisionTreeClassifier\n",
    "from sklearn.tree import plot_tree\n",
    "\n",
    "from sklearn.model_selection import train_test_split\n",
    "from sklearn.model_selection import cross_val_score\n",
    "\n",
    "from sklearn.metrics import classification_report\n",
    "from sklearn.metrics import confusion_matrix\n",
    "from sklearn.metrics import plot_confusion_matrix"
   ],
   "outputs": [],
   "execution_count": null
  },
  {
   "cell_type": "markdown",
   "source": [
    "And proceed to import the data. We can acquire our data directly from the UCI Machine Learning Repository using the `read_csv` function from `Pandas`. According to the data description, `NaN` values are denoted by `?`."
   ],
   "metadata": {
    "tags": [],
    "cell_id": "00004-f0447aff-d292-46ab-8404-35f841439565",
    "deepnote_cell_type": "markdown"
   }
  },
  {
   "cell_type": "code",
   "metadata": {
    "colab": {
     "base_uri": "https://localhost:8080/",
     "height": 203
    },
    "id": "siLCaqRfwWDt",
    "outputId": "cba6f22c-211a-4305-d846-7b24b6389cab",
    "cell_id": "00004-9b7169fa-058f-4e77-baa8-1ff0a88b5d71",
    "deepnote_to_be_reexecuted": false,
    "source_hash": "fe010a1b",
    "execution_start": 1625199693515,
    "execution_millis": 735,
    "deepnote_cell_type": "code"
   },
   "source": [
    "url = 'https://archive.ics.uci.edu/ml/machine-learning-databases/heart-disease/processed.cleveland.data'\n",
    "columns = ['age', 'sex', 'cp',\n",
    "           'trestbps', 'chol',\n",
    "           'fbs', 'restecg', 'thalach',\n",
    "           'exang', 'oldpeak', 'slope',\n",
    "           'ca', 'thal', 'hdtype']\n",
    "\n",
    "df = pd.read_csv(url,\n",
    "                 names=columns,\n",
    "                 na_values='?')\n",
    "\n",
    "df.head()"
   ],
   "outputs": [
    {
     "output_type": "execute_result",
     "execution_count": 2,
     "data": {
      "application/vnd.deepnote.dataframe.v2+json": {
       "row_count": 5,
       "column_count": 14,
       "columns": [
        {
         "name": "age",
         "dtype": "float64",
         "stats": {
          "unique_count": 4,
          "nan_count": 0,
          "min": "37.0",
          "max": "67.0",
          "histogram": [
           {
            "bin_start": 37,
            "bin_end": 40,
            "count": 1
           },
           {
            "bin_start": 40,
            "bin_end": 43,
            "count": 1
           },
           {
            "bin_start": 43,
            "bin_end": 46,
            "count": 0
           },
           {
            "bin_start": 46,
            "bin_end": 49,
            "count": 0
           },
           {
            "bin_start": 49,
            "bin_end": 52,
            "count": 0
           },
           {
            "bin_start": 52,
            "bin_end": 55,
            "count": 0
           },
           {
            "bin_start": 55,
            "bin_end": 58,
            "count": 0
           },
           {
            "bin_start": 58,
            "bin_end": 61,
            "count": 0
           },
           {
            "bin_start": 61,
            "bin_end": 64,
            "count": 1
           },
           {
            "bin_start": 64,
            "bin_end": 67,
            "count": 2
           }
          ]
         }
        },
        {
         "name": "sex",
         "dtype": "float64",
         "stats": {
          "unique_count": 2,
          "nan_count": 0,
          "min": "0.0",
          "max": "1.0",
          "histogram": [
           {
            "bin_start": 0,
            "bin_end": 0.1,
            "count": 1
           },
           {
            "bin_start": 0.1,
            "bin_end": 0.2,
            "count": 0
           },
           {
            "bin_start": 0.2,
            "bin_end": 0.30000000000000004,
            "count": 0
           },
           {
            "bin_start": 0.30000000000000004,
            "bin_end": 0.4,
            "count": 0
           },
           {
            "bin_start": 0.4,
            "bin_end": 0.5,
            "count": 0
           },
           {
            "bin_start": 0.5,
            "bin_end": 0.6000000000000001,
            "count": 0
           },
           {
            "bin_start": 0.6000000000000001,
            "bin_end": 0.7000000000000001,
            "count": 0
           },
           {
            "bin_start": 0.7000000000000001,
            "bin_end": 0.8,
            "count": 0
           },
           {
            "bin_start": 0.8,
            "bin_end": 0.9,
            "count": 0
           },
           {
            "bin_start": 0.9,
            "bin_end": 1,
            "count": 4
           }
          ]
         }
        },
        {
         "name": "cp",
         "dtype": "float64",
         "stats": {
          "unique_count": 4,
          "nan_count": 0,
          "min": "1.0",
          "max": "4.0",
          "histogram": [
           {
            "bin_start": 1,
            "bin_end": 1.3,
            "count": 1
           },
           {
            "bin_start": 1.3,
            "bin_end": 1.6,
            "count": 0
           },
           {
            "bin_start": 1.6,
            "bin_end": 1.9,
            "count": 0
           },
           {
            "bin_start": 1.9,
            "bin_end": 2.2,
            "count": 1
           },
           {
            "bin_start": 2.2,
            "bin_end": 2.5,
            "count": 0
           },
           {
            "bin_start": 2.5,
            "bin_end": 2.8,
            "count": 0
           },
           {
            "bin_start": 2.8,
            "bin_end": 3.1,
            "count": 1
           },
           {
            "bin_start": 3.1,
            "bin_end": 3.4,
            "count": 0
           },
           {
            "bin_start": 3.4,
            "bin_end": 3.6999999999999997,
            "count": 0
           },
           {
            "bin_start": 3.6999999999999997,
            "bin_end": 4,
            "count": 2
           }
          ]
         }
        },
        {
         "name": "trestbps",
         "dtype": "float64",
         "stats": {
          "unique_count": 4,
          "nan_count": 0,
          "min": "120.0",
          "max": "160.0",
          "histogram": [
           {
            "bin_start": 120,
            "bin_end": 124,
            "count": 1
           },
           {
            "bin_start": 124,
            "bin_end": 128,
            "count": 0
           },
           {
            "bin_start": 128,
            "bin_end": 132,
            "count": 2
           },
           {
            "bin_start": 132,
            "bin_end": 136,
            "count": 0
           },
           {
            "bin_start": 136,
            "bin_end": 140,
            "count": 0
           },
           {
            "bin_start": 140,
            "bin_end": 144,
            "count": 0
           },
           {
            "bin_start": 144,
            "bin_end": 148,
            "count": 1
           },
           {
            "bin_start": 148,
            "bin_end": 152,
            "count": 0
           },
           {
            "bin_start": 152,
            "bin_end": 156,
            "count": 0
           },
           {
            "bin_start": 156,
            "bin_end": 160,
            "count": 1
           }
          ]
         }
        },
        {
         "name": "chol",
         "dtype": "float64",
         "stats": {
          "unique_count": 5,
          "nan_count": 0,
          "min": "204.0",
          "max": "286.0",
          "histogram": [
           {
            "bin_start": 204,
            "bin_end": 212.2,
            "count": 1
           },
           {
            "bin_start": 212.2,
            "bin_end": 220.4,
            "count": 0
           },
           {
            "bin_start": 220.4,
            "bin_end": 228.6,
            "count": 0
           },
           {
            "bin_start": 228.6,
            "bin_end": 236.8,
            "count": 2
           },
           {
            "bin_start": 236.8,
            "bin_end": 245,
            "count": 0
           },
           {
            "bin_start": 245,
            "bin_end": 253.2,
            "count": 1
           },
           {
            "bin_start": 253.2,
            "bin_end": 261.4,
            "count": 0
           },
           {
            "bin_start": 261.4,
            "bin_end": 269.6,
            "count": 0
           },
           {
            "bin_start": 269.6,
            "bin_end": 277.8,
            "count": 0
           },
           {
            "bin_start": 277.8,
            "bin_end": 286,
            "count": 1
           }
          ]
         }
        },
        {
         "name": "fbs",
         "dtype": "float64",
         "stats": {
          "unique_count": 2,
          "nan_count": 0,
          "min": "0.0",
          "max": "1.0",
          "histogram": [
           {
            "bin_start": 0,
            "bin_end": 0.1,
            "count": 4
           },
           {
            "bin_start": 0.1,
            "bin_end": 0.2,
            "count": 0
           },
           {
            "bin_start": 0.2,
            "bin_end": 0.30000000000000004,
            "count": 0
           },
           {
            "bin_start": 0.30000000000000004,
            "bin_end": 0.4,
            "count": 0
           },
           {
            "bin_start": 0.4,
            "bin_end": 0.5,
            "count": 0
           },
           {
            "bin_start": 0.5,
            "bin_end": 0.6000000000000001,
            "count": 0
           },
           {
            "bin_start": 0.6000000000000001,
            "bin_end": 0.7000000000000001,
            "count": 0
           },
           {
            "bin_start": 0.7000000000000001,
            "bin_end": 0.8,
            "count": 0
           },
           {
            "bin_start": 0.8,
            "bin_end": 0.9,
            "count": 0
           },
           {
            "bin_start": 0.9,
            "bin_end": 1,
            "count": 1
           }
          ]
         }
        },
        {
         "name": "restecg",
         "dtype": "float64",
         "stats": {
          "unique_count": 2,
          "nan_count": 0,
          "min": "0.0",
          "max": "2.0",
          "histogram": [
           {
            "bin_start": 0,
            "bin_end": 0.2,
            "count": 1
           },
           {
            "bin_start": 0.2,
            "bin_end": 0.4,
            "count": 0
           },
           {
            "bin_start": 0.4,
            "bin_end": 0.6000000000000001,
            "count": 0
           },
           {
            "bin_start": 0.6000000000000001,
            "bin_end": 0.8,
            "count": 0
           },
           {
            "bin_start": 0.8,
            "bin_end": 1,
            "count": 0
           },
           {
            "bin_start": 1,
            "bin_end": 1.2000000000000002,
            "count": 0
           },
           {
            "bin_start": 1.2000000000000002,
            "bin_end": 1.4000000000000001,
            "count": 0
           },
           {
            "bin_start": 1.4000000000000001,
            "bin_end": 1.6,
            "count": 0
           },
           {
            "bin_start": 1.6,
            "bin_end": 1.8,
            "count": 0
           },
           {
            "bin_start": 1.8,
            "bin_end": 2,
            "count": 4
           }
          ]
         }
        },
        {
         "name": "thalach",
         "dtype": "float64",
         "stats": {
          "unique_count": 5,
          "nan_count": 0,
          "min": "108.0",
          "max": "187.0",
          "histogram": [
           {
            "bin_start": 108,
            "bin_end": 115.9,
            "count": 1
           },
           {
            "bin_start": 115.9,
            "bin_end": 123.8,
            "count": 0
           },
           {
            "bin_start": 123.8,
            "bin_end": 131.7,
            "count": 1
           },
           {
            "bin_start": 131.7,
            "bin_end": 139.6,
            "count": 0
           },
           {
            "bin_start": 139.6,
            "bin_end": 147.5,
            "count": 0
           },
           {
            "bin_start": 147.5,
            "bin_end": 155.4,
            "count": 1
           },
           {
            "bin_start": 155.4,
            "bin_end": 163.3,
            "count": 0
           },
           {
            "bin_start": 163.3,
            "bin_end": 171.2,
            "count": 0
           },
           {
            "bin_start": 171.2,
            "bin_end": 179.10000000000002,
            "count": 1
           },
           {
            "bin_start": 179.10000000000002,
            "bin_end": 187,
            "count": 1
           }
          ]
         }
        },
        {
         "name": "exang",
         "dtype": "float64",
         "stats": {
          "unique_count": 2,
          "nan_count": 0,
          "min": "0.0",
          "max": "1.0",
          "histogram": [
           {
            "bin_start": 0,
            "bin_end": 0.1,
            "count": 3
           },
           {
            "bin_start": 0.1,
            "bin_end": 0.2,
            "count": 0
           },
           {
            "bin_start": 0.2,
            "bin_end": 0.30000000000000004,
            "count": 0
           },
           {
            "bin_start": 0.30000000000000004,
            "bin_end": 0.4,
            "count": 0
           },
           {
            "bin_start": 0.4,
            "bin_end": 0.5,
            "count": 0
           },
           {
            "bin_start": 0.5,
            "bin_end": 0.6000000000000001,
            "count": 0
           },
           {
            "bin_start": 0.6000000000000001,
            "bin_end": 0.7000000000000001,
            "count": 0
           },
           {
            "bin_start": 0.7000000000000001,
            "bin_end": 0.8,
            "count": 0
           },
           {
            "bin_start": 0.8,
            "bin_end": 0.9,
            "count": 0
           },
           {
            "bin_start": 0.9,
            "bin_end": 1,
            "count": 2
           }
          ]
         }
        },
        {
         "name": "oldpeak",
         "dtype": "float64",
         "stats": {
          "unique_count": 5,
          "nan_count": 0,
          "min": "1.4",
          "max": "3.5",
          "histogram": [
           {
            "bin_start": 1.4,
            "bin_end": 1.6099999999999999,
            "count": 2
           },
           {
            "bin_start": 1.6099999999999999,
            "bin_end": 1.8199999999999998,
            "count": 0
           },
           {
            "bin_start": 1.8199999999999998,
            "bin_end": 2.0300000000000002,
            "count": 0
           },
           {
            "bin_start": 2.0300000000000002,
            "bin_end": 2.24,
            "count": 0
           },
           {
            "bin_start": 2.24,
            "bin_end": 2.45,
            "count": 1
           },
           {
            "bin_start": 2.45,
            "bin_end": 2.66,
            "count": 1
           },
           {
            "bin_start": 2.66,
            "bin_end": 2.87,
            "count": 0
           },
           {
            "bin_start": 2.87,
            "bin_end": 3.08,
            "count": 0
           },
           {
            "bin_start": 3.08,
            "bin_end": 3.29,
            "count": 0
           },
           {
            "bin_start": 3.29,
            "bin_end": 3.5,
            "count": 1
           }
          ]
         }
        },
        {
         "name": "slope",
         "dtype": "float64",
         "stats": {
          "unique_count": 3,
          "nan_count": 0,
          "min": "1.0",
          "max": "3.0",
          "histogram": [
           {
            "bin_start": 1,
            "bin_end": 1.2,
            "count": 1
           },
           {
            "bin_start": 1.2,
            "bin_end": 1.4,
            "count": 0
           },
           {
            "bin_start": 1.4,
            "bin_end": 1.6,
            "count": 0
           },
           {
            "bin_start": 1.6,
            "bin_end": 1.8,
            "count": 0
           },
           {
            "bin_start": 1.8,
            "bin_end": 2,
            "count": 0
           },
           {
            "bin_start": 2,
            "bin_end": 2.2,
            "count": 2
           },
           {
            "bin_start": 2.2,
            "bin_end": 2.4000000000000004,
            "count": 0
           },
           {
            "bin_start": 2.4000000000000004,
            "bin_end": 2.6,
            "count": 0
           },
           {
            "bin_start": 2.6,
            "bin_end": 2.8,
            "count": 0
           },
           {
            "bin_start": 2.8,
            "bin_end": 3,
            "count": 2
           }
          ]
         }
        },
        {
         "name": "ca",
         "dtype": "float64",
         "stats": {
          "unique_count": 3,
          "nan_count": 0,
          "min": "0.0",
          "max": "3.0",
          "histogram": [
           {
            "bin_start": 0,
            "bin_end": 0.3,
            "count": 3
           },
           {
            "bin_start": 0.3,
            "bin_end": 0.6,
            "count": 0
           },
           {
            "bin_start": 0.6,
            "bin_end": 0.8999999999999999,
            "count": 0
           },
           {
            "bin_start": 0.8999999999999999,
            "bin_end": 1.2,
            "count": 0
           },
           {
            "bin_start": 1.2,
            "bin_end": 1.5,
            "count": 0
           },
           {
            "bin_start": 1.5,
            "bin_end": 1.7999999999999998,
            "count": 0
           },
           {
            "bin_start": 1.7999999999999998,
            "bin_end": 2.1,
            "count": 1
           },
           {
            "bin_start": 2.1,
            "bin_end": 2.4,
            "count": 0
           },
           {
            "bin_start": 2.4,
            "bin_end": 2.6999999999999997,
            "count": 0
           },
           {
            "bin_start": 2.6999999999999997,
            "bin_end": 3,
            "count": 1
           }
          ]
         }
        },
        {
         "name": "thal",
         "dtype": "float64",
         "stats": {
          "unique_count": 3,
          "nan_count": 0,
          "min": "3.0",
          "max": "7.0",
          "histogram": [
           {
            "bin_start": 3,
            "bin_end": 3.4,
            "count": 3
           },
           {
            "bin_start": 3.4,
            "bin_end": 3.8,
            "count": 0
           },
           {
            "bin_start": 3.8,
            "bin_end": 4.2,
            "count": 0
           },
           {
            "bin_start": 4.2,
            "bin_end": 4.6,
            "count": 0
           },
           {
            "bin_start": 4.6,
            "bin_end": 5,
            "count": 0
           },
           {
            "bin_start": 5,
            "bin_end": 5.4,
            "count": 0
           },
           {
            "bin_start": 5.4,
            "bin_end": 5.800000000000001,
            "count": 0
           },
           {
            "bin_start": 5.800000000000001,
            "bin_end": 6.2,
            "count": 1
           },
           {
            "bin_start": 6.2,
            "bin_end": 6.6,
            "count": 0
           },
           {
            "bin_start": 6.6,
            "bin_end": 7,
            "count": 1
           }
          ]
         }
        },
        {
         "name": "hdtype",
         "dtype": "int64",
         "stats": {
          "unique_count": 3,
          "nan_count": 0,
          "min": "0",
          "max": "2",
          "histogram": [
           {
            "bin_start": 0,
            "bin_end": 0.2,
            "count": 3
           },
           {
            "bin_start": 0.2,
            "bin_end": 0.4,
            "count": 0
           },
           {
            "bin_start": 0.4,
            "bin_end": 0.6000000000000001,
            "count": 0
           },
           {
            "bin_start": 0.6000000000000001,
            "bin_end": 0.8,
            "count": 0
           },
           {
            "bin_start": 0.8,
            "bin_end": 1,
            "count": 0
           },
           {
            "bin_start": 1,
            "bin_end": 1.2000000000000002,
            "count": 1
           },
           {
            "bin_start": 1.2000000000000002,
            "bin_end": 1.4000000000000001,
            "count": 0
           },
           {
            "bin_start": 1.4000000000000001,
            "bin_end": 1.6,
            "count": 0
           },
           {
            "bin_start": 1.6,
            "bin_end": 1.8,
            "count": 0
           },
           {
            "bin_start": 1.8,
            "bin_end": 2,
            "count": 1
           }
          ]
         }
        },
        {
         "name": "_deepnote_index_column",
         "dtype": "int64"
        }
       ],
       "rows_top": [
        {
         "age": 63,
         "sex": 1,
         "cp": 1,
         "trestbps": 145,
         "chol": 233,
         "fbs": 1,
         "restecg": 2,
         "thalach": 150,
         "exang": 0,
         "oldpeak": 2.3,
         "slope": 3,
         "ca": 0,
         "thal": 6,
         "hdtype": 0,
         "_deepnote_index_column": 0
        },
        {
         "age": 67,
         "sex": 1,
         "cp": 4,
         "trestbps": 160,
         "chol": 286,
         "fbs": 0,
         "restecg": 2,
         "thalach": 108,
         "exang": 1,
         "oldpeak": 1.5,
         "slope": 2,
         "ca": 3,
         "thal": 3,
         "hdtype": 2,
         "_deepnote_index_column": 1
        },
        {
         "age": 67,
         "sex": 1,
         "cp": 4,
         "trestbps": 120,
         "chol": 229,
         "fbs": 0,
         "restecg": 2,
         "thalach": 129,
         "exang": 1,
         "oldpeak": 2.6,
         "slope": 2,
         "ca": 2,
         "thal": 7,
         "hdtype": 1,
         "_deepnote_index_column": 2
        },
        {
         "age": 37,
         "sex": 1,
         "cp": 3,
         "trestbps": 130,
         "chol": 250,
         "fbs": 0,
         "restecg": 0,
         "thalach": 187,
         "exang": 0,
         "oldpeak": 3.5,
         "slope": 3,
         "ca": 0,
         "thal": 3,
         "hdtype": 0,
         "_deepnote_index_column": 3
        },
        {
         "age": 41,
         "sex": 0,
         "cp": 2,
         "trestbps": 130,
         "chol": 204,
         "fbs": 0,
         "restecg": 2,
         "thalach": 172,
         "exang": 0,
         "oldpeak": 1.4,
         "slope": 1,
         "ca": 0,
         "thal": 3,
         "hdtype": 0,
         "_deepnote_index_column": 4
        }
       ],
       "rows_bottom": null
      },
      "text/plain": "    age  sex   cp  trestbps   chol  fbs  restecg  thalach  exang  oldpeak  \\\n0  63.0  1.0  1.0     145.0  233.0  1.0      2.0    150.0    0.0      2.3   \n1  67.0  1.0  4.0     160.0  286.0  0.0      2.0    108.0    1.0      1.5   \n2  67.0  1.0  4.0     120.0  229.0  0.0      2.0    129.0    1.0      2.6   \n3  37.0  1.0  3.0     130.0  250.0  0.0      0.0    187.0    0.0      3.5   \n4  41.0  0.0  2.0     130.0  204.0  0.0      2.0    172.0    0.0      1.4   \n\n   slope   ca  thal  hdtype  \n0    3.0  0.0   6.0       0  \n1    2.0  3.0   3.0       2  \n2    2.0  2.0   7.0       1  \n3    3.0  0.0   3.0       0  \n4    1.0  0.0   3.0       0  ",
      "text/html": "<div>\n<style scoped>\n    .dataframe tbody tr th:only-of-type {\n        vertical-align: middle;\n    }\n\n    .dataframe tbody tr th {\n        vertical-align: top;\n    }\n\n    .dataframe thead th {\n        text-align: right;\n    }\n</style>\n<table border=\"1\" class=\"dataframe\">\n  <thead>\n    <tr style=\"text-align: right;\">\n      <th></th>\n      <th>age</th>\n      <th>sex</th>\n      <th>cp</th>\n      <th>trestbps</th>\n      <th>chol</th>\n      <th>fbs</th>\n      <th>restecg</th>\n      <th>thalach</th>\n      <th>exang</th>\n      <th>oldpeak</th>\n      <th>slope</th>\n      <th>ca</th>\n      <th>thal</th>\n      <th>hdtype</th>\n    </tr>\n  </thead>\n  <tbody>\n    <tr>\n      <th>0</th>\n      <td>63.0</td>\n      <td>1.0</td>\n      <td>1.0</td>\n      <td>145.0</td>\n      <td>233.0</td>\n      <td>1.0</td>\n      <td>2.0</td>\n      <td>150.0</td>\n      <td>0.0</td>\n      <td>2.3</td>\n      <td>3.0</td>\n      <td>0.0</td>\n      <td>6.0</td>\n      <td>0</td>\n    </tr>\n    <tr>\n      <th>1</th>\n      <td>67.0</td>\n      <td>1.0</td>\n      <td>4.0</td>\n      <td>160.0</td>\n      <td>286.0</td>\n      <td>0.0</td>\n      <td>2.0</td>\n      <td>108.0</td>\n      <td>1.0</td>\n      <td>1.5</td>\n      <td>2.0</td>\n      <td>3.0</td>\n      <td>3.0</td>\n      <td>2</td>\n    </tr>\n    <tr>\n      <th>2</th>\n      <td>67.0</td>\n      <td>1.0</td>\n      <td>4.0</td>\n      <td>120.0</td>\n      <td>229.0</td>\n      <td>0.0</td>\n      <td>2.0</td>\n      <td>129.0</td>\n      <td>1.0</td>\n      <td>2.6</td>\n      <td>2.0</td>\n      <td>2.0</td>\n      <td>7.0</td>\n      <td>1</td>\n    </tr>\n    <tr>\n      <th>3</th>\n      <td>37.0</td>\n      <td>1.0</td>\n      <td>3.0</td>\n      <td>130.0</td>\n      <td>250.0</td>\n      <td>0.0</td>\n      <td>0.0</td>\n      <td>187.0</td>\n      <td>0.0</td>\n      <td>3.5</td>\n      <td>3.0</td>\n      <td>0.0</td>\n      <td>3.0</td>\n      <td>0</td>\n    </tr>\n    <tr>\n      <th>4</th>\n      <td>41.0</td>\n      <td>0.0</td>\n      <td>2.0</td>\n      <td>130.0</td>\n      <td>204.0</td>\n      <td>0.0</td>\n      <td>2.0</td>\n      <td>172.0</td>\n      <td>0.0</td>\n      <td>1.4</td>\n      <td>1.0</td>\n      <td>0.0</td>\n      <td>3.0</td>\n      <td>0</td>\n    </tr>\n  </tbody>\n</table>\n</div>"
     },
     "metadata": {}
    }
   ],
   "execution_count": null
  },
  {
   "cell_type": "code",
   "metadata": {
    "colab": {
     "base_uri": "https://localhost:8080/"
    },
    "id": "9gTCmNvCxSEI",
    "outputId": "ef9f4472-f523-477e-f708-a175172ef36a",
    "cell_id": "00005-8e2bae54-4a32-4a3a-be09-4d668e46fc56",
    "deepnote_to_be_reexecuted": false,
    "source_hash": "de1e323c",
    "execution_start": 1625199694125,
    "execution_millis": 145,
    "deepnote_cell_type": "code"
   },
   "source": [
    "df.info()"
   ],
   "outputs": [
    {
     "name": "stdout",
     "text": "<class 'pandas.core.frame.DataFrame'>\nRangeIndex: 303 entries, 0 to 302\nData columns (total 14 columns):\n #   Column    Non-Null Count  Dtype  \n---  ------    --------------  -----  \n 0   age       303 non-null    float64\n 1   sex       303 non-null    float64\n 2   cp        303 non-null    float64\n 3   trestbps  303 non-null    float64\n 4   chol      303 non-null    float64\n 5   fbs       303 non-null    float64\n 6   restecg   303 non-null    float64\n 7   thalach   303 non-null    float64\n 8   exang     303 non-null    float64\n 9   oldpeak   303 non-null    float64\n 10  slope     303 non-null    float64\n 11  ca        299 non-null    float64\n 12  thal      301 non-null    float64\n 13  hdtype    303 non-null    int64  \ndtypes: float64(13), int64(1)\nmemory usage: 33.3 KB\n",
     "output_type": "stream"
    }
   ],
   "execution_count": null
  },
  {
   "cell_type": "markdown",
   "source": [
    "## Dealing with Missing Values"
   ],
   "metadata": {
    "tags": [],
    "cell_id": "00007-f7957341-2850-4a37-ba53-141e91f81561",
    "deepnote_cell_type": "markdown"
   }
  },
  {
   "cell_type": "markdown",
   "source": [
    "It appears that our dataset contains a few null values. We can confirm this using the `isna` method of our DataFrame `df`. "
   ],
   "metadata": {
    "tags": [],
    "cell_id": "00010-dcece28d-7963-4b90-83db-b45275fa5640",
    "deepnote_cell_type": "markdown"
   }
  },
  {
   "cell_type": "code",
   "metadata": {
    "colab": {
     "base_uri": "https://localhost:8080/",
     "height": 234
    },
    "id": "rB32ouVQ0Qln",
    "outputId": "a145890f-ad60-4a40-f86e-b2dcd171c339",
    "cell_id": "00006-56dcbd12-097c-4d08-87ee-a981e4933351",
    "deepnote_to_be_reexecuted": false,
    "source_hash": "27fc094",
    "execution_start": 1625199694159,
    "execution_millis": 306,
    "deepnote_cell_type": "code"
   },
   "source": [
    "df[df.isna().any(axis=1)]"
   ],
   "outputs": [
    {
     "output_type": "execute_result",
     "execution_count": 4,
     "data": {
      "application/vnd.deepnote.dataframe.v2+json": {
       "row_count": 6,
       "column_count": 14,
       "columns": [
        {
         "name": "age",
         "dtype": "float64",
         "stats": {
          "unique_count": 5,
          "nan_count": 0,
          "min": "38.0",
          "max": "58.0",
          "histogram": [
           {
            "bin_start": 38,
            "bin_end": 40,
            "count": 1
           },
           {
            "bin_start": 40,
            "bin_end": 42,
            "count": 0
           },
           {
            "bin_start": 42,
            "bin_end": 44,
            "count": 1
           },
           {
            "bin_start": 44,
            "bin_end": 46,
            "count": 0
           },
           {
            "bin_start": 46,
            "bin_end": 48,
            "count": 0
           },
           {
            "bin_start": 48,
            "bin_end": 50,
            "count": 0
           },
           {
            "bin_start": 50,
            "bin_end": 52,
            "count": 0
           },
           {
            "bin_start": 52,
            "bin_end": 54,
            "count": 3
           },
           {
            "bin_start": 54,
            "bin_end": 56,
            "count": 0
           },
           {
            "bin_start": 56,
            "bin_end": 58,
            "count": 1
           }
          ]
         }
        },
        {
         "name": "sex",
         "dtype": "float64",
         "stats": {
          "unique_count": 2,
          "nan_count": 0,
          "min": "0.0",
          "max": "1.0",
          "histogram": [
           {
            "bin_start": 0,
            "bin_end": 0.1,
            "count": 1
           },
           {
            "bin_start": 0.1,
            "bin_end": 0.2,
            "count": 0
           },
           {
            "bin_start": 0.2,
            "bin_end": 0.30000000000000004,
            "count": 0
           },
           {
            "bin_start": 0.30000000000000004,
            "bin_end": 0.4,
            "count": 0
           },
           {
            "bin_start": 0.4,
            "bin_end": 0.5,
            "count": 0
           },
           {
            "bin_start": 0.5,
            "bin_end": 0.6000000000000001,
            "count": 0
           },
           {
            "bin_start": 0.6000000000000001,
            "bin_end": 0.7000000000000001,
            "count": 0
           },
           {
            "bin_start": 0.7000000000000001,
            "bin_end": 0.8,
            "count": 0
           },
           {
            "bin_start": 0.8,
            "bin_end": 0.9,
            "count": 0
           },
           {
            "bin_start": 0.9,
            "bin_end": 1,
            "count": 5
           }
          ]
         }
        },
        {
         "name": "cp",
         "dtype": "float64",
         "stats": {
          "unique_count": 3,
          "nan_count": 0,
          "min": "2.0",
          "max": "4.0",
          "histogram": [
           {
            "bin_start": 2,
            "bin_end": 2.2,
            "count": 1
           },
           {
            "bin_start": 2.2,
            "bin_end": 2.4,
            "count": 0
           },
           {
            "bin_start": 2.4,
            "bin_end": 2.6,
            "count": 0
           },
           {
            "bin_start": 2.6,
            "bin_end": 2.8,
            "count": 0
           },
           {
            "bin_start": 2.8,
            "bin_end": 3,
            "count": 0
           },
           {
            "bin_start": 3,
            "bin_end": 3.2,
            "count": 3
           },
           {
            "bin_start": 3.2,
            "bin_end": 3.4000000000000004,
            "count": 0
           },
           {
            "bin_start": 3.4000000000000004,
            "bin_end": 3.6,
            "count": 0
           },
           {
            "bin_start": 3.6,
            "bin_end": 3.8,
            "count": 0
           },
           {
            "bin_start": 3.8,
            "bin_end": 4,
            "count": 2
           }
          ]
         }
        },
        {
         "name": "trestbps",
         "dtype": "float64",
         "stats": {
          "unique_count": 4,
          "nan_count": 0,
          "min": "125.0",
          "max": "138.0",
          "histogram": [
           {
            "bin_start": 125,
            "bin_end": 126.3,
            "count": 1
           },
           {
            "bin_start": 126.3,
            "bin_end": 127.6,
            "count": 0
           },
           {
            "bin_start": 127.6,
            "bin_end": 128.9,
            "count": 2
           },
           {
            "bin_start": 128.9,
            "bin_end": 130.2,
            "count": 0
           },
           {
            "bin_start": 130.2,
            "bin_end": 131.5,
            "count": 0
           },
           {
            "bin_start": 131.5,
            "bin_end": 132.8,
            "count": 1
           },
           {
            "bin_start": 132.8,
            "bin_end": 134.1,
            "count": 0
           },
           {
            "bin_start": 134.1,
            "bin_end": 135.4,
            "count": 0
           },
           {
            "bin_start": 135.4,
            "bin_end": 136.7,
            "count": 0
           },
           {
            "bin_start": 136.7,
            "bin_end": 138,
            "count": 2
           }
          ]
         }
        },
        {
         "name": "chol",
         "dtype": "float64",
         "stats": {
          "unique_count": 6,
          "nan_count": 0,
          "min": "175.0",
          "max": "247.0",
          "histogram": [
           {
            "bin_start": 175,
            "bin_end": 182.2,
            "count": 1
           },
           {
            "bin_start": 182.2,
            "bin_end": 189.4,
            "count": 0
           },
           {
            "bin_start": 189.4,
            "bin_end": 196.6,
            "count": 0
           },
           {
            "bin_start": 196.6,
            "bin_end": 203.8,
            "count": 0
           },
           {
            "bin_start": 203.8,
            "bin_end": 211,
            "count": 1
           },
           {
            "bin_start": 211,
            "bin_end": 218.2,
            "count": 1
           },
           {
            "bin_start": 218.2,
            "bin_end": 225.4,
            "count": 2
           },
           {
            "bin_start": 225.4,
            "bin_end": 232.6,
            "count": 0
           },
           {
            "bin_start": 232.6,
            "bin_end": 239.8,
            "count": 0
           },
           {
            "bin_start": 239.8,
            "bin_end": 247,
            "count": 1
           }
          ]
         }
        },
        {
         "name": "fbs",
         "dtype": "float64",
         "stats": {
          "unique_count": 2,
          "nan_count": 0,
          "min": "0.0",
          "max": "1.0",
          "histogram": [
           {
            "bin_start": 0,
            "bin_end": 0.1,
            "count": 4
           },
           {
            "bin_start": 0.1,
            "bin_end": 0.2,
            "count": 0
           },
           {
            "bin_start": 0.2,
            "bin_end": 0.30000000000000004,
            "count": 0
           },
           {
            "bin_start": 0.30000000000000004,
            "bin_end": 0.4,
            "count": 0
           },
           {
            "bin_start": 0.4,
            "bin_end": 0.5,
            "count": 0
           },
           {
            "bin_start": 0.5,
            "bin_end": 0.6000000000000001,
            "count": 0
           },
           {
            "bin_start": 0.6000000000000001,
            "bin_end": 0.7000000000000001,
            "count": 0
           },
           {
            "bin_start": 0.7000000000000001,
            "bin_end": 0.8,
            "count": 0
           },
           {
            "bin_start": 0.8,
            "bin_end": 0.9,
            "count": 0
           },
           {
            "bin_start": 0.9,
            "bin_end": 1,
            "count": 2
           }
          ]
         }
        },
        {
         "name": "restecg",
         "dtype": "float64",
         "stats": {
          "unique_count": 2,
          "nan_count": 0,
          "min": "0.0",
          "max": "2.0",
          "histogram": [
           {
            "bin_start": 0,
            "bin_end": 0.2,
            "count": 4
           },
           {
            "bin_start": 0.2,
            "bin_end": 0.4,
            "count": 0
           },
           {
            "bin_start": 0.4,
            "bin_end": 0.6000000000000001,
            "count": 0
           },
           {
            "bin_start": 0.6000000000000001,
            "bin_end": 0.8,
            "count": 0
           },
           {
            "bin_start": 0.8,
            "bin_end": 1,
            "count": 0
           },
           {
            "bin_start": 1,
            "bin_end": 1.2000000000000002,
            "count": 0
           },
           {
            "bin_start": 1.2000000000000002,
            "bin_end": 1.4000000000000001,
            "count": 0
           },
           {
            "bin_start": 1.4000000000000001,
            "bin_end": 1.6,
            "count": 0
           },
           {
            "bin_start": 1.6,
            "bin_end": 1.8,
            "count": 0
           },
           {
            "bin_start": 1.8,
            "bin_end": 2,
            "count": 2
           }
          ]
         }
        },
        {
         "name": "thalach",
         "dtype": "float64",
         "stats": {
          "unique_count": 6,
          "nan_count": 0,
          "min": "115.0",
          "max": "173.0",
          "histogram": [
           {
            "bin_start": 115,
            "bin_end": 120.8,
            "count": 1
           },
           {
            "bin_start": 120.8,
            "bin_end": 126.6,
            "count": 0
           },
           {
            "bin_start": 126.6,
            "bin_end": 132.4,
            "count": 0
           },
           {
            "bin_start": 132.4,
            "bin_end": 138.2,
            "count": 0
           },
           {
            "bin_start": 138.2,
            "bin_end": 144,
            "count": 1
           },
           {
            "bin_start": 144,
            "bin_end": 149.8,
            "count": 1
           },
           {
            "bin_start": 149.8,
            "bin_end": 155.6,
            "count": 0
           },
           {
            "bin_start": 155.6,
            "bin_end": 161.4,
            "count": 1
           },
           {
            "bin_start": 161.4,
            "bin_end": 167.2,
            "count": 0
           },
           {
            "bin_start": 167.2,
            "bin_end": 173,
            "count": 2
           }
          ]
         }
        },
        {
         "name": "exang",
         "dtype": "float64",
         "stats": {
          "unique_count": 2,
          "nan_count": 0,
          "min": "0.0",
          "max": "1.0",
          "histogram": [
           {
            "bin_start": 0,
            "bin_end": 0.1,
            "count": 4
           },
           {
            "bin_start": 0.1,
            "bin_end": 0.2,
            "count": 0
           },
           {
            "bin_start": 0.2,
            "bin_end": 0.30000000000000004,
            "count": 0
           },
           {
            "bin_start": 0.30000000000000004,
            "bin_end": 0.4,
            "count": 0
           },
           {
            "bin_start": 0.4,
            "bin_end": 0.5,
            "count": 0
           },
           {
            "bin_start": 0.5,
            "bin_end": 0.6000000000000001,
            "count": 0
           },
           {
            "bin_start": 0.6000000000000001,
            "bin_end": 0.7000000000000001,
            "count": 0
           },
           {
            "bin_start": 0.7000000000000001,
            "bin_end": 0.8,
            "count": 0
           },
           {
            "bin_start": 0.8,
            "bin_end": 0.9,
            "count": 0
           },
           {
            "bin_start": 0.9,
            "bin_end": 1,
            "count": 2
           }
          ]
         }
        },
        {
         "name": "oldpeak",
         "dtype": "float64",
         "stats": {
          "unique_count": 4,
          "nan_count": 0,
          "min": "0.0",
          "max": "1.0",
          "histogram": [
           {
            "bin_start": 0,
            "bin_end": 0.1,
            "count": 3
           },
           {
            "bin_start": 0.1,
            "bin_end": 0.2,
            "count": 1
           },
           {
            "bin_start": 0.2,
            "bin_end": 0.30000000000000004,
            "count": 0
           },
           {
            "bin_start": 0.30000000000000004,
            "bin_end": 0.4,
            "count": 0
           },
           {
            "bin_start": 0.4,
            "bin_end": 0.5,
            "count": 1
           },
           {
            "bin_start": 0.5,
            "bin_end": 0.6000000000000001,
            "count": 0
           },
           {
            "bin_start": 0.6000000000000001,
            "bin_end": 0.7000000000000001,
            "count": 0
           },
           {
            "bin_start": 0.7000000000000001,
            "bin_end": 0.8,
            "count": 0
           },
           {
            "bin_start": 0.8,
            "bin_end": 0.9,
            "count": 0
           },
           {
            "bin_start": 0.9,
            "bin_end": 1,
            "count": 1
           }
          ]
         }
        },
        {
         "name": "slope",
         "dtype": "float64",
         "stats": {
          "unique_count": 2,
          "nan_count": 0,
          "min": "1.0",
          "max": "2.0",
          "histogram": [
           {
            "bin_start": 1,
            "bin_end": 1.1,
            "count": 3
           },
           {
            "bin_start": 1.1,
            "bin_end": 1.2,
            "count": 0
           },
           {
            "bin_start": 1.2,
            "bin_end": 1.3,
            "count": 0
           },
           {
            "bin_start": 1.3,
            "bin_end": 1.4,
            "count": 0
           },
           {
            "bin_start": 1.4,
            "bin_end": 1.5,
            "count": 0
           },
           {
            "bin_start": 1.5,
            "bin_end": 1.6,
            "count": 0
           },
           {
            "bin_start": 1.6,
            "bin_end": 1.7000000000000002,
            "count": 0
           },
           {
            "bin_start": 1.7000000000000002,
            "bin_end": 1.8,
            "count": 0
           },
           {
            "bin_start": 1.8,
            "bin_end": 1.9,
            "count": 0
           },
           {
            "bin_start": 1.9,
            "bin_end": 2,
            "count": 3
           }
          ]
         }
        },
        {
         "name": "ca",
         "dtype": "float64",
         "stats": {
          "unique_count": 1,
          "nan_count": 4,
          "min": "0.0",
          "max": "0.0",
          "histogram": [
           {
            "bin_start": -0.5,
            "bin_end": -0.4,
            "count": 0
           },
           {
            "bin_start": -0.4,
            "bin_end": -0.3,
            "count": 0
           },
           {
            "bin_start": -0.3,
            "bin_end": -0.19999999999999996,
            "count": 0
           },
           {
            "bin_start": -0.19999999999999996,
            "bin_end": -0.09999999999999998,
            "count": 0
           },
           {
            "bin_start": -0.09999999999999998,
            "bin_end": 0,
            "count": 0
           },
           {
            "bin_start": 0,
            "bin_end": 0.10000000000000009,
            "count": 2
           },
           {
            "bin_start": 0.10000000000000009,
            "bin_end": 0.20000000000000007,
            "count": 0
           },
           {
            "bin_start": 0.20000000000000007,
            "bin_end": 0.30000000000000004,
            "count": 0
           },
           {
            "bin_start": 0.30000000000000004,
            "bin_end": 0.4,
            "count": 0
           },
           {
            "bin_start": 0.4,
            "bin_end": 0.5,
            "count": 0
           }
          ]
         }
        },
        {
         "name": "thal",
         "dtype": "float64",
         "stats": {
          "unique_count": 2,
          "nan_count": 2,
          "min": "3.0",
          "max": "7.0",
          "histogram": [
           {
            "bin_start": 3,
            "bin_end": 3.4,
            "count": 2
           },
           {
            "bin_start": 3.4,
            "bin_end": 3.8,
            "count": 0
           },
           {
            "bin_start": 3.8,
            "bin_end": 4.2,
            "count": 0
           },
           {
            "bin_start": 4.2,
            "bin_end": 4.6,
            "count": 0
           },
           {
            "bin_start": 4.6,
            "bin_end": 5,
            "count": 0
           },
           {
            "bin_start": 5,
            "bin_end": 5.4,
            "count": 0
           },
           {
            "bin_start": 5.4,
            "bin_end": 5.800000000000001,
            "count": 0
           },
           {
            "bin_start": 5.800000000000001,
            "bin_end": 6.2,
            "count": 0
           },
           {
            "bin_start": 6.2,
            "bin_end": 6.6,
            "count": 0
           },
           {
            "bin_start": 6.6,
            "bin_end": 7,
            "count": 2
           }
          ]
         }
        },
        {
         "name": "hdtype",
         "dtype": "int64",
         "stats": {
          "unique_count": 3,
          "nan_count": 0,
          "min": "0",
          "max": "2",
          "histogram": [
           {
            "bin_start": 0,
            "bin_end": 0.2,
            "count": 4
           },
           {
            "bin_start": 0.2,
            "bin_end": 0.4,
            "count": 0
           },
           {
            "bin_start": 0.4,
            "bin_end": 0.6000000000000001,
            "count": 0
           },
           {
            "bin_start": 0.6000000000000001,
            "bin_end": 0.8,
            "count": 0
           },
           {
            "bin_start": 0.8,
            "bin_end": 1,
            "count": 0
           },
           {
            "bin_start": 1,
            "bin_end": 1.2000000000000002,
            "count": 1
           },
           {
            "bin_start": 1.2000000000000002,
            "bin_end": 1.4000000000000001,
            "count": 0
           },
           {
            "bin_start": 1.4000000000000001,
            "bin_end": 1.6,
            "count": 0
           },
           {
            "bin_start": 1.6,
            "bin_end": 1.8,
            "count": 0
           },
           {
            "bin_start": 1.8,
            "bin_end": 2,
            "count": 1
           }
          ]
         }
        },
        {
         "name": "_deepnote_index_column",
         "dtype": "int64"
        }
       ],
       "rows_top": [
        {
         "age": 53,
         "sex": 0,
         "cp": 3,
         "trestbps": 128,
         "chol": 216,
         "fbs": 0,
         "restecg": 2,
         "thalach": 115,
         "exang": 0,
         "oldpeak": 0,
         "slope": 1,
         "ca": 0,
         "thal": "nan",
         "hdtype": 0,
         "_deepnote_index_column": 87
        },
        {
         "age": 52,
         "sex": 1,
         "cp": 3,
         "trestbps": 138,
         "chol": 223,
         "fbs": 0,
         "restecg": 0,
         "thalach": 169,
         "exang": 0,
         "oldpeak": 0,
         "slope": 1,
         "ca": "nan",
         "thal": 3,
         "hdtype": 0,
         "_deepnote_index_column": 166
        },
        {
         "age": 43,
         "sex": 1,
         "cp": 4,
         "trestbps": 132,
         "chol": 247,
         "fbs": 1,
         "restecg": 2,
         "thalach": 143,
         "exang": 1,
         "oldpeak": 0.1,
         "slope": 2,
         "ca": "nan",
         "thal": 7,
         "hdtype": 1,
         "_deepnote_index_column": 192
        },
        {
         "age": 52,
         "sex": 1,
         "cp": 4,
         "trestbps": 128,
         "chol": 204,
         "fbs": 1,
         "restecg": 0,
         "thalach": 156,
         "exang": 1,
         "oldpeak": 1,
         "slope": 2,
         "ca": 0,
         "thal": "nan",
         "hdtype": 2,
         "_deepnote_index_column": 266
        },
        {
         "age": 58,
         "sex": 1,
         "cp": 2,
         "trestbps": 125,
         "chol": 220,
         "fbs": 0,
         "restecg": 0,
         "thalach": 144,
         "exang": 0,
         "oldpeak": 0.4,
         "slope": 2,
         "ca": "nan",
         "thal": 7,
         "hdtype": 0,
         "_deepnote_index_column": 287
        },
        {
         "age": 38,
         "sex": 1,
         "cp": 3,
         "trestbps": 138,
         "chol": 175,
         "fbs": 0,
         "restecg": 0,
         "thalach": 173,
         "exang": 0,
         "oldpeak": 0,
         "slope": 1,
         "ca": "nan",
         "thal": 3,
         "hdtype": 0,
         "_deepnote_index_column": 302
        }
       ],
       "rows_bottom": null
      },
      "text/plain": "      age  sex   cp  trestbps   chol  fbs  restecg  thalach  exang  oldpeak  \\\n87   53.0  0.0  3.0     128.0  216.0  0.0      2.0    115.0    0.0      0.0   \n166  52.0  1.0  3.0     138.0  223.0  0.0      0.0    169.0    0.0      0.0   \n192  43.0  1.0  4.0     132.0  247.0  1.0      2.0    143.0    1.0      0.1   \n266  52.0  1.0  4.0     128.0  204.0  1.0      0.0    156.0    1.0      1.0   \n287  58.0  1.0  2.0     125.0  220.0  0.0      0.0    144.0    0.0      0.4   \n302  38.0  1.0  3.0     138.0  175.0  0.0      0.0    173.0    0.0      0.0   \n\n     slope   ca  thal  hdtype  \n87     1.0  0.0   NaN       0  \n166    1.0  NaN   3.0       0  \n192    2.0  NaN   7.0       1  \n266    2.0  0.0   NaN       2  \n287    2.0  NaN   7.0       0  \n302    1.0  NaN   3.0       0  ",
      "text/html": "<div>\n<style scoped>\n    .dataframe tbody tr th:only-of-type {\n        vertical-align: middle;\n    }\n\n    .dataframe tbody tr th {\n        vertical-align: top;\n    }\n\n    .dataframe thead th {\n        text-align: right;\n    }\n</style>\n<table border=\"1\" class=\"dataframe\">\n  <thead>\n    <tr style=\"text-align: right;\">\n      <th></th>\n      <th>age</th>\n      <th>sex</th>\n      <th>cp</th>\n      <th>trestbps</th>\n      <th>chol</th>\n      <th>fbs</th>\n      <th>restecg</th>\n      <th>thalach</th>\n      <th>exang</th>\n      <th>oldpeak</th>\n      <th>slope</th>\n      <th>ca</th>\n      <th>thal</th>\n      <th>hdtype</th>\n    </tr>\n  </thead>\n  <tbody>\n    <tr>\n      <th>87</th>\n      <td>53.0</td>\n      <td>0.0</td>\n      <td>3.0</td>\n      <td>128.0</td>\n      <td>216.0</td>\n      <td>0.0</td>\n      <td>2.0</td>\n      <td>115.0</td>\n      <td>0.0</td>\n      <td>0.0</td>\n      <td>1.0</td>\n      <td>0.0</td>\n      <td>NaN</td>\n      <td>0</td>\n    </tr>\n    <tr>\n      <th>166</th>\n      <td>52.0</td>\n      <td>1.0</td>\n      <td>3.0</td>\n      <td>138.0</td>\n      <td>223.0</td>\n      <td>0.0</td>\n      <td>0.0</td>\n      <td>169.0</td>\n      <td>0.0</td>\n      <td>0.0</td>\n      <td>1.0</td>\n      <td>NaN</td>\n      <td>3.0</td>\n      <td>0</td>\n    </tr>\n    <tr>\n      <th>192</th>\n      <td>43.0</td>\n      <td>1.0</td>\n      <td>4.0</td>\n      <td>132.0</td>\n      <td>247.0</td>\n      <td>1.0</td>\n      <td>2.0</td>\n      <td>143.0</td>\n      <td>1.0</td>\n      <td>0.1</td>\n      <td>2.0</td>\n      <td>NaN</td>\n      <td>7.0</td>\n      <td>1</td>\n    </tr>\n    <tr>\n      <th>266</th>\n      <td>52.0</td>\n      <td>1.0</td>\n      <td>4.0</td>\n      <td>128.0</td>\n      <td>204.0</td>\n      <td>1.0</td>\n      <td>0.0</td>\n      <td>156.0</td>\n      <td>1.0</td>\n      <td>1.0</td>\n      <td>2.0</td>\n      <td>0.0</td>\n      <td>NaN</td>\n      <td>2</td>\n    </tr>\n    <tr>\n      <th>287</th>\n      <td>58.0</td>\n      <td>1.0</td>\n      <td>2.0</td>\n      <td>125.0</td>\n      <td>220.0</td>\n      <td>0.0</td>\n      <td>0.0</td>\n      <td>144.0</td>\n      <td>0.0</td>\n      <td>0.4</td>\n      <td>2.0</td>\n      <td>NaN</td>\n      <td>7.0</td>\n      <td>0</td>\n    </tr>\n    <tr>\n      <th>302</th>\n      <td>38.0</td>\n      <td>1.0</td>\n      <td>3.0</td>\n      <td>138.0</td>\n      <td>175.0</td>\n      <td>0.0</td>\n      <td>0.0</td>\n      <td>173.0</td>\n      <td>0.0</td>\n      <td>0.0</td>\n      <td>1.0</td>\n      <td>NaN</td>\n      <td>3.0</td>\n      <td>0</td>\n    </tr>\n  </tbody>\n</table>\n</div>"
     },
     "metadata": {}
    }
   ],
   "execution_count": null
  },
  {
   "cell_type": "markdown",
   "source": [
    "Since there are only 6 columns in our dataset that contain missing values and since imputing data is an expensive and time consuming operation, we can just drop them. Not a lot of data are lost."
   ],
   "metadata": {
    "tags": [],
    "cell_id": "00012-aea2c8a8-852d-4d8c-8f91-09c7fd17f275",
    "deepnote_cell_type": "markdown"
   }
  },
  {
   "cell_type": "code",
   "metadata": {
    "colab": {
     "base_uri": "https://localhost:8080/"
    },
    "id": "2nHJpdII1tyd",
    "outputId": "ba958723-ed0f-498e-9a6a-79e2a2839345",
    "cell_id": "00007-c21b46c6-d538-4c42-9146-c23509617d7c",
    "deepnote_to_be_reexecuted": false,
    "source_hash": "85380c43",
    "execution_start": 1625199694373,
    "execution_millis": 92,
    "deepnote_cell_type": "code"
   },
   "source": [
    "df_nona = df.dropna()\n",
    "df_nona.shape"
   ],
   "outputs": [
    {
     "output_type": "execute_result",
     "execution_count": 5,
     "data": {
      "text/plain": "(297, 14)"
     },
     "metadata": {}
    }
   ],
   "execution_count": null
  },
  {
   "cell_type": "markdown",
   "source": [
    "## Preparing the Data"
   ],
   "metadata": {
    "tags": [],
    "cell_id": "00014-58237585-1c17-485d-8791-fe45a634cc8c",
    "deepnote_cell_type": "markdown"
   }
  },
  {
   "cell_type": "markdown",
   "source": [
    "Our main _target_ is predicting the values of `hdtype`. So everything else are called _features_."
   ],
   "metadata": {
    "tags": [],
    "cell_id": "00015-34a8d525-7686-4e4b-9bbd-659057c7b803",
    "deepnote_cell_type": "markdown"
   }
  },
  {
   "cell_type": "code",
   "metadata": {
    "id": "5oFfY16t3Hts",
    "cell_id": "00008-5c949912-c864-402f-8cdb-fc8a24954206",
    "deepnote_to_be_reexecuted": false,
    "source_hash": "b7338ef0",
    "execution_start": 1625199694374,
    "execution_millis": 43,
    "deepnote_cell_type": "code"
   },
   "source": [
    "X = df_nona.drop(columns='hdtype')\n",
    "y = df_nona.hdtype"
   ],
   "outputs": [],
   "execution_count": null
  },
  {
   "cell_type": "markdown",
   "source": [
    "Since `sklearn` can't natively handle categorical data, if we pass the dataframe as-is, it will treat the 1, 2, 3 and 4 categories of some columns (such as `cp`) as sequential values, and this affects the accuracy of the model for the worse. In order to deal with this problem, we will be **One-Hot Encoding** our categorical values using `pd.get_dummies`."
   ],
   "metadata": {
    "tags": [],
    "cell_id": "00017-e1aba827-c07e-4a44-86db-cd8769ab4552",
    "deepnote_cell_type": "markdown"
   }
  },
  {
   "cell_type": "code",
   "metadata": {
    "colab": {
     "base_uri": "https://localhost:8080/",
     "height": 223
    },
    "id": "4rnQ8lW-GNvl",
    "outputId": "851fed62-7c47-41a0-c8f0-076efd2ee2a0",
    "cell_id": "00009-8409fde4-2347-417d-9246-4a5871d5758b",
    "deepnote_to_be_reexecuted": false,
    "source_hash": "9df7ad21",
    "execution_start": 1625199694420,
    "execution_millis": 186,
    "deepnote_cell_type": "code"
   },
   "source": [
    "X_encoded = pd.get_dummies(X, columns=['cp', 'restecg', 'slope', 'thal'])\n",
    "X_encoded.head()"
   ],
   "outputs": [
    {
     "output_type": "execute_result",
     "execution_count": 7,
     "data": {
      "application/vnd.deepnote.dataframe.v2+json": {
       "row_count": 5,
       "column_count": 22,
       "columns": [
        {
         "name": "age",
         "dtype": "float64",
         "stats": {
          "unique_count": 4,
          "nan_count": 0,
          "min": "37.0",
          "max": "67.0",
          "histogram": [
           {
            "bin_start": 37,
            "bin_end": 40,
            "count": 1
           },
           {
            "bin_start": 40,
            "bin_end": 43,
            "count": 1
           },
           {
            "bin_start": 43,
            "bin_end": 46,
            "count": 0
           },
           {
            "bin_start": 46,
            "bin_end": 49,
            "count": 0
           },
           {
            "bin_start": 49,
            "bin_end": 52,
            "count": 0
           },
           {
            "bin_start": 52,
            "bin_end": 55,
            "count": 0
           },
           {
            "bin_start": 55,
            "bin_end": 58,
            "count": 0
           },
           {
            "bin_start": 58,
            "bin_end": 61,
            "count": 0
           },
           {
            "bin_start": 61,
            "bin_end": 64,
            "count": 1
           },
           {
            "bin_start": 64,
            "bin_end": 67,
            "count": 2
           }
          ]
         }
        },
        {
         "name": "sex",
         "dtype": "float64",
         "stats": {
          "unique_count": 2,
          "nan_count": 0,
          "min": "0.0",
          "max": "1.0",
          "histogram": [
           {
            "bin_start": 0,
            "bin_end": 0.1,
            "count": 1
           },
           {
            "bin_start": 0.1,
            "bin_end": 0.2,
            "count": 0
           },
           {
            "bin_start": 0.2,
            "bin_end": 0.30000000000000004,
            "count": 0
           },
           {
            "bin_start": 0.30000000000000004,
            "bin_end": 0.4,
            "count": 0
           },
           {
            "bin_start": 0.4,
            "bin_end": 0.5,
            "count": 0
           },
           {
            "bin_start": 0.5,
            "bin_end": 0.6000000000000001,
            "count": 0
           },
           {
            "bin_start": 0.6000000000000001,
            "bin_end": 0.7000000000000001,
            "count": 0
           },
           {
            "bin_start": 0.7000000000000001,
            "bin_end": 0.8,
            "count": 0
           },
           {
            "bin_start": 0.8,
            "bin_end": 0.9,
            "count": 0
           },
           {
            "bin_start": 0.9,
            "bin_end": 1,
            "count": 4
           }
          ]
         }
        },
        {
         "name": "trestbps",
         "dtype": "float64",
         "stats": {
          "unique_count": 4,
          "nan_count": 0,
          "min": "120.0",
          "max": "160.0",
          "histogram": [
           {
            "bin_start": 120,
            "bin_end": 124,
            "count": 1
           },
           {
            "bin_start": 124,
            "bin_end": 128,
            "count": 0
           },
           {
            "bin_start": 128,
            "bin_end": 132,
            "count": 2
           },
           {
            "bin_start": 132,
            "bin_end": 136,
            "count": 0
           },
           {
            "bin_start": 136,
            "bin_end": 140,
            "count": 0
           },
           {
            "bin_start": 140,
            "bin_end": 144,
            "count": 0
           },
           {
            "bin_start": 144,
            "bin_end": 148,
            "count": 1
           },
           {
            "bin_start": 148,
            "bin_end": 152,
            "count": 0
           },
           {
            "bin_start": 152,
            "bin_end": 156,
            "count": 0
           },
           {
            "bin_start": 156,
            "bin_end": 160,
            "count": 1
           }
          ]
         }
        },
        {
         "name": "chol",
         "dtype": "float64",
         "stats": {
          "unique_count": 5,
          "nan_count": 0,
          "min": "204.0",
          "max": "286.0",
          "histogram": [
           {
            "bin_start": 204,
            "bin_end": 212.2,
            "count": 1
           },
           {
            "bin_start": 212.2,
            "bin_end": 220.4,
            "count": 0
           },
           {
            "bin_start": 220.4,
            "bin_end": 228.6,
            "count": 0
           },
           {
            "bin_start": 228.6,
            "bin_end": 236.8,
            "count": 2
           },
           {
            "bin_start": 236.8,
            "bin_end": 245,
            "count": 0
           },
           {
            "bin_start": 245,
            "bin_end": 253.2,
            "count": 1
           },
           {
            "bin_start": 253.2,
            "bin_end": 261.4,
            "count": 0
           },
           {
            "bin_start": 261.4,
            "bin_end": 269.6,
            "count": 0
           },
           {
            "bin_start": 269.6,
            "bin_end": 277.8,
            "count": 0
           },
           {
            "bin_start": 277.8,
            "bin_end": 286,
            "count": 1
           }
          ]
         }
        },
        {
         "name": "fbs",
         "dtype": "float64",
         "stats": {
          "unique_count": 2,
          "nan_count": 0,
          "min": "0.0",
          "max": "1.0",
          "histogram": [
           {
            "bin_start": 0,
            "bin_end": 0.1,
            "count": 4
           },
           {
            "bin_start": 0.1,
            "bin_end": 0.2,
            "count": 0
           },
           {
            "bin_start": 0.2,
            "bin_end": 0.30000000000000004,
            "count": 0
           },
           {
            "bin_start": 0.30000000000000004,
            "bin_end": 0.4,
            "count": 0
           },
           {
            "bin_start": 0.4,
            "bin_end": 0.5,
            "count": 0
           },
           {
            "bin_start": 0.5,
            "bin_end": 0.6000000000000001,
            "count": 0
           },
           {
            "bin_start": 0.6000000000000001,
            "bin_end": 0.7000000000000001,
            "count": 0
           },
           {
            "bin_start": 0.7000000000000001,
            "bin_end": 0.8,
            "count": 0
           },
           {
            "bin_start": 0.8,
            "bin_end": 0.9,
            "count": 0
           },
           {
            "bin_start": 0.9,
            "bin_end": 1,
            "count": 1
           }
          ]
         }
        },
        {
         "name": "thalach",
         "dtype": "float64",
         "stats": {
          "unique_count": 5,
          "nan_count": 0,
          "min": "108.0",
          "max": "187.0",
          "histogram": [
           {
            "bin_start": 108,
            "bin_end": 115.9,
            "count": 1
           },
           {
            "bin_start": 115.9,
            "bin_end": 123.8,
            "count": 0
           },
           {
            "bin_start": 123.8,
            "bin_end": 131.7,
            "count": 1
           },
           {
            "bin_start": 131.7,
            "bin_end": 139.6,
            "count": 0
           },
           {
            "bin_start": 139.6,
            "bin_end": 147.5,
            "count": 0
           },
           {
            "bin_start": 147.5,
            "bin_end": 155.4,
            "count": 1
           },
           {
            "bin_start": 155.4,
            "bin_end": 163.3,
            "count": 0
           },
           {
            "bin_start": 163.3,
            "bin_end": 171.2,
            "count": 0
           },
           {
            "bin_start": 171.2,
            "bin_end": 179.10000000000002,
            "count": 1
           },
           {
            "bin_start": 179.10000000000002,
            "bin_end": 187,
            "count": 1
           }
          ]
         }
        },
        {
         "name": "exang",
         "dtype": "float64",
         "stats": {
          "unique_count": 2,
          "nan_count": 0,
          "min": "0.0",
          "max": "1.0",
          "histogram": [
           {
            "bin_start": 0,
            "bin_end": 0.1,
            "count": 3
           },
           {
            "bin_start": 0.1,
            "bin_end": 0.2,
            "count": 0
           },
           {
            "bin_start": 0.2,
            "bin_end": 0.30000000000000004,
            "count": 0
           },
           {
            "bin_start": 0.30000000000000004,
            "bin_end": 0.4,
            "count": 0
           },
           {
            "bin_start": 0.4,
            "bin_end": 0.5,
            "count": 0
           },
           {
            "bin_start": 0.5,
            "bin_end": 0.6000000000000001,
            "count": 0
           },
           {
            "bin_start": 0.6000000000000001,
            "bin_end": 0.7000000000000001,
            "count": 0
           },
           {
            "bin_start": 0.7000000000000001,
            "bin_end": 0.8,
            "count": 0
           },
           {
            "bin_start": 0.8,
            "bin_end": 0.9,
            "count": 0
           },
           {
            "bin_start": 0.9,
            "bin_end": 1,
            "count": 2
           }
          ]
         }
        },
        {
         "name": "oldpeak",
         "dtype": "float64",
         "stats": {
          "unique_count": 5,
          "nan_count": 0,
          "min": "1.4",
          "max": "3.5",
          "histogram": [
           {
            "bin_start": 1.4,
            "bin_end": 1.6099999999999999,
            "count": 2
           },
           {
            "bin_start": 1.6099999999999999,
            "bin_end": 1.8199999999999998,
            "count": 0
           },
           {
            "bin_start": 1.8199999999999998,
            "bin_end": 2.0300000000000002,
            "count": 0
           },
           {
            "bin_start": 2.0300000000000002,
            "bin_end": 2.24,
            "count": 0
           },
           {
            "bin_start": 2.24,
            "bin_end": 2.45,
            "count": 1
           },
           {
            "bin_start": 2.45,
            "bin_end": 2.66,
            "count": 1
           },
           {
            "bin_start": 2.66,
            "bin_end": 2.87,
            "count": 0
           },
           {
            "bin_start": 2.87,
            "bin_end": 3.08,
            "count": 0
           },
           {
            "bin_start": 3.08,
            "bin_end": 3.29,
            "count": 0
           },
           {
            "bin_start": 3.29,
            "bin_end": 3.5,
            "count": 1
           }
          ]
         }
        },
        {
         "name": "ca",
         "dtype": "float64",
         "stats": {
          "unique_count": 3,
          "nan_count": 0,
          "min": "0.0",
          "max": "3.0",
          "histogram": [
           {
            "bin_start": 0,
            "bin_end": 0.3,
            "count": 3
           },
           {
            "bin_start": 0.3,
            "bin_end": 0.6,
            "count": 0
           },
           {
            "bin_start": 0.6,
            "bin_end": 0.8999999999999999,
            "count": 0
           },
           {
            "bin_start": 0.8999999999999999,
            "bin_end": 1.2,
            "count": 0
           },
           {
            "bin_start": 1.2,
            "bin_end": 1.5,
            "count": 0
           },
           {
            "bin_start": 1.5,
            "bin_end": 1.7999999999999998,
            "count": 0
           },
           {
            "bin_start": 1.7999999999999998,
            "bin_end": 2.1,
            "count": 1
           },
           {
            "bin_start": 2.1,
            "bin_end": 2.4,
            "count": 0
           },
           {
            "bin_start": 2.4,
            "bin_end": 2.6999999999999997,
            "count": 0
           },
           {
            "bin_start": 2.6999999999999997,
            "bin_end": 3,
            "count": 1
           }
          ]
         }
        },
        {
         "name": "cp_1.0",
         "dtype": "uint8",
         "stats": {
          "unique_count": 2,
          "nan_count": 0,
          "min": "0",
          "max": "1",
          "histogram": [
           {
            "bin_start": 0,
            "bin_end": 0.1,
            "count": 4
           },
           {
            "bin_start": 0.1,
            "bin_end": 0.2,
            "count": 0
           },
           {
            "bin_start": 0.2,
            "bin_end": 0.30000000000000004,
            "count": 0
           },
           {
            "bin_start": 0.30000000000000004,
            "bin_end": 0.4,
            "count": 0
           },
           {
            "bin_start": 0.4,
            "bin_end": 0.5,
            "count": 0
           },
           {
            "bin_start": 0.5,
            "bin_end": 0.6000000000000001,
            "count": 0
           },
           {
            "bin_start": 0.6000000000000001,
            "bin_end": 0.7000000000000001,
            "count": 0
           },
           {
            "bin_start": 0.7000000000000001,
            "bin_end": 0.8,
            "count": 0
           },
           {
            "bin_start": 0.8,
            "bin_end": 0.9,
            "count": 0
           },
           {
            "bin_start": 0.9,
            "bin_end": 1,
            "count": 1
           }
          ]
         }
        },
        {
         "name": "cp_2.0",
         "dtype": "uint8",
         "stats": {
          "unique_count": 2,
          "nan_count": 0,
          "min": "0",
          "max": "1",
          "histogram": [
           {
            "bin_start": 0,
            "bin_end": 0.1,
            "count": 4
           },
           {
            "bin_start": 0.1,
            "bin_end": 0.2,
            "count": 0
           },
           {
            "bin_start": 0.2,
            "bin_end": 0.30000000000000004,
            "count": 0
           },
           {
            "bin_start": 0.30000000000000004,
            "bin_end": 0.4,
            "count": 0
           },
           {
            "bin_start": 0.4,
            "bin_end": 0.5,
            "count": 0
           },
           {
            "bin_start": 0.5,
            "bin_end": 0.6000000000000001,
            "count": 0
           },
           {
            "bin_start": 0.6000000000000001,
            "bin_end": 0.7000000000000001,
            "count": 0
           },
           {
            "bin_start": 0.7000000000000001,
            "bin_end": 0.8,
            "count": 0
           },
           {
            "bin_start": 0.8,
            "bin_end": 0.9,
            "count": 0
           },
           {
            "bin_start": 0.9,
            "bin_end": 1,
            "count": 1
           }
          ]
         }
        },
        {
         "name": "cp_3.0",
         "dtype": "uint8",
         "stats": {
          "unique_count": 2,
          "nan_count": 0,
          "min": "0",
          "max": "1",
          "histogram": [
           {
            "bin_start": 0,
            "bin_end": 0.1,
            "count": 4
           },
           {
            "bin_start": 0.1,
            "bin_end": 0.2,
            "count": 0
           },
           {
            "bin_start": 0.2,
            "bin_end": 0.30000000000000004,
            "count": 0
           },
           {
            "bin_start": 0.30000000000000004,
            "bin_end": 0.4,
            "count": 0
           },
           {
            "bin_start": 0.4,
            "bin_end": 0.5,
            "count": 0
           },
           {
            "bin_start": 0.5,
            "bin_end": 0.6000000000000001,
            "count": 0
           },
           {
            "bin_start": 0.6000000000000001,
            "bin_end": 0.7000000000000001,
            "count": 0
           },
           {
            "bin_start": 0.7000000000000001,
            "bin_end": 0.8,
            "count": 0
           },
           {
            "bin_start": 0.8,
            "bin_end": 0.9,
            "count": 0
           },
           {
            "bin_start": 0.9,
            "bin_end": 1,
            "count": 1
           }
          ]
         }
        },
        {
         "name": "cp_4.0",
         "dtype": "uint8",
         "stats": {
          "unique_count": 2,
          "nan_count": 0,
          "min": "0",
          "max": "1",
          "histogram": [
           {
            "bin_start": 0,
            "bin_end": 0.1,
            "count": 3
           },
           {
            "bin_start": 0.1,
            "bin_end": 0.2,
            "count": 0
           },
           {
            "bin_start": 0.2,
            "bin_end": 0.30000000000000004,
            "count": 0
           },
           {
            "bin_start": 0.30000000000000004,
            "bin_end": 0.4,
            "count": 0
           },
           {
            "bin_start": 0.4,
            "bin_end": 0.5,
            "count": 0
           },
           {
            "bin_start": 0.5,
            "bin_end": 0.6000000000000001,
            "count": 0
           },
           {
            "bin_start": 0.6000000000000001,
            "bin_end": 0.7000000000000001,
            "count": 0
           },
           {
            "bin_start": 0.7000000000000001,
            "bin_end": 0.8,
            "count": 0
           },
           {
            "bin_start": 0.8,
            "bin_end": 0.9,
            "count": 0
           },
           {
            "bin_start": 0.9,
            "bin_end": 1,
            "count": 2
           }
          ]
         }
        },
        {
         "name": "restecg_0.0",
         "dtype": "uint8",
         "stats": {
          "unique_count": 2,
          "nan_count": 0,
          "min": "0",
          "max": "1",
          "histogram": [
           {
            "bin_start": 0,
            "bin_end": 0.1,
            "count": 4
           },
           {
            "bin_start": 0.1,
            "bin_end": 0.2,
            "count": 0
           },
           {
            "bin_start": 0.2,
            "bin_end": 0.30000000000000004,
            "count": 0
           },
           {
            "bin_start": 0.30000000000000004,
            "bin_end": 0.4,
            "count": 0
           },
           {
            "bin_start": 0.4,
            "bin_end": 0.5,
            "count": 0
           },
           {
            "bin_start": 0.5,
            "bin_end": 0.6000000000000001,
            "count": 0
           },
           {
            "bin_start": 0.6000000000000001,
            "bin_end": 0.7000000000000001,
            "count": 0
           },
           {
            "bin_start": 0.7000000000000001,
            "bin_end": 0.8,
            "count": 0
           },
           {
            "bin_start": 0.8,
            "bin_end": 0.9,
            "count": 0
           },
           {
            "bin_start": 0.9,
            "bin_end": 1,
            "count": 1
           }
          ]
         }
        },
        {
         "name": "restecg_1.0",
         "dtype": "uint8",
         "stats": {
          "unique_count": 1,
          "nan_count": 0,
          "min": "0",
          "max": "0",
          "histogram": [
           {
            "bin_start": -0.5,
            "bin_end": -0.4,
            "count": 0
           },
           {
            "bin_start": -0.4,
            "bin_end": -0.3,
            "count": 0
           },
           {
            "bin_start": -0.3,
            "bin_end": -0.19999999999999996,
            "count": 0
           },
           {
            "bin_start": -0.19999999999999996,
            "bin_end": -0.09999999999999998,
            "count": 0
           },
           {
            "bin_start": -0.09999999999999998,
            "bin_end": 0,
            "count": 0
           },
           {
            "bin_start": 0,
            "bin_end": 0.10000000000000009,
            "count": 5
           },
           {
            "bin_start": 0.10000000000000009,
            "bin_end": 0.20000000000000007,
            "count": 0
           },
           {
            "bin_start": 0.20000000000000007,
            "bin_end": 0.30000000000000004,
            "count": 0
           },
           {
            "bin_start": 0.30000000000000004,
            "bin_end": 0.4,
            "count": 0
           },
           {
            "bin_start": 0.4,
            "bin_end": 0.5,
            "count": 0
           }
          ]
         }
        },
        {
         "name": "restecg_2.0",
         "dtype": "uint8",
         "stats": {
          "unique_count": 2,
          "nan_count": 0,
          "min": "0",
          "max": "1",
          "histogram": [
           {
            "bin_start": 0,
            "bin_end": 0.1,
            "count": 1
           },
           {
            "bin_start": 0.1,
            "bin_end": 0.2,
            "count": 0
           },
           {
            "bin_start": 0.2,
            "bin_end": 0.30000000000000004,
            "count": 0
           },
           {
            "bin_start": 0.30000000000000004,
            "bin_end": 0.4,
            "count": 0
           },
           {
            "bin_start": 0.4,
            "bin_end": 0.5,
            "count": 0
           },
           {
            "bin_start": 0.5,
            "bin_end": 0.6000000000000001,
            "count": 0
           },
           {
            "bin_start": 0.6000000000000001,
            "bin_end": 0.7000000000000001,
            "count": 0
           },
           {
            "bin_start": 0.7000000000000001,
            "bin_end": 0.8,
            "count": 0
           },
           {
            "bin_start": 0.8,
            "bin_end": 0.9,
            "count": 0
           },
           {
            "bin_start": 0.9,
            "bin_end": 1,
            "count": 4
           }
          ]
         }
        },
        {
         "name": "slope_1.0",
         "dtype": "uint8",
         "stats": {
          "unique_count": 2,
          "nan_count": 0,
          "min": "0",
          "max": "1",
          "histogram": [
           {
            "bin_start": 0,
            "bin_end": 0.1,
            "count": 4
           },
           {
            "bin_start": 0.1,
            "bin_end": 0.2,
            "count": 0
           },
           {
            "bin_start": 0.2,
            "bin_end": 0.30000000000000004,
            "count": 0
           },
           {
            "bin_start": 0.30000000000000004,
            "bin_end": 0.4,
            "count": 0
           },
           {
            "bin_start": 0.4,
            "bin_end": 0.5,
            "count": 0
           },
           {
            "bin_start": 0.5,
            "bin_end": 0.6000000000000001,
            "count": 0
           },
           {
            "bin_start": 0.6000000000000001,
            "bin_end": 0.7000000000000001,
            "count": 0
           },
           {
            "bin_start": 0.7000000000000001,
            "bin_end": 0.8,
            "count": 0
           },
           {
            "bin_start": 0.8,
            "bin_end": 0.9,
            "count": 0
           },
           {
            "bin_start": 0.9,
            "bin_end": 1,
            "count": 1
           }
          ]
         }
        },
        {
         "name": "slope_2.0",
         "dtype": "uint8",
         "stats": {
          "unique_count": 2,
          "nan_count": 0,
          "min": "0",
          "max": "1",
          "histogram": [
           {
            "bin_start": 0,
            "bin_end": 0.1,
            "count": 3
           },
           {
            "bin_start": 0.1,
            "bin_end": 0.2,
            "count": 0
           },
           {
            "bin_start": 0.2,
            "bin_end": 0.30000000000000004,
            "count": 0
           },
           {
            "bin_start": 0.30000000000000004,
            "bin_end": 0.4,
            "count": 0
           },
           {
            "bin_start": 0.4,
            "bin_end": 0.5,
            "count": 0
           },
           {
            "bin_start": 0.5,
            "bin_end": 0.6000000000000001,
            "count": 0
           },
           {
            "bin_start": 0.6000000000000001,
            "bin_end": 0.7000000000000001,
            "count": 0
           },
           {
            "bin_start": 0.7000000000000001,
            "bin_end": 0.8,
            "count": 0
           },
           {
            "bin_start": 0.8,
            "bin_end": 0.9,
            "count": 0
           },
           {
            "bin_start": 0.9,
            "bin_end": 1,
            "count": 2
           }
          ]
         }
        },
        {
         "name": "slope_3.0",
         "dtype": "uint8",
         "stats": {
          "unique_count": 2,
          "nan_count": 0,
          "min": "0",
          "max": "1",
          "histogram": [
           {
            "bin_start": 0,
            "bin_end": 0.1,
            "count": 3
           },
           {
            "bin_start": 0.1,
            "bin_end": 0.2,
            "count": 0
           },
           {
            "bin_start": 0.2,
            "bin_end": 0.30000000000000004,
            "count": 0
           },
           {
            "bin_start": 0.30000000000000004,
            "bin_end": 0.4,
            "count": 0
           },
           {
            "bin_start": 0.4,
            "bin_end": 0.5,
            "count": 0
           },
           {
            "bin_start": 0.5,
            "bin_end": 0.6000000000000001,
            "count": 0
           },
           {
            "bin_start": 0.6000000000000001,
            "bin_end": 0.7000000000000001,
            "count": 0
           },
           {
            "bin_start": 0.7000000000000001,
            "bin_end": 0.8,
            "count": 0
           },
           {
            "bin_start": 0.8,
            "bin_end": 0.9,
            "count": 0
           },
           {
            "bin_start": 0.9,
            "bin_end": 1,
            "count": 2
           }
          ]
         }
        },
        {
         "name": "thal_3.0",
         "dtype": "uint8",
         "stats": {
          "unique_count": 2,
          "nan_count": 0,
          "min": "0",
          "max": "1",
          "histogram": [
           {
            "bin_start": 0,
            "bin_end": 0.1,
            "count": 2
           },
           {
            "bin_start": 0.1,
            "bin_end": 0.2,
            "count": 0
           },
           {
            "bin_start": 0.2,
            "bin_end": 0.30000000000000004,
            "count": 0
           },
           {
            "bin_start": 0.30000000000000004,
            "bin_end": 0.4,
            "count": 0
           },
           {
            "bin_start": 0.4,
            "bin_end": 0.5,
            "count": 0
           },
           {
            "bin_start": 0.5,
            "bin_end": 0.6000000000000001,
            "count": 0
           },
           {
            "bin_start": 0.6000000000000001,
            "bin_end": 0.7000000000000001,
            "count": 0
           },
           {
            "bin_start": 0.7000000000000001,
            "bin_end": 0.8,
            "count": 0
           },
           {
            "bin_start": 0.8,
            "bin_end": 0.9,
            "count": 0
           },
           {
            "bin_start": 0.9,
            "bin_end": 1,
            "count": 3
           }
          ]
         }
        },
        {
         "name": "thal_6.0",
         "dtype": "uint8",
         "stats": {
          "unique_count": 2,
          "nan_count": 0,
          "min": "0",
          "max": "1",
          "histogram": [
           {
            "bin_start": 0,
            "bin_end": 0.1,
            "count": 4
           },
           {
            "bin_start": 0.1,
            "bin_end": 0.2,
            "count": 0
           },
           {
            "bin_start": 0.2,
            "bin_end": 0.30000000000000004,
            "count": 0
           },
           {
            "bin_start": 0.30000000000000004,
            "bin_end": 0.4,
            "count": 0
           },
           {
            "bin_start": 0.4,
            "bin_end": 0.5,
            "count": 0
           },
           {
            "bin_start": 0.5,
            "bin_end": 0.6000000000000001,
            "count": 0
           },
           {
            "bin_start": 0.6000000000000001,
            "bin_end": 0.7000000000000001,
            "count": 0
           },
           {
            "bin_start": 0.7000000000000001,
            "bin_end": 0.8,
            "count": 0
           },
           {
            "bin_start": 0.8,
            "bin_end": 0.9,
            "count": 0
           },
           {
            "bin_start": 0.9,
            "bin_end": 1,
            "count": 1
           }
          ]
         }
        },
        {
         "name": "thal_7.0",
         "dtype": "uint8",
         "stats": {
          "unique_count": 2,
          "nan_count": 0,
          "min": "0",
          "max": "1",
          "histogram": [
           {
            "bin_start": 0,
            "bin_end": 0.1,
            "count": 4
           },
           {
            "bin_start": 0.1,
            "bin_end": 0.2,
            "count": 0
           },
           {
            "bin_start": 0.2,
            "bin_end": 0.30000000000000004,
            "count": 0
           },
           {
            "bin_start": 0.30000000000000004,
            "bin_end": 0.4,
            "count": 0
           },
           {
            "bin_start": 0.4,
            "bin_end": 0.5,
            "count": 0
           },
           {
            "bin_start": 0.5,
            "bin_end": 0.6000000000000001,
            "count": 0
           },
           {
            "bin_start": 0.6000000000000001,
            "bin_end": 0.7000000000000001,
            "count": 0
           },
           {
            "bin_start": 0.7000000000000001,
            "bin_end": 0.8,
            "count": 0
           },
           {
            "bin_start": 0.8,
            "bin_end": 0.9,
            "count": 0
           },
           {
            "bin_start": 0.9,
            "bin_end": 1,
            "count": 1
           }
          ]
         }
        },
        {
         "name": "_deepnote_index_column",
         "dtype": "int64"
        }
       ],
       "rows_top": [
        {
         "age": 63,
         "sex": 1,
         "trestbps": 145,
         "chol": 233,
         "fbs": 1,
         "thalach": 150,
         "exang": 0,
         "oldpeak": 2.3,
         "ca": 0,
         "cp_1.0": 1,
         "cp_2.0": 0,
         "cp_3.0": 0,
         "cp_4.0": 0,
         "restecg_0.0": 0,
         "restecg_1.0": 0,
         "restecg_2.0": 1,
         "slope_1.0": 0,
         "slope_2.0": 0,
         "slope_3.0": 1,
         "thal_3.0": 0,
         "thal_6.0": 1,
         "thal_7.0": 0,
         "_deepnote_index_column": 0
        },
        {
         "age": 67,
         "sex": 1,
         "trestbps": 160,
         "chol": 286,
         "fbs": 0,
         "thalach": 108,
         "exang": 1,
         "oldpeak": 1.5,
         "ca": 3,
         "cp_1.0": 0,
         "cp_2.0": 0,
         "cp_3.0": 0,
         "cp_4.0": 1,
         "restecg_0.0": 0,
         "restecg_1.0": 0,
         "restecg_2.0": 1,
         "slope_1.0": 0,
         "slope_2.0": 1,
         "slope_3.0": 0,
         "thal_3.0": 1,
         "thal_6.0": 0,
         "thal_7.0": 0,
         "_deepnote_index_column": 1
        },
        {
         "age": 67,
         "sex": 1,
         "trestbps": 120,
         "chol": 229,
         "fbs": 0,
         "thalach": 129,
         "exang": 1,
         "oldpeak": 2.6,
         "ca": 2,
         "cp_1.0": 0,
         "cp_2.0": 0,
         "cp_3.0": 0,
         "cp_4.0": 1,
         "restecg_0.0": 0,
         "restecg_1.0": 0,
         "restecg_2.0": 1,
         "slope_1.0": 0,
         "slope_2.0": 1,
         "slope_3.0": 0,
         "thal_3.0": 0,
         "thal_6.0": 0,
         "thal_7.0": 1,
         "_deepnote_index_column": 2
        },
        {
         "age": 37,
         "sex": 1,
         "trestbps": 130,
         "chol": 250,
         "fbs": 0,
         "thalach": 187,
         "exang": 0,
         "oldpeak": 3.5,
         "ca": 0,
         "cp_1.0": 0,
         "cp_2.0": 0,
         "cp_3.0": 1,
         "cp_4.0": 0,
         "restecg_0.0": 1,
         "restecg_1.0": 0,
         "restecg_2.0": 0,
         "slope_1.0": 0,
         "slope_2.0": 0,
         "slope_3.0": 1,
         "thal_3.0": 1,
         "thal_6.0": 0,
         "thal_7.0": 0,
         "_deepnote_index_column": 3
        },
        {
         "age": 41,
         "sex": 0,
         "trestbps": 130,
         "chol": 204,
         "fbs": 0,
         "thalach": 172,
         "exang": 0,
         "oldpeak": 1.4,
         "ca": 0,
         "cp_1.0": 0,
         "cp_2.0": 1,
         "cp_3.0": 0,
         "cp_4.0": 0,
         "restecg_0.0": 0,
         "restecg_1.0": 0,
         "restecg_2.0": 1,
         "slope_1.0": 1,
         "slope_2.0": 0,
         "slope_3.0": 0,
         "thal_3.0": 1,
         "thal_6.0": 0,
         "thal_7.0": 0,
         "_deepnote_index_column": 4
        }
       ],
       "rows_bottom": null
      },
      "text/plain": "    age  sex  trestbps   chol  fbs  thalach  exang  oldpeak   ca  cp_1.0  ...  \\\n0  63.0  1.0     145.0  233.0  1.0    150.0    0.0      2.3  0.0       1  ...   \n1  67.0  1.0     160.0  286.0  0.0    108.0    1.0      1.5  3.0       0  ...   \n2  67.0  1.0     120.0  229.0  0.0    129.0    1.0      2.6  2.0       0  ...   \n3  37.0  1.0     130.0  250.0  0.0    187.0    0.0      3.5  0.0       0  ...   \n4  41.0  0.0     130.0  204.0  0.0    172.0    0.0      1.4  0.0       0  ...   \n\n   cp_4.0  restecg_0.0  restecg_1.0  restecg_2.0  slope_1.0  slope_2.0  \\\n0       0            0            0            1          0          0   \n1       1            0            0            1          0          1   \n2       1            0            0            1          0          1   \n3       0            1            0            0          0          0   \n4       0            0            0            1          1          0   \n\n   slope_3.0  thal_3.0  thal_6.0  thal_7.0  \n0          1         0         1         0  \n1          0         1         0         0  \n2          0         0         0         1  \n3          1         1         0         0  \n4          0         1         0         0  \n\n[5 rows x 22 columns]",
      "text/html": "<div>\n<style scoped>\n    .dataframe tbody tr th:only-of-type {\n        vertical-align: middle;\n    }\n\n    .dataframe tbody tr th {\n        vertical-align: top;\n    }\n\n    .dataframe thead th {\n        text-align: right;\n    }\n</style>\n<table border=\"1\" class=\"dataframe\">\n  <thead>\n    <tr style=\"text-align: right;\">\n      <th></th>\n      <th>age</th>\n      <th>sex</th>\n      <th>trestbps</th>\n      <th>chol</th>\n      <th>fbs</th>\n      <th>thalach</th>\n      <th>exang</th>\n      <th>oldpeak</th>\n      <th>ca</th>\n      <th>cp_1.0</th>\n      <th>...</th>\n      <th>cp_4.0</th>\n      <th>restecg_0.0</th>\n      <th>restecg_1.0</th>\n      <th>restecg_2.0</th>\n      <th>slope_1.0</th>\n      <th>slope_2.0</th>\n      <th>slope_3.0</th>\n      <th>thal_3.0</th>\n      <th>thal_6.0</th>\n      <th>thal_7.0</th>\n    </tr>\n  </thead>\n  <tbody>\n    <tr>\n      <th>0</th>\n      <td>63.0</td>\n      <td>1.0</td>\n      <td>145.0</td>\n      <td>233.0</td>\n      <td>1.0</td>\n      <td>150.0</td>\n      <td>0.0</td>\n      <td>2.3</td>\n      <td>0.0</td>\n      <td>1</td>\n      <td>...</td>\n      <td>0</td>\n      <td>0</td>\n      <td>0</td>\n      <td>1</td>\n      <td>0</td>\n      <td>0</td>\n      <td>1</td>\n      <td>0</td>\n      <td>1</td>\n      <td>0</td>\n    </tr>\n    <tr>\n      <th>1</th>\n      <td>67.0</td>\n      <td>1.0</td>\n      <td>160.0</td>\n      <td>286.0</td>\n      <td>0.0</td>\n      <td>108.0</td>\n      <td>1.0</td>\n      <td>1.5</td>\n      <td>3.0</td>\n      <td>0</td>\n      <td>...</td>\n      <td>1</td>\n      <td>0</td>\n      <td>0</td>\n      <td>1</td>\n      <td>0</td>\n      <td>1</td>\n      <td>0</td>\n      <td>1</td>\n      <td>0</td>\n      <td>0</td>\n    </tr>\n    <tr>\n      <th>2</th>\n      <td>67.0</td>\n      <td>1.0</td>\n      <td>120.0</td>\n      <td>229.0</td>\n      <td>0.0</td>\n      <td>129.0</td>\n      <td>1.0</td>\n      <td>2.6</td>\n      <td>2.0</td>\n      <td>0</td>\n      <td>...</td>\n      <td>1</td>\n      <td>0</td>\n      <td>0</td>\n      <td>1</td>\n      <td>0</td>\n      <td>1</td>\n      <td>0</td>\n      <td>0</td>\n      <td>0</td>\n      <td>1</td>\n    </tr>\n    <tr>\n      <th>3</th>\n      <td>37.0</td>\n      <td>1.0</td>\n      <td>130.0</td>\n      <td>250.0</td>\n      <td>0.0</td>\n      <td>187.0</td>\n      <td>0.0</td>\n      <td>3.5</td>\n      <td>0.0</td>\n      <td>0</td>\n      <td>...</td>\n      <td>0</td>\n      <td>1</td>\n      <td>0</td>\n      <td>0</td>\n      <td>0</td>\n      <td>0</td>\n      <td>1</td>\n      <td>1</td>\n      <td>0</td>\n      <td>0</td>\n    </tr>\n    <tr>\n      <th>4</th>\n      <td>41.0</td>\n      <td>0.0</td>\n      <td>130.0</td>\n      <td>204.0</td>\n      <td>0.0</td>\n      <td>172.0</td>\n      <td>0.0</td>\n      <td>1.4</td>\n      <td>0.0</td>\n      <td>0</td>\n      <td>...</td>\n      <td>0</td>\n      <td>0</td>\n      <td>0</td>\n      <td>1</td>\n      <td>1</td>\n      <td>0</td>\n      <td>0</td>\n      <td>1</td>\n      <td>0</td>\n      <td>0</td>\n    </tr>\n  </tbody>\n</table>\n<p>5 rows × 22 columns</p>\n</div>"
     },
     "metadata": {}
    }
   ],
   "execution_count": null
  },
  {
   "cell_type": "markdown",
   "source": [
    "Also, since the numbers 1-4 denote different heart diseases and 0 denotes the absence of heart disease, and since we only care about whether or not a patient has heart disease, we will be denoting the values 1-4 as `True` and 0 as `False`."
   ],
   "metadata": {
    "tags": [],
    "cell_id": "00019-055bd57c-acae-4e74-8090-416de2fe9ecc",
    "deepnote_cell_type": "markdown"
   }
  },
  {
   "cell_type": "code",
   "metadata": {
    "colab": {
     "base_uri": "https://localhost:8080/"
    },
    "id": "S5ONR2YZGSTu",
    "outputId": "887a843c-aeed-49a1-c0fa-08ce7dc7b4e2",
    "cell_id": "00010-7cb0dd42-9de7-4d3b-91c4-6cf1fe2891f6",
    "deepnote_to_be_reexecuted": false,
    "source_hash": "b190aeed",
    "execution_start": 1625199694629,
    "execution_millis": 1,
    "deepnote_cell_type": "code"
   },
   "source": [
    "y_encoded = y.astype('bool')\n",
    "y_encoded.value_counts()"
   ],
   "outputs": [
    {
     "output_type": "execute_result",
     "execution_count": 8,
     "data": {
      "text/plain": "False    160\nTrue     137\nName: hdtype, dtype: int64"
     },
     "metadata": {}
    }
   ],
   "execution_count": null
  },
  {
   "cell_type": "markdown",
   "source": [
    "We now split our data into two sets: The **train set** and the **test set**. the training set will be used to _train_ the model and the test set will be used to _evaluate_ it. We will also use the `random_state` parameter to produce consistent results across different runs."
   ],
   "metadata": {
    "tags": [],
    "cell_id": "00021-9a849675-7ea7-46a5-bd00-8c416cd1a587",
    "deepnote_cell_type": "markdown"
   }
  },
  {
   "cell_type": "code",
   "metadata": {
    "id": "y4C26cxKpyV_",
    "cell_id": "00011-cfc971ac-4b79-4014-8dab-6964d16d7948",
    "deepnote_to_be_reexecuted": false,
    "source_hash": "8bcde9a7",
    "execution_start": 1625199694629,
    "execution_millis": 66,
    "deepnote_cell_type": "code"
   },
   "source": [
    "X_train, X_test, y_train, y_test = train_test_split(X_encoded, y_encoded, random_state=42)"
   ],
   "outputs": [],
   "execution_count": null
  },
  {
   "cell_type": "markdown",
   "source": [
    "## Training a Preliminary Model"
   ],
   "metadata": {
    "tags": [],
    "cell_id": "00023-59b3fc51-c949-4d1a-9423-611a11819826",
    "deepnote_cell_type": "markdown"
   }
  },
  {
   "cell_type": "markdown",
   "source": [
    "The inital model we are going to build is going to be un-pruned; meaning it will fit the training data **perfectly**! Decision Trees are actually notorious for overfitting training data. After that, we will use methods to prune our tree and compare the results with the inital results we will now acquire."
   ],
   "metadata": {
    "tags": [],
    "cell_id": "00024-e84e33c1-79b0-4c73-8abf-9de48c9c3f8e",
    "deepnote_cell_type": "markdown"
   }
  },
  {
   "cell_type": "code",
   "metadata": {
    "colab": {
     "base_uri": "https://localhost:8080/"
    },
    "id": "vJO8V_wpuEqI",
    "outputId": "6671a0c7-2b11-4fab-9d23-40493925d825",
    "cell_id": "00012-de45f6a4-69fb-4a56-8390-2b8e6f6d313b",
    "deepnote_to_be_reexecuted": false,
    "source_hash": "35d142d6",
    "execution_start": 1625199694694,
    "execution_millis": 61,
    "deepnote_cell_type": "code"
   },
   "source": [
    "dtree = DecisionTreeClassifier(random_state=42)\n",
    "dtree.fit(X_train, y_train)"
   ],
   "outputs": [
    {
     "output_type": "execute_result",
     "execution_count": 10,
     "data": {
      "text/plain": "DecisionTreeClassifier(random_state=42)"
     },
     "metadata": {}
    }
   ],
   "execution_count": null
  },
  {
   "cell_type": "code",
   "metadata": {
    "colab": {
     "base_uri": "https://localhost:8080/",
     "height": 846
    },
    "id": "86GmGSk9uWYS",
    "outputId": "90162cbd-88c5-41a6-b27b-fcc828c77bd4",
    "cell_id": "00013-6aabffe7-935b-45d2-996c-b5ddc0921b4f",
    "deepnote_to_be_reexecuted": false,
    "source_hash": "3355cfe2",
    "execution_start": 1625199694735,
    "execution_millis": 14427,
    "deepnote_cell_type": "code"
   },
   "source": [
    "plt.figure(figsize=(50, 30))\n",
    "plot_tree(dtree, filled=True, rounded=True, feature_names=X_encoded.columns, class_names=['False', 'True'])\n",
    "plt.show()"
   ],
   "outputs": [
    {
     "data": {
      "text/plain": "<Figure size 3600x2160 with 1 Axes>",
      "image/png": "[encoded data removed]"
     },
     "metadata": {
      "needs_background": "light",
      "image/png": {
       "width": 2804,
       "height": 1645
      }
     },
     "output_type": "display_data"
    }
   ],
   "execution_count": null
  },
  {
   "cell_type": "markdown",
   "source": [
    "As you can see, the tree is HUGE! But does it actually do a good job at predicting heart disease? We answer this questiong using a `confusion_matrix`."
   ],
   "metadata": {
    "tags": [],
    "cell_id": "00027-ce20696b-5267-46ed-b87a-85c3cabbfd5d",
    "deepnote_cell_type": "markdown"
   }
  },
  {
   "cell_type": "code",
   "metadata": {
    "colab": {
     "base_uri": "https://localhost:8080/",
     "height": 279
    },
    "id": "Yd9uue3Yxlsj",
    "outputId": "1a6db99c-48ff-468e-f424-2a71f90b6039",
    "cell_id": "00014-3cd908a3-40d1-487e-a829-0b071c550ee2",
    "deepnote_to_be_reexecuted": false,
    "source_hash": "3e48fecd",
    "execution_start": 1625199709117,
    "execution_millis": 333,
    "deepnote_cell_type": "code"
   },
   "source": [
    "plot_confusion_matrix(dtree, X_test, y_test,\n",
    "                      display_labels=['No Heart Disease', 'Heart Disease'],\n",
    "                      cmap='Blues')\n",
    "plt.show()"
   ],
   "outputs": [
    {
     "data": {
      "text/plain": "<Figure size 432x288 with 2 Axes>",
      "image/png": "[encoded data removed]"
     },
     "metadata": {
      "needs_background": "light",
      "image/png": {
       "width": 387,
       "height": 262
      }
     },
     "output_type": "display_data"
    }
   ],
   "execution_count": null
  },
  {
   "cell_type": "markdown",
   "source": [
    "We can acquire the statistics of this matrix via `classification_report`."
   ],
   "metadata": {
    "tags": [],
    "cell_id": "00029-fba3acfd-8ec6-4985-a66f-9cf2d8549c91",
    "deepnote_cell_type": "markdown"
   }
  },
  {
   "cell_type": "code",
   "metadata": {
    "tags": [],
    "cell_id": "00030-a5544eb1-6820-441f-bd15-1571406ff337",
    "deepnote_to_be_reexecuted": false,
    "source_hash": "47773483",
    "execution_start": 1625199709451,
    "execution_millis": 82,
    "deepnote_cell_type": "code"
   },
   "source": [
    "y_pred = dtree.predict(X_test)\n",
    "print(classification_report(y_test, y_pred))"
   ],
   "outputs": [
    {
     "name": "stdout",
     "text": "              precision    recall  f1-score   support\n\n       False       0.82      0.74      0.78        42\n        True       0.70      0.79      0.74        33\n\n    accuracy                           0.76        75\n   macro avg       0.76      0.76      0.76        75\nweighted avg       0.77      0.76      0.76        75\n\n",
     "output_type": "stream"
    }
   ],
   "execution_count": null
  },
  {
   "cell_type": "markdown",
   "source": [
    "We can see that the accuracy of the model is about 76%. Now, we will optimize our model."
   ],
   "metadata": {
    "tags": [],
    "cell_id": "00031-365d1d3f-5240-4e81-8ce7-d3ee898784b9",
    "deepnote_cell_type": "markdown"
   }
  },
  {
   "cell_type": "markdown",
   "source": [
    "## Optimizing Our Model"
   ],
   "metadata": {
    "tags": [],
    "cell_id": "00032-9dfb0808-67d5-43d9-b389-959a008af9ba",
    "deepnote_cell_type": "markdown"
   }
  },
  {
   "cell_type": "markdown",
   "source": [
    "Minimal cost-complexity pruning is an algorithm used to prune a tree to avoid over-fitting. This algorithm is parameterized by $\\alpha > 0$ known as _the complexity parameter_. The complexity parameter is used to define the cost-complexity measure, $R_{\\alpha}(T)$ of a given tree $T$:\n",
    "\n",
    "$$\n",
    "R_{\\alpha}(T) = R(T) + \\alpha|\\tilde{T}|\n",
    "$$\n",
    "\n",
    "Where $|\\tilde{T}|$ is the number of terminal (leaf) nodes in $T$ and $R(T)$ is traditionally defined as the total misclassification rate of the terminal nodes. Therefore, higher number of terminal nodes results in higher penalty. `sklearn` will calculate different $R_{\\alpha}(T)$s for a given $\\alpha$ (by pruning trees) and use the tree with the least $R_{\\alpha}(T)$ as the chosen model.\n",
    "\n",
    "The `cost_complexity_pruning_path` method will generate different $\\alpha$ values to use with our model."
   ],
   "metadata": {
    "tags": [],
    "cell_id": "00033-49afa5c0-90e9-46d9-9a29-f5263efb587f",
    "deepnote_cell_type": "markdown"
   }
  },
  {
   "cell_type": "code",
   "metadata": {
    "id": "3PRc5eS5D1H0",
    "cell_id": "00015-e618b0d0-254e-4323-a8ec-1c8096dd3cc9",
    "deepnote_to_be_reexecuted": false,
    "source_hash": "6b739e95",
    "execution_start": 1625199709491,
    "execution_millis": 0,
    "deepnote_cell_type": "code"
   },
   "source": [
    "path = dtree.cost_complexity_pruning_path(X_train, y_train)\n",
    "ccp_alphas = path.ccp_alphas\n",
    "ccp_alphas = ccp_alphas[:-1]  # remove largest value, creating a tree with only a root"
   ],
   "outputs": [],
   "execution_count": null
  },
  {
   "cell_type": "markdown",
   "source": [
    "Create different models with different $\\alpha$ values:"
   ],
   "metadata": {
    "tags": [],
    "cell_id": "00035-0bfd1f20-5f99-43f1-a77b-f962fa3897c8",
    "deepnote_cell_type": "markdown"
   }
  },
  {
   "cell_type": "code",
   "metadata": {
    "id": "SXtI1-1bGVOK",
    "cell_id": "00016-f8da2bd7-3337-44a3-af6a-8ffe72cbe7c3",
    "deepnote_to_be_reexecuted": false,
    "source_hash": "fe358c3c",
    "execution_start": 1625199709511,
    "execution_millis": 126,
    "deepnote_cell_type": "code"
   },
   "source": [
    "dtrees = []\n",
    "for alpha in ccp_alphas:\n",
    "  dt = DecisionTreeClassifier(random_state=42, ccp_alpha=alpha)\n",
    "  dt.fit(X_train, y_train)\n",
    "  dtrees.append(dt)"
   ],
   "outputs": [],
   "execution_count": null
  },
  {
   "cell_type": "markdown",
   "source": [
    "We may now visualize the effect of different $\\alpha$ values on training and testing accuracies:"
   ],
   "metadata": {
    "tags": [],
    "cell_id": "00036-1ec37e9a-b80d-4004-b49f-d25b18775a26",
    "deepnote_cell_type": "markdown"
   }
  },
  {
   "cell_type": "code",
   "metadata": {
    "colab": {
     "base_uri": "https://localhost:8080/",
     "height": 334
    },
    "id": "tzONPrq3IFHr",
    "outputId": "cfb6ad03-c9ff-4675-8cf0-a6e2a31cafec",
    "cell_id": "00017-e3b9618a-191d-4103-a2b7-3d2b5406202e",
    "deepnote_to_be_reexecuted": false,
    "source_hash": "d9c20cd1",
    "execution_start": 1625199709656,
    "execution_millis": 527,
    "deepnote_cell_type": "code"
   },
   "source": [
    "train_scores = [dt.score(X_train, y_train) for dt in dtrees]\n",
    "test_scores = [dt.score(X_test, y_test) for dt in dtrees]\n",
    "\n",
    "plt.style.use('seaborn')\n",
    "plt.xlabel('Alpha')\n",
    "plt.ylabel('Accuracy')\n",
    "\n",
    "plt.plot(ccp_alphas, train_scores, label='Train', marker='.', drawstyle='steps-post')\n",
    "plt.plot(ccp_alphas, test_scores, label='Test', marker='.', drawstyle='steps-post')\n",
    "\n",
    "plt.legend()\n",
    "plt.show()"
   ],
   "outputs": [
    {
     "data": {
      "text/plain": "<Figure size 576x396 with 1 Axes>",
      "image/png": "[encoded data removed]"
     },
     "metadata": {
      "image/png": {
       "width": 504,
       "height": 344
      }
     },
     "output_type": "display_data"
    }
   ],
   "execution_count": null
  },
  {
   "cell_type": "markdown",
   "source": [
    "#### Addressing a Small Issue\n",
    "\n",
    "We can see that the optimal value for alpha is around 0.016 with an accuracy of around 86%. But what if the data were split in some other way? "
   ],
   "metadata": {
    "tags": [],
    "cell_id": "00039-75ab12a1-59f3-44c0-b678-53ea1e0dc913",
    "deepnote_cell_type": "markdown"
   }
  },
  {
   "cell_type": "code",
   "metadata": {
    "tags": [],
    "cell_id": "00040-b1ad238c-31f1-4c7a-ab7a-4a3835b55933",
    "deepnote_to_be_reexecuted": false,
    "source_hash": "b4ba846e",
    "execution_start": 1625199710202,
    "execution_millis": 364,
    "deepnote_cell_type": "code"
   },
   "source": [
    "dt = DecisionTreeClassifier(random_state=42, ccp_alpha=0.016)\n",
    "scores = cross_val_score(dt, X_train, y_train, cv=5)\n",
    "\n",
    "plt.plot(range(1, 6), scores, marker='d', linestyle=':')\n",
    "\n",
    "plt.xticks(range(1, 6))\n",
    "plt.xlabel('Split #')\n",
    "plt.ylabel('Alpha')\n",
    "\n",
    "plt.show()"
   ],
   "outputs": [
    {
     "data": {
      "text/plain": "<Figure size 576x396 with 1 Axes>",
      "image/png": "[encoded data removed]"
     },
     "metadata": {
      "image/png": {
       "width": 504,
       "height": 344
      }
     },
     "output_type": "display_data"
    }
   ],
   "execution_count": null
  },
  {
   "cell_type": "markdown",
   "source": [
    "We can see that a specific split (split number 1) can greatly affect the accuracy of a model. So we should try and use the mean accuracy of _a set of splits_ instead of relying on just _one single split_."
   ],
   "metadata": {
    "tags": [],
    "cell_id": "00041-539d3f09-5a17-4aa6-ad55-9ce17de569bd",
    "deepnote_cell_type": "markdown"
   }
  },
  {
   "cell_type": "code",
   "metadata": {
    "id": "OoAuI6zpJxGg",
    "cell_id": "00018-8910f92c-2797-40c5-8191-d99a2acf9b8e",
    "deepnote_to_be_reexecuted": false,
    "source_hash": "56f3a12f",
    "execution_start": 1625199710544,
    "execution_millis": 1529,
    "deepnote_cell_type": "code"
   },
   "source": [
    "alpha_loop_values = []\n",
    "for alpha in ccp_alphas:\n",
    "  dt = DecisionTreeClassifier(random_state=42, ccp_alpha=alpha)\n",
    "  scores = cross_val_score(dt, X_train, y_train, cv=5)\n",
    "  alpha_loop_values.append([alpha, np.mean(scores), np.std(scores)])"
   ],
   "outputs": [],
   "execution_count": null
  },
  {
   "cell_type": "code",
   "metadata": {
    "colab": {
     "base_uri": "https://localhost:8080/",
     "height": 378
    },
    "id": "wNfrZ39kZyYh",
    "outputId": "aae6d765-4028-47e9-8952-80fa25698a3e",
    "cell_id": "00019-2f7240c8-7e2d-480b-8903-0d31010e8442",
    "deepnote_to_be_reexecuted": false,
    "source_hash": "5da824b7",
    "execution_start": 1625199712074,
    "execution_millis": 460,
    "deepnote_cell_type": "code"
   },
   "source": [
    "alpha_results = pd.DataFrame(alpha_loop_values, columns=['alpha', 'mean_accuracy','std_accuracy'])\n",
    "alpha_results.plot(x='alpha', y='mean_accuracy', yerr='std_accuracy', marker='o', linestyle='--')\n",
    "plt.show()"
   ],
   "outputs": [
    {
     "data": {
      "text/plain": "<Figure size 576x396 with 1 Axes>",
      "image/png": "[encoded data removed]"
     },
     "metadata": {
      "image/png": {
       "width": 490,
       "height": 344
      }
     },
     "output_type": "display_data"
    }
   ],
   "execution_count": null
  },
  {
   "cell_type": "markdown",
   "source": [
    "## Building Our Final Tree"
   ],
   "metadata": {
    "tags": [],
    "cell_id": "00044-1261dcca-4407-4d16-a744-e0e8b1c41a7a",
    "deepnote_cell_type": "markdown"
   }
  },
  {
   "cell_type": "code",
   "metadata": {
    "id": "eUkPrdlmaTew",
    "cell_id": "00020-539202e0-ecb4-47e0-9e32-2c2bb025a25d",
    "deepnote_to_be_reexecuted": false,
    "source_hash": "c5074fe1",
    "execution_start": 1625199712490,
    "execution_millis": 296356688,
    "deepnote_cell_type": "code"
   },
   "source": [
    "# extract the alpha value of max score \n",
    "ideal_alpha = max(alpha_loop_values, key=lambda x: x[1])[0]"
   ],
   "outputs": [],
   "execution_count": null
  },
  {
   "cell_type": "code",
   "metadata": {
    "colab": {
     "base_uri": "https://localhost:8080/"
    },
    "id": "q8Vg0Ay4bMWS",
    "outputId": "c70c7b0e-1dba-4c5d-a938-a49d4aef4e4d",
    "cell_id": "00021-0af5a871-345b-4adb-8950-b7a7522948a5",
    "deepnote_to_be_reexecuted": false,
    "source_hash": "d2ca2cce",
    "execution_start": 1625199712512,
    "execution_millis": 296356679,
    "deepnote_cell_type": "code"
   },
   "source": [
    "# create tree using ideal alpha\n",
    "dt_pruned = DecisionTreeClassifier(random_state=42, ccp_alpha=ideal_alpha)\n",
    "dt_pruned.fit(X_train, y_train)"
   ],
   "outputs": [
    {
     "output_type": "execute_result",
     "execution_count": 21,
     "data": {
      "text/plain": "DecisionTreeClassifier(ccp_alpha=0.014224751066856332, random_state=42)"
     },
     "metadata": {}
    }
   ],
   "execution_count": null
  },
  {
   "cell_type": "code",
   "metadata": {
    "colab": {
     "base_uri": "https://localhost:8080/",
     "height": 466
    },
    "id": "krU3M-RkcO23",
    "outputId": "03291a03-8d5d-462b-bd83-bceba02e4c0f",
    "cell_id": "00022-4d0233a5-0fcd-4e21-80ff-18fc84e658e1",
    "deepnote_to_be_reexecuted": false,
    "source_hash": "4958105d",
    "execution_start": 1625199712512,
    "execution_millis": 413,
    "deepnote_cell_type": "code"
   },
   "source": [
    "plt.style.use('default')\n",
    "plot_confusion_matrix(dt_pruned, X_test, y_test,\n",
    "                      display_labels=['No Heart Disease', 'Heart Disease'],\n",
    "                      cmap='Blues')\n",
    "plt.show()"
   ],
   "outputs": [
    {
     "data": {
      "text/plain": "<Figure size 640x480 with 2 Axes>",
      "image/png": "[encoded data removed]"
     },
     "metadata": {
      "image/png": {
       "width": 610,
       "height": 432
      }
     },
     "output_type": "display_data"
    }
   ],
   "execution_count": null
  },
  {
   "cell_type": "code",
   "metadata": {
    "colab": {
     "base_uri": "https://localhost:8080/",
     "height": 807
    },
    "id": "rBYOna1bcY4Z",
    "outputId": "2ccc4987-d4fa-468f-afe9-2c042937ea5a",
    "cell_id": "00023-1b13f2ec-2461-48cb-9fbc-2acb9bd6d9cd",
    "deepnote_to_be_reexecuted": false,
    "source_hash": "e49518f",
    "execution_start": 1625199712873,
    "execution_millis": 1850,
    "deepnote_cell_type": "code"
   },
   "source": [
    "plt.figure(figsize=(14, 8))\n",
    "plot_tree(dt_pruned, filled=True, rounded=True, feature_names=X_encoded.columns, class_names=['False', 'True'])\n",
    "plt.show()"
   ],
   "outputs": [
    {
     "data": {
      "text/plain": "<Figure size 1400x800 with 1 Axes>",
      "image/png": "[encoded data removed]"
     },
     "metadata": {
      "image/png": {
       "width": 1105,
       "height": 636
      }
     },
     "output_type": "display_data"
    }
   ],
   "execution_count": null
  },
  {
   "cell_type": "code",
   "metadata": {
    "tags": [],
    "cell_id": "00049-8fcc0744-9f77-47cf-b442-67cc9255170a",
    "deepnote_to_be_reexecuted": false,
    "source_hash": "69d6357c",
    "execution_start": 1625199714658,
    "execution_millis": 84,
    "deepnote_cell_type": "code"
   },
   "source": [
    "y_pred = dt_pruned.predict(X_test)\n",
    "print(classification_report(y_test, y_pred))"
   ],
   "outputs": [
    {
     "name": "stdout",
     "text": "              precision    recall  f1-score   support\n\n       False       0.87      0.81      0.84        42\n        True       0.78      0.85      0.81        33\n\n    accuracy                           0.83        75\n   macro avg       0.82      0.83      0.83        75\nweighted avg       0.83      0.83      0.83        75\n\n",
     "output_type": "stream"
    }
   ],
   "execution_count": null
  },
  {
   "cell_type": "markdown",
   "source": [
    "We can see that the accuracy has improved to 83%!"
   ],
   "metadata": {
    "tags": [],
    "cell_id": "00050-dfe19fcf-7c40-49d5-a409-e18189d90e56",
    "deepnote_cell_type": "markdown"
   }
  },
  {
   "cell_type": "markdown",
   "source": [
    "## Conclusion"
   ],
   "metadata": {
    "tags": [],
    "cell_id": "00051-4db5788b-79d6-4550-aecb-729121a39749",
    "deepnote_cell_type": "markdown"
   }
  },
  {
   "cell_type": "markdown",
   "source": [
    "Decision Trees are great for creating models to classify different datasets. Done correctly, we can see from the chart at the top of this notebook that they can easily outperform other classification models such as SVMs."
   ],
   "metadata": {
    "tags": [],
    "cell_id": "00052-16a1349c-978d-401f-aa6e-6bccb24f5cb4",
    "deepnote_cell_type": "markdown"
   }
  }
 ],
 "nbformat": 4,
 "nbformat_minor": 0,
 "metadata": {
  "colab": {
   "name": "Predicting Heart Disease",
   "provenance": [],
   "collapsed_sections": []
  },
  "kernelspec": {
   "name": "python3",
   "display_name": "Python 3"
  },
  "language_info": {
   "name": "python"
  },
  "deepnote_notebook_id": "d1cf94bb-84b2-4a37-8870-5c19906e6a0c",
  "deepnote": {},
  "deepnote_execution_queue": []
 }
}