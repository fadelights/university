{
  "nbformat": 4,
  "nbformat_minor": 0,
  "metadata": {
    "colab": {
      "name": "Abalone",
      "provenance": [],
      "collapsed_sections": [],
      "toc_visible": true
    },
    "kernelspec": {
      "name": "python3",
      "display_name": "Python 3"
    },
    "language_info": {
      "name": "python"
    }
  },
  "cells": [
    {
      "cell_type": "markdown",
      "metadata": {
        "id": "Hn2-BNiVFSsi"
      },
      "source": [
        "# Predicting Abalone Ages Using Regression"
      ]
    },
    {
      "cell_type": "markdown",
      "metadata": {
        "id": "ck21FwKKFWuq"
      },
      "source": [
        "## Project Goals and Description"
      ]
    },
    {
      "cell_type": "markdown",
      "metadata": {
        "id": "3MwdIqH3Fe6b"
      },
      "source": [
        "**Source**\n",
        "\n",
        "Data comes from an original (non-machine-learning) study:\n",
        "\n",
        "Warwick J Nash, Tracy L Sellers, Simon R Talbot, Andrew J Cawthorn and Wes B Ford (1994)\n",
        "\n",
        "\"The Population Biology of Abalone (_Haliotis_ species) in Tasmania. I. Blacklip Abalone (_H. rubra_) from the North Coast and Islands of Bass Strait\",\n",
        "Sea Fisheries Division, Technical Report No. 48 (ISSN 1034-3288)\n",
        "\n",
        "**Data Description**\n",
        "\n",
        "Predicting the age of abalone from physical measurements. The age of abalone is determined by cutting the shell through the cone, staining it, and counting the number of rings through a microscope -- a boring and time-consuming task. Other measurements, which are easier to obtain, are used to predict the age. Further information, such as weather patterns and location (hence food availability) may be required to solve the problem.\n",
        "\n",
        "**Data Overview**\n",
        "\n",
        "- Dataset Characteristics: _Multivariate_\n",
        "- Number of Instances: _4177_\n",
        "- Area: _Life_\n",
        "- Attribute Characteristics: _Categorical, Integer, Real_\n",
        "- Number of Attributes: _8_\n",
        "- Date Donated: _1995-12-01_\n",
        "- Associated Tasks: _Classification_\n",
        "- Missing Values? _No_\n",
        "\n",
        "**Attribute Information**\n",
        "\n",
        " Name | Data Type | Measurement Unit | Description\n",
        ":-----|:----------|:-----------------|:-----------\n",
        "Sex | nominal | - | M, F, and I (infant)\n",
        "Length | continuous | mm | Longest shell measurement\n",
        "Diameter | continuous | mm | perpendicular to length\n",
        "Height | continuous | mm | with meat in shell\n",
        "Whole weight | continuous | grams | whole abalone\n",
        "Shucked weight | continuous | grams | weight of meat\n",
        "Viscera weight | continuous | grams | gut weight (after bleeding)\n",
        "Shell weight | continuous | grams | after being dried\n",
        "Rings | integer | - | +1.5 gives the age in years\n",
        "\n",
        "The number of rings is the value to predict: either as a continuous value or as a classification problem.\n",
        "\n",
        "**Accuracy Comparison of Different Models Used on This Dataset**\n",
        "\n",
        "The problem was originally encoded as a classification problem, leading to the following researches:\n",
        "\n",
        "1. Sam Waugh (1995) \"Extending and benchmarking Cascade-Correlation\", PhD\n",
        "   thesis, Computer Science Department, University of Tasmania.\n",
        "\n",
        "  - Test set performance (final 1044 examples, first 3133 used for training):\n",
        "\t  - 24.86% Cascade-Correlation (no hidden nodes)\n",
        "\t  - 26.25% Cascade-Correlation (5 hidden nodes)\n",
        "\t  - 21.5%  C4.5\n",
        "\t  -  0.0%  Linear Discriminate Analysis\n",
        "\t  -  3.57% k=5 Nearest Neighbour\n",
        "\n",
        "> _Dataset samples are highly overlapped.  Further information is required\n",
        ">\tto separate completely using affine combinations.  Other restrictions\n",
        ">\tto data set examined._\n",
        "\n",
        "2. David Clark, Zoltan Schreter, Anthony Adams \"A Quantitative Comparison of\n",
        "   Dystal and Backpropagation\", submitted to the Australian Conference on\n",
        "   Neural Networks (ACNN'96). Data set treated as a 3-category classification\n",
        "   problem (grouping ring classes 1-8, 9 and 10, and 11 on).\n",
        "\n",
        "  - Test set performance (3133 training, 1044 testing as above):\n",
        "    - 64%    Backprop\n",
        "    - 55%    Dystal\n",
        "\n",
        "I will be using a different approach to this problem: by using Regression Trees.\n",
        "\n",
        "**Why Regression [Trees]?**\n",
        "\n",
        "The original method used to solve this problem is highly inefficient; there are just too many labels to work through and too little data. A regression task would be much more suited to this type of problem.\n",
        "\n",
        "The use of trees is decided because of the uncertainty of a linear correlation between feature and target variables.\n",
        "\n",
        "**Papers Citing This Dataset**\n",
        "\n",
        "A complete list of researches on this dataset are available in [this link](https://archive.ics.uci.edu/ml/datasets/Abalone)."
      ]
    },
    {
      "cell_type": "markdown",
      "metadata": {
        "id": "rtV9nC_jOntt"
      },
      "source": [
        "## Initial Steps"
      ]
    },
    {
      "cell_type": "code",
      "metadata": {
        "id": "G_6gU4osTWBh"
      },
      "source": [
        "import numpy as np\n",
        "import matplotlib.pyplot as plt\n",
        "import pandas as pd\n",
        "\n",
        "from sklearn.tree import DecisionTreeRegressor\n",
        "from sklearn.tree import plot_tree\n",
        "\n",
        "from sklearn.model_selection import train_test_split\n",
        "from sklearn.model_selection import cross_val_score"
      ],
      "execution_count": null,
      "outputs": []
    },
    {
      "cell_type": "code",
      "metadata": {
        "colab": {
          "base_uri": "https://localhost:8080/",
          "height": 203
        },
        "id": "Ltf4wZb4Tobg",
        "outputId": "e5ecd2c8-7dc8-440f-d21b-b9613ee7a48d"
      },
      "source": [
        "df = pd.read_csv('https://archive.ics.uci.edu/ml/machine-learning-databases/abalone/abalone.data',\n",
        "                 names=['sex', 'length', 'diameter', 'height', 'wweight', 'sweight', 'vweight', 'shweight', 'rings'])\n",
        "df.head()"
      ],
      "execution_count": null,
      "outputs": [
        {
          "output_type": "execute_result",
          "data": {
            "text/html": [
              "<div>\n",
              "<style scoped>\n",
              "    .dataframe tbody tr th:only-of-type {\n",
              "        vertical-align: middle;\n",
              "    }\n",
              "\n",
              "    .dataframe tbody tr th {\n",
              "        vertical-align: top;\n",
              "    }\n",
              "\n",
              "    .dataframe thead th {\n",
              "        text-align: right;\n",
              "    }\n",
              "</style>\n",
              "<table border=\"1\" class=\"dataframe\">\n",
              "  <thead>\n",
              "    <tr style=\"text-align: right;\">\n",
              "      <th></th>\n",
              "      <th>sex</th>\n",
              "      <th>length</th>\n",
              "      <th>diameter</th>\n",
              "      <th>height</th>\n",
              "      <th>wweight</th>\n",
              "      <th>sweight</th>\n",
              "      <th>vweight</th>\n",
              "      <th>shweight</th>\n",
              "      <th>rings</th>\n",
              "    </tr>\n",
              "  </thead>\n",
              "  <tbody>\n",
              "    <tr>\n",
              "      <th>0</th>\n",
              "      <td>M</td>\n",
              "      <td>0.455</td>\n",
              "      <td>0.365</td>\n",
              "      <td>0.095</td>\n",
              "      <td>0.5140</td>\n",
              "      <td>0.2245</td>\n",
              "      <td>0.1010</td>\n",
              "      <td>0.150</td>\n",
              "      <td>15</td>\n",
              "    </tr>\n",
              "    <tr>\n",
              "      <th>1</th>\n",
              "      <td>M</td>\n",
              "      <td>0.350</td>\n",
              "      <td>0.265</td>\n",
              "      <td>0.090</td>\n",
              "      <td>0.2255</td>\n",
              "      <td>0.0995</td>\n",
              "      <td>0.0485</td>\n",
              "      <td>0.070</td>\n",
              "      <td>7</td>\n",
              "    </tr>\n",
              "    <tr>\n",
              "      <th>2</th>\n",
              "      <td>F</td>\n",
              "      <td>0.530</td>\n",
              "      <td>0.420</td>\n",
              "      <td>0.135</td>\n",
              "      <td>0.6770</td>\n",
              "      <td>0.2565</td>\n",
              "      <td>0.1415</td>\n",
              "      <td>0.210</td>\n",
              "      <td>9</td>\n",
              "    </tr>\n",
              "    <tr>\n",
              "      <th>3</th>\n",
              "      <td>M</td>\n",
              "      <td>0.440</td>\n",
              "      <td>0.365</td>\n",
              "      <td>0.125</td>\n",
              "      <td>0.5160</td>\n",
              "      <td>0.2155</td>\n",
              "      <td>0.1140</td>\n",
              "      <td>0.155</td>\n",
              "      <td>10</td>\n",
              "    </tr>\n",
              "    <tr>\n",
              "      <th>4</th>\n",
              "      <td>I</td>\n",
              "      <td>0.330</td>\n",
              "      <td>0.255</td>\n",
              "      <td>0.080</td>\n",
              "      <td>0.2050</td>\n",
              "      <td>0.0895</td>\n",
              "      <td>0.0395</td>\n",
              "      <td>0.055</td>\n",
              "      <td>7</td>\n",
              "    </tr>\n",
              "  </tbody>\n",
              "</table>\n",
              "</div>"
            ],
            "text/plain": [
              "  sex  length  diameter  height  wweight  sweight  vweight  shweight  rings\n",
              "0   M   0.455     0.365   0.095   0.5140   0.2245   0.1010     0.150     15\n",
              "1   M   0.350     0.265   0.090   0.2255   0.0995   0.0485     0.070      7\n",
              "2   F   0.530     0.420   0.135   0.6770   0.2565   0.1415     0.210      9\n",
              "3   M   0.440     0.365   0.125   0.5160   0.2155   0.1140     0.155     10\n",
              "4   I   0.330     0.255   0.080   0.2050   0.0895   0.0395     0.055      7"
            ]
          },
          "metadata": {
            "tags": []
          },
          "execution_count": 2
        }
      ]
    },
    {
      "cell_type": "code",
      "metadata": {
        "colab": {
          "base_uri": "https://localhost:8080/"
        },
        "id": "ESPy7qUTTuYt",
        "outputId": "59180f4b-da71-460b-bd82-24cfd202513c"
      },
      "source": [
        "df.info()"
      ],
      "execution_count": null,
      "outputs": [
        {
          "output_type": "stream",
          "text": [
            "<class 'pandas.core.frame.DataFrame'>\n",
            "RangeIndex: 4177 entries, 0 to 4176\n",
            "Data columns (total 9 columns):\n",
            " #   Column    Non-Null Count  Dtype  \n",
            "---  ------    --------------  -----  \n",
            " 0   sex       4177 non-null   object \n",
            " 1   length    4177 non-null   float64\n",
            " 2   diameter  4177 non-null   float64\n",
            " 3   height    4177 non-null   float64\n",
            " 4   wweight   4177 non-null   float64\n",
            " 5   sweight   4177 non-null   float64\n",
            " 6   vweight   4177 non-null   float64\n",
            " 7   shweight  4177 non-null   float64\n",
            " 8   rings     4177 non-null   int64  \n",
            "dtypes: float64(7), int64(1), object(1)\n",
            "memory usage: 293.8+ KB\n"
          ],
          "name": "stdout"
        }
      ]
    },
    {
      "cell_type": "code",
      "metadata": {
        "colab": {
          "base_uri": "https://localhost:8080/"
        },
        "id": "Ptdc0Df-VJos",
        "outputId": "3704c355-1e29-4b0a-dc74-34aceb73e2d5"
      },
      "source": [
        "df.sex.unique()"
      ],
      "execution_count": null,
      "outputs": [
        {
          "output_type": "execute_result",
          "data": {
            "text/plain": [
              "array(['M', 'F', 'I'], dtype=object)"
            ]
          },
          "metadata": {
            "tags": []
          },
          "execution_count": 4
        }
      ]
    },
    {
      "cell_type": "markdown",
      "metadata": {
        "id": "LYv8l_QwO96O"
      },
      "source": [
        "## Splitting the Data"
      ]
    },
    {
      "cell_type": "code",
      "metadata": {
        "id": "nPWx2SQoVzjh"
      },
      "source": [
        "X = df.drop(columns=['rings'])\n",
        "y = df.rings"
      ],
      "execution_count": null,
      "outputs": []
    },
    {
      "cell_type": "code",
      "metadata": {
        "colab": {
          "base_uri": "https://localhost:8080/",
          "height": 203
        },
        "id": "qC2Iku2vXP5N",
        "outputId": "8ef07238-5c1c-4016-ebf4-482597278776"
      },
      "source": [
        "X_encoded = pd.get_dummies(X, columns=['sex'])\n",
        "X_encoded.head()"
      ],
      "execution_count": null,
      "outputs": [
        {
          "output_type": "execute_result",
          "data": {
            "text/html": [
              "<div>\n",
              "<style scoped>\n",
              "    .dataframe tbody tr th:only-of-type {\n",
              "        vertical-align: middle;\n",
              "    }\n",
              "\n",
              "    .dataframe tbody tr th {\n",
              "        vertical-align: top;\n",
              "    }\n",
              "\n",
              "    .dataframe thead th {\n",
              "        text-align: right;\n",
              "    }\n",
              "</style>\n",
              "<table border=\"1\" class=\"dataframe\">\n",
              "  <thead>\n",
              "    <tr style=\"text-align: right;\">\n",
              "      <th></th>\n",
              "      <th>length</th>\n",
              "      <th>diameter</th>\n",
              "      <th>height</th>\n",
              "      <th>wweight</th>\n",
              "      <th>sweight</th>\n",
              "      <th>vweight</th>\n",
              "      <th>shweight</th>\n",
              "      <th>sex_F</th>\n",
              "      <th>sex_I</th>\n",
              "      <th>sex_M</th>\n",
              "    </tr>\n",
              "  </thead>\n",
              "  <tbody>\n",
              "    <tr>\n",
              "      <th>0</th>\n",
              "      <td>0.455</td>\n",
              "      <td>0.365</td>\n",
              "      <td>0.095</td>\n",
              "      <td>0.5140</td>\n",
              "      <td>0.2245</td>\n",
              "      <td>0.1010</td>\n",
              "      <td>0.150</td>\n",
              "      <td>0</td>\n",
              "      <td>0</td>\n",
              "      <td>1</td>\n",
              "    </tr>\n",
              "    <tr>\n",
              "      <th>1</th>\n",
              "      <td>0.350</td>\n",
              "      <td>0.265</td>\n",
              "      <td>0.090</td>\n",
              "      <td>0.2255</td>\n",
              "      <td>0.0995</td>\n",
              "      <td>0.0485</td>\n",
              "      <td>0.070</td>\n",
              "      <td>0</td>\n",
              "      <td>0</td>\n",
              "      <td>1</td>\n",
              "    </tr>\n",
              "    <tr>\n",
              "      <th>2</th>\n",
              "      <td>0.530</td>\n",
              "      <td>0.420</td>\n",
              "      <td>0.135</td>\n",
              "      <td>0.6770</td>\n",
              "      <td>0.2565</td>\n",
              "      <td>0.1415</td>\n",
              "      <td>0.210</td>\n",
              "      <td>1</td>\n",
              "      <td>0</td>\n",
              "      <td>0</td>\n",
              "    </tr>\n",
              "    <tr>\n",
              "      <th>3</th>\n",
              "      <td>0.440</td>\n",
              "      <td>0.365</td>\n",
              "      <td>0.125</td>\n",
              "      <td>0.5160</td>\n",
              "      <td>0.2155</td>\n",
              "      <td>0.1140</td>\n",
              "      <td>0.155</td>\n",
              "      <td>0</td>\n",
              "      <td>0</td>\n",
              "      <td>1</td>\n",
              "    </tr>\n",
              "    <tr>\n",
              "      <th>4</th>\n",
              "      <td>0.330</td>\n",
              "      <td>0.255</td>\n",
              "      <td>0.080</td>\n",
              "      <td>0.2050</td>\n",
              "      <td>0.0895</td>\n",
              "      <td>0.0395</td>\n",
              "      <td>0.055</td>\n",
              "      <td>0</td>\n",
              "      <td>1</td>\n",
              "      <td>0</td>\n",
              "    </tr>\n",
              "  </tbody>\n",
              "</table>\n",
              "</div>"
            ],
            "text/plain": [
              "   length  diameter  height  wweight  ...  shweight  sex_F  sex_I  sex_M\n",
              "0   0.455     0.365   0.095   0.5140  ...     0.150      0      0      1\n",
              "1   0.350     0.265   0.090   0.2255  ...     0.070      0      0      1\n",
              "2   0.530     0.420   0.135   0.6770  ...     0.210      1      0      0\n",
              "3   0.440     0.365   0.125   0.5160  ...     0.155      0      0      1\n",
              "4   0.330     0.255   0.080   0.2050  ...     0.055      0      1      0\n",
              "\n",
              "[5 rows x 10 columns]"
            ]
          },
          "metadata": {
            "tags": []
          },
          "execution_count": 6
        }
      ]
    },
    {
      "cell_type": "code",
      "metadata": {
        "id": "FX7vo-v8Zcp9"
      },
      "source": [
        "X_train, X_test, y_train, y_test = train_test_split(X_encoded, y, random_state=10)"
      ],
      "execution_count": null,
      "outputs": []
    },
    {
      "cell_type": "markdown",
      "metadata": {
        "id": "a4kRQh4AQPEL"
      },
      "source": [
        "## Training the Initial Model"
      ]
    },
    {
      "cell_type": "code",
      "metadata": {
        "colab": {
          "base_uri": "https://localhost:8080/"
        },
        "id": "9jfoA5-RXf68",
        "outputId": "9afe14f5-ff67-46b1-9f0f-f65c2611ab7e"
      },
      "source": [
        "dtr = DecisionTreeRegressor(random_state=10)\n",
        "dtr.fit(X_train, y_train)"
      ],
      "execution_count": null,
      "outputs": [
        {
          "output_type": "execute_result",
          "data": {
            "text/plain": [
              "DecisionTreeRegressor(ccp_alpha=0.0, criterion='mse', max_depth=None,\n",
              "                      max_features=None, max_leaf_nodes=None,\n",
              "                      min_impurity_decrease=0.0, min_impurity_split=None,\n",
              "                      min_samples_leaf=1, min_samples_split=2,\n",
              "                      min_weight_fraction_leaf=0.0, presort='deprecated',\n",
              "                      random_state=10, splitter='best')"
            ]
          },
          "metadata": {
            "tags": []
          },
          "execution_count": 8
        }
      ]
    },
    {
      "cell_type": "code",
      "metadata": {
        "colab": {
          "base_uri": "https://localhost:8080/"
        },
        "id": "-3LctsIRYKCV",
        "outputId": "89754519-7eeb-439b-e672-c78ba85f0b73"
      },
      "source": [
        "dtr.score(X_test, y_test)"
      ],
      "execution_count": null,
      "outputs": [
        {
          "output_type": "execute_result",
          "data": {
            "text/plain": [
              "0.14777216238713997"
            ]
          },
          "metadata": {
            "tags": []
          },
          "execution_count": 9
        }
      ]
    },
    {
      "cell_type": "markdown",
      "metadata": {
        "id": "MBYOZYVFQbEH"
      },
      "source": [
        "## Optimizing the Model"
      ]
    },
    {
      "cell_type": "code",
      "metadata": {
        "colab": {
          "base_uri": "https://localhost:8080/"
        },
        "id": "DnIhxGwUZ8iZ",
        "outputId": "d5fdc058-2134-4d97-8d06-ce21dd16b443"
      },
      "source": [
        "path = dtr.cost_complexity_pruning_path(X_train, y_train)\n",
        "ccp_alphas = path.ccp_alphas\n",
        "ccp_alphas.shape"
      ],
      "execution_count": null,
      "outputs": [
        {
          "output_type": "execute_result",
          "data": {
            "text/plain": [
              "(1422,)"
            ]
          },
          "metadata": {
            "tags": []
          },
          "execution_count": 10
        }
      ]
    },
    {
      "cell_type": "code",
      "metadata": {
        "id": "qGSikl5IcHCH"
      },
      "source": [
        "ccp_alphas = ccp_alphas[ccp_alphas < 0.2]"
      ],
      "execution_count": null,
      "outputs": []
    },
    {
      "cell_type": "code",
      "metadata": {
        "id": "5ClXubsqaYIC"
      },
      "source": [
        "dtrs = []\n",
        "for alpha in ccp_alphas:\n",
        "  dt = DecisionTreeRegressor(random_state=10, ccp_alpha=alpha)\n",
        "  dt.fit(X_train, y_train)\n",
        "  dtrs.append(dt)"
      ],
      "execution_count": null,
      "outputs": []
    },
    {
      "cell_type": "code",
      "metadata": {
        "colab": {
          "base_uri": "https://localhost:8080/",
          "height": 334
        },
        "id": "ZTLLJqjzaggt",
        "outputId": "f5a18431-b8c8-42dd-aff4-9c719c5a5ad0"
      },
      "source": [
        "train_scores = [dt.score(X_train, y_train) for dt in dtrs]\n",
        "test_scores = [dt.score(X_test, y_test) for dt in dtrs]\n",
        "\n",
        "plt.figure(figsize=(10, 5))\n",
        "plt.style.use('seaborn')\n",
        "plt.xlabel('Alpha')\n",
        "plt.ylabel('Accuracy')\n",
        "\n",
        "plt.plot(ccp_alphas, train_scores, label='Train')\n",
        "plt.plot(ccp_alphas, test_scores, label='Test')\n",
        "\n",
        "plt.legend()\n",
        "plt.show()"
      ],
      "execution_count": null,
      "outputs": [
        {
          "output_type": "display_data",
          "data": {
            "image/png": "[encoded data removed]",
            "text/plain": [
              "<Figure size 720x360 with 1 Axes>"
            ]
          },
          "metadata": {
            "tags": [],
            "needs_background": "light"
          }
        }
      ]
    },
    {
      "cell_type": "code",
      "metadata": {
        "colab": {
          "base_uri": "https://localhost:8080/"
        },
        "id": "_IwBbAx0dkU9",
        "outputId": "fe12391b-e609-402f-dc94-d8509d1e1184"
      },
      "source": [
        "test_scores = [(dt.score(X_test, y_test), dt.get_params()) for dt in dtrs]\n",
        "best_params = max(test_scores, key=lambda x: x[0])\n",
        "best_params"
      ],
      "execution_count": null,
      "outputs": [
        {
          "output_type": "execute_result",
          "data": {
            "text/plain": [
              "(0.4936880794704137,\n",
              " {'ccp_alpha': 0.06452959963127675,\n",
              "  'criterion': 'mse',\n",
              "  'max_depth': None,\n",
              "  'max_features': None,\n",
              "  'max_leaf_nodes': None,\n",
              "  'min_impurity_decrease': 0.0,\n",
              "  'min_impurity_split': None,\n",
              "  'min_samples_leaf': 1,\n",
              "  'min_samples_split': 2,\n",
              "  'min_weight_fraction_leaf': 0.0,\n",
              "  'presort': 'deprecated',\n",
              "  'random_state': 10,\n",
              "  'splitter': 'best'})"
            ]
          },
          "metadata": {
            "tags": []
          },
          "execution_count": 14
        }
      ]
    },
    {
      "cell_type": "code",
      "metadata": {
        "colab": {
          "base_uri": "https://localhost:8080/"
        },
        "id": "5bmtrvc6d6sh",
        "outputId": "e871ad21-424f-44c8-b3f9-e6472e09b418"
      },
      "source": [
        "ideal_alpha = best_params[1]['ccp_alpha']\n",
        "ideal_alpha"
      ],
      "execution_count": null,
      "outputs": [
        {
          "output_type": "execute_result",
          "data": {
            "text/plain": [
              "0.06452959963127675"
            ]
          },
          "metadata": {
            "tags": []
          },
          "execution_count": 15
        }
      ]
    }
  ]
}